{
 "cells": [
  {
   "cell_type": "markdown",
   "metadata": {
    "id": "view-in-github"
   },
   "source": [
    "<a href=\"https://colab.research.google.com/github/CIS-519/coding-hw-dev/blob/master/hw0/solution.ipynb\" target=\"_parent\"><img src=\"https://colab.research.google.com/assets/colab-badge.svg\" alt=\"Open In Colab\"/></a>"
   ]
  },
  {
   "attachments": {},
   "cell_type": "markdown",
   "metadata": {
    "id": "NYgS-FIzhkLT"
   },
   "source": [
    "# **SSU CSE 2150508501 2025-1 - Homework 1**"
   ]
  },
  {
   "attachments": {},
   "cell_type": "markdown",
   "metadata": {},
   "source": [
    "### **NOTE**: \"manually graded\" should be submitted along with the written homework solutions"
   ]
  },
  {
   "attachments": {},
   "cell_type": "markdown",
   "metadata": {
    "id": "KxzqsGeyrmRG"
   },
   "source": [
    "## **Intro to Python Libraries**\n",
    "In this assignment, we will get acquainted with several important data libraries for machine learning.  The assumption here is that you have already, if necessary, done a thorough review of the basics of python, as in [this series](https://realpython.com/courses/python-turtle-beginners/).\n",
    "\n",
    "\n",
    "## Imports\n",
    "Let's import 2 data-related packages we will use throughout this course: numpy, and pandas."
   ]
  },
  {
   "cell_type": "code",
   "metadata": {
    "id": "3fabi-gZs-Bp"
   },
   "source": [
    "import numpy as np\n",
    "import pandas as pd\n",
    "import matplotlib.pyplot as plt\n",
    "import math\n",
    "import os\n",
    "\n",
    "from pandas.io.pytables import dropna_doc\n",
    "\n",
    "NOTEBOOK = (os.getenv('IS_AUTOGRADER') is None)\n",
    "NOTEBOOK"
   ],
   "outputs": [],
   "execution_count": null
  },
  {
   "cell_type": "markdown",
   "metadata": {
    "id": "jFJomUFuH0UV"
   },
   "source": [
    "## Numpy\n",
    "\n",
    "`numpy` is the typical library used to work with arrays.  You can either convert python lists into arrays, or use one of the many libraries which works with arrays, such as `sklearn`"
   ]
  },
  {
   "cell_type": "markdown",
   "metadata": {
    "id": "qQnWfo_vILPj"
   },
   "source": [
    "**Question 1a (5 points):** In the following assignment, you will create a function which returns a numpy array using the method np.array(xs), where xs is a list.  The function should take a positive integer n, and return $[e^0 = 1, e^1 = e,..., e^n]$."
   ]
  },
  {
   "cell_type": "code",
   "metadata": {
    "id": "-sc00FC6JUr-"
   },
   "source": [
    "def exps_up_to_n(n : int) -> np.array:\n",
    "    '''\n",
    "    inputs: a number n.\n",
    "    outputs: a numpy array X with shape (n + 1), such that for all i between 0 and n (inclusive), X[i] = e^i.\n",
    "    Useful functions are math.exp and range'''\n",
    "    # STUDENT TODO START:\n",
    "    return np.array([math.exp(i) for i in range(0, n + 1)])\n",
    "    # STUDENT TODO END"
   ],
   "outputs": [],
   "execution_count": null
  },
  {
   "cell_type": "code",
   "metadata": {
    "id": "30aCXSNpipyV"
   },
   "source": [
    "exps_up_to_n(10)"
   ],
   "outputs": [],
   "execution_count": null
  },
  {
   "attachments": {},
   "cell_type": "markdown",
   "metadata": {
    "id": "JBoEKQVL3dpK"
   },
   "source": [
    "Included in every question is one or more test cases that can be used to check if your implementation is likely to satisfy the grader."
   ]
  },
  {
   "cell_type": "code",
   "metadata": {
    "id": "zSh5-CS53kuR"
   },
   "source": [
    "# local test case\n",
    "def test_eval_exps():\n",
    "    \"\"\"We will have hidden values for n in the real gradescope\"\"\"\n",
    "    n = 5\n",
    "    val = map(int, exps_up_to_n(n))\n",
    "    assert(list(val) == [1,2,7,20,54,148])\n",
    "\n",
    "# run local test case only in the notebook\n",
    "if NOTEBOOK:\n",
    "  test_eval_exps()"
   ],
   "outputs": [],
   "execution_count": null
  },
  {
   "attachments": {},
   "cell_type": "markdown",
   "metadata": {
    "id": "kgWtUx18U3s2"
   },
   "source": [
    "**Question 1b (10 points):** You will find the mean and standard deviation of a numpy array.  Note that this can be done without numpy library functions, although it is much easier with such functions - either version will receive full points if correct.  Partial credit will be awarded if either the mean or standard deviation is computed correctly, but the other is not."
   ]
  },
  {
   "cell_type": "code",
   "metadata": {
    "id": "zib-0POKVYPM"
   },
   "source": [
    "def mean_standard_dev_tuple_from_xs(xs : np.array):\n",
    "    '''\n",
    "    inputs: a numpy array xs\n",
    "    outputs: a tuple (mu, sigma), where mu is the mean of xs, and sigma is the standard deviation of xs.\n",
    "    '''\n",
    "    # STUDENT TODO START:\n",
    "    mean: float = np.mean(xs) # 평균\n",
    "    standard_deviation: float = np.std(xs) # 표준 편차\n",
    "    return mean, standard_deviation\n",
    "    # STUDENT TODO END"
   ],
   "outputs": [],
   "execution_count": null
  },
  {
   "cell_type": "code",
   "metadata": {
    "id": "grHXKLHL3uVg"
   },
   "source": [
    "def test_mean_standard_dev_tuple_from_xs_1():\n",
    "        \"\"\"We will have hidden values for xs in the real gradescope\"\"\"\n",
    "        xs = [math.exp(i*2.1)/3 for i in range(10)]\n",
    "        assert(int(mean_standard_dev_tuple_from_xs(xs)[0]) == 6134451)\n",
    "\n",
    "def test_mean_standard_dev_tuple_from_xs_2():\n",
    "        \"\"\"We will have hidden values for xs in the real gradescope\"\"\"\n",
    "        xs = [math.exp(i*2.1)/3 for i in range(10)]\n",
    "        assert(int(mean_standard_dev_tuple_from_xs(xs)[1]) == 16017926)\n",
    "\n",
    "# run test cases\n",
    "if NOTEBOOK:\n",
    "  test_mean_standard_dev_tuple_from_xs_1()\n",
    "  test_mean_standard_dev_tuple_from_xs_2()"
   ],
   "outputs": [],
   "execution_count": null
  },
  {
   "cell_type": "markdown",
   "metadata": {
    "id": "7FL_ZjHKKBd2"
   },
   "source": [
    "## Pandas\n",
    "Another common way of organizing code is with the Pandas library.  Pandas represents data as DataFrames and Series, where Series are vectors of dara and DataFrames represent labeled sets of Series.  We'll use a dataframe provided by a data collection in a library called seaborn."
   ]
  },
  {
   "cell_type": "code",
   "metadata": {
    "colab": {
     "base_uri": "https://localhost:8080/",
     "height": 423
    },
    "id": "t66VqXMkKmz-",
    "outputId": "e6c4ba91-665d-4484-8ee0-16549dc10ddd"
   },
   "source": [
    "import seaborn as sns\n",
    "iris = sns.load_dataset('iris')\n",
    "\n",
    "iris"
   ],
   "outputs": [],
   "execution_count": null
  },
  {
   "cell_type": "markdown",
   "metadata": {
    "id": "xcGKMc9SNDge"
   },
   "source": [
    "This dataset is one of the most commonly used introductions to data science.  It involves 4 features, which are all real numbers between 0 and some maximum size.  Later, we'll learn how to use those features to predict a label associated with each data point (what type of flower it represents).  For now, we'll learn how to find the subset of the data with a given label."
   ]
  },
  {
   "cell_type": "code",
   "metadata": {
    "id": "sEOgNyIeNdtu"
   },
   "source": [
    "iris.iloc[np.where(iris[\"species\"] == \"setosa\")[0]]"
   ],
   "outputs": [],
   "execution_count": null
  },
  {
   "attachments": {},
   "cell_type": "markdown",
   "metadata": {
    "id": "ivBWrSMQO6f1"
   },
   "source": [
    "**Question 2 (10 points)**: Your assignment is to write a function which takes a flower class, one of either \"setosa\", \"versicolor,\" or \"virginica,\" and a number $n$, and return the mean sepal length of the top n flowers of that class, sorted by sepal width (so the mean sepal length of the n flowers with the highest sepal width out of all flowers in the class.)"
   ]
  },
  {
   "cell_type": "code",
   "metadata": {
    "id": "yl9bbuNTPcBl"
   },
   "source": [
    "def get_mean_sepal_length_from_class_top_n_width(iris, flower_class:str, n:int) -> float:\n",
    "    '''\n",
    "    inputs: the iris dataset, a flower_class string and a positive integer\n",
    "    output: a floating point number\n",
    "    using the iris dataset provided above as a pandas DataFrame,\n",
    "    a) obtain only those datapoints which correspond to the given class\n",
    "    b) find the top n of that subset according to sepal width\n",
    "    c) return the mean sepal length of that smaller subset\n",
    "    '''\n",
    "    # STUDENT TODO START:\n",
    "    filtered: np.array = iris.iloc[np.where(iris[\"species\"] == flower_class)[0]] # \"species\"열에서 flower_class에 해당하는 값만 필터링\n",
    "    sorted_by_sepal_width_top_n: np.array = filtered.sort_values(by=[\"sepal_width\"], ascending=False)[:n] # np.sort_values를 통해 \"sepal_width\"열을 기준으로 내림차순 정렬 후, list slicing을 통해 상위 n개만 추출\n",
    "    return np.mean(sorted_by_sepal_width_top_n[\"sepal_length\"]) # 평균 계산해서 반환\n",
    "    # STUDENT TODO END"
   ],
   "outputs": [],
   "execution_count": null
  },
  {
   "cell_type": "code",
   "metadata": {
    "id": "6CXO4RGi4GlE"
   },
   "source": [
    "def test_get_mean():\n",
    "    \"\"\"We will have hidden values for species and n in the real gradescope\"\"\"\n",
    "    n = 5\n",
    "    species = \"setosa\"\n",
    "    species_top_n = [5.7, 5.5, 5.2, 5.8, 5.4]\n",
    "    species_mean = round(get_mean_sepal_length_from_class_top_n_width(iris, species, n), 2)\n",
    "    assert (species_mean == 5.52)\n",
    "\n",
    "# run test case\n",
    "if NOTEBOOK:\n",
    "  test_get_mean()"
   ],
   "outputs": [],
   "execution_count": null
  },
  {
   "cell_type": "markdown",
   "metadata": {
    "id": "OI9SfQ3fRqJ8"
   },
   "source": [
    "**Question 3 (10 points):** Your next task is to take a subset of the iris dataset, which will only have the first n examples of each species; then return a copy of the modified subset that has an integer-valued instead of a string-valued \"species\" column. 0 corresponds to \"setosa\", 1 corresponds to \"versicolor\", and 2 corresponds to \"virginica\".  As we will learn, using \"integer-based categorical representations\" is quite useful in many classification tasks and other types of tasks involving variables associated with different categories."
   ]
  },
  {
   "cell_type": "code",
   "metadata": {
    "id": "AbKmUdYsSRQj"
   },
   "source": [
    "def string_to_categorical_int(iris, n : int) -> pd.DataFrame:\n",
    "    '''\n",
    "    input: the iris dataset, a positive integer n\n",
    "    output: a new dataframe df2 which contains the same data as df except\n",
    "    a) only the first n examples of each species are retained\n",
    "    b) the species labels are converted from strings to integers between 0 and 2 according to the above scheme\n",
    "    '''\n",
    "    # STUDENT TODO START:\n",
    "    classified_setosa: np.array = iris.iloc[np.where(iris[\"species\"] == \"setosa\")[0]][:n]\n",
    "    classified_versicolor: np.array = iris.iloc[np.where(iris[\"species\"] == \"versicolor\")[0]][:n]\n",
    "    classified_virginica: np.array = iris.iloc[np.where(iris[\"species\"] == \"virginica\")[0]][:n]\n",
    "\n",
    "    df2 = pd.concat([classified_setosa, classified_versicolor, classified_virginica]) # pd.concat을 통해 np.array 합칠 수 있음\n",
    "    df2[\"species\"] = df2[\"species\"].map({\"setosa\": 0, \"versicolor\": 1, \"virginica\": 2}) # pd.concat을 통해 특정 열에에 대해 특정 값을 mapping할 수 있음\n",
    "    return df2\n",
    "    # STUDENT TODO END"
   ],
   "outputs": [],
   "execution_count": null
  },
  {
   "cell_type": "code",
   "metadata": {
    "id": "B4pySlZ14OVn"
   },
   "source": [
    "def test_string_to_cat1():\n",
    "        \"\"\"We will have hidden values for species, n and column in the real gradescope\"\"\"\n",
    "        n = 5\n",
    "        df2 = string_to_categorical_int(iris, n)\n",
    "        species = \"setosa\"\n",
    "        species_cat = {\"setosa\":0, \"versicolor\":1, \"virginica\":2}[species]\n",
    "        column = \"species\"\n",
    "        assert (df2[column].tolist() == [0, 0, 0, 0, 0, 1, 1, 1, 1, 1, 2, 2, 2, 2, 2])\n",
    "\n",
    "def test_string_to_cat2():\n",
    "        n = 5\n",
    "        \"\"\"We will have hidden values for species, n and column in the real gradescope\"\"\"\n",
    "        df2 = string_to_categorical_int(iris, n)\n",
    "        species = \"setosa\"\n",
    "        species_cat = {\"setosa\":0, \"versicolor\":1, \"virginica\":2}[species]\n",
    "        column = \"sepal_length\"\n",
    "        column_vals_df2 = [5.1, 4.9, 4.7, 4.6, 5.0, 7.0, 6.4, 6.9, 5.5, 6.5, 6.3, 5.8, 7.1, 6.3, 6.5]\n",
    "        assert (df2[column].tolist() == column_vals_df2)\n",
    "\n",
    "def test_string_to_cat3():\n",
    "        \"\"\"We will have hidden values for n in the real gradescope\"\"\"\n",
    "        n = 5\n",
    "        df2 = string_to_categorical_int(iris, n)\n",
    "        assert (np.all(df2.columns == iris.columns))\n",
    "\n",
    "# run test cases\n",
    "if NOTEBOOK:\n",
    "  test_string_to_cat1()\n",
    "  test_string_to_cat2()\n",
    "  test_string_to_cat3()"
   ],
   "outputs": [],
   "execution_count": null
  },
  {
   "attachments": {},
   "cell_type": "markdown",
   "metadata": {},
   "source": [
    "## **Datasets**\n",
    "Next, we will download all datasets from Google Drive to your local runtime. After successful download, you may verify that all datasets are present in your colab instance or your run directory.\n",
    "\n",
    "HW1 Datasets:\n",
    "- [CSE-SSU_hw1_diabetes_train.csv](https://drive.google.com/file/d/1w9_4pyJuG9KC3cg00ILhZRdkjqhEuNtD/view?usp=sharing)\n",
    "- [CSE-SSU_hw1_diabetes_test.csv](https://drive.google.com/file/d/1W0kVVfR1DIGxgmH_oY1MBpPMcPslR8T8/view?usp=sharing)"
   ]
  },
  {
   "cell_type": "code",
   "metadata": {},
   "source": [
    "train_df = pd.read_csv(\"CSE-SSU_hw1_diabetes_train.csv\")\n",
    "train_df"
   ],
   "outputs": [],
   "execution_count": null
  },
  {
   "attachments": {},
   "cell_type": "markdown",
   "metadata": {},
   "source": [
    "# **4. Logistic Regression**"
   ]
  },
  {
   "attachments": {},
   "cell_type": "markdown",
   "metadata": {},
   "source": [
    "## **4.1. Logistic Regression Implementation [18 pts]**\n",
    "\n",
    "Implement logistic regression with both L1 and L2 regularization by completing the LogisticRegression class.  \n",
    "\n",
    "Your class must implement the following API:\n",
    "\n",
    "* `__init__(alpha, tol, max_iter, theta_init, penalty, lambd)`\n",
    "* `sigmoid(x)`\n",
    "* `compute_cost(theta, X, y)`\n",
    "* `compute_gradient(theta, X, y)`\n",
    "* `has_converged(theta_old, theta_new)`\n",
    "* `fit(X, y)`\n",
    "* `predict_proba(X)`\n",
    "* `predict(X)`\n",
    "\n",
    "Note that these methods have already been defined correctly for you in the LogisticRegression class. **DO NOT** change the API.\n",
    "\n",
    "---\n",
    "\n",
    "### **4.1.1. Sigmoid Function [1 pt]**\n",
    "\n",
    "You should begin by implementing the `sigmoid` function.  As you may know, the sigmoid function $\\sigma(x)$ is mathematically defined as follows.\n",
    "\n",
    "> $\\sigma(x) = \\frac{1}{1\\ +\\ \\text{exp}(-x)}$\n",
    "\n",
    "**Be certain that your sigmoid function works with both vectors and matrices** --- for either a vector or a matrix, you function should perform the sigmoid function on every element.\n",
    "\n",
    "---\n",
    "\n",
    "### **4.1.2. Cost Function [5 pts]**\n",
    "\n",
    "The `compute_cost` function should compute the cost for a given $\\theta$ vector. The cost is a scalar value given by:\n",
    "\n",
    "> $\n",
    "\\mathcal{L}({\\theta}) = -\\sum_{i =1}^N [ y_i\\log(h_{{\\theta}}({x}_i)) + (1 - y_i)\\log(1 - h_{{\\theta}}({x}_i))]\n",
    "$\n",
    "\n",
    "where\n",
    "> $\n",
    "h_{\\theta}(x_{i}) = \\sigma(\\theta^{T}x_{i})\n",
    "$\n",
    "\n",
    "\n",
    "L1 Regularisation Loss:\n",
    ">$\n",
    "\\mathcal{L1}({\\theta}) = \\mathcal{L}({\\theta}) + \\lambda \\sum_{j = 1}^D  |{\\theta}_j|\n",
    "$\n",
    "\n",
    "L2 Regularisation Loss:\n",
    ">$\n",
    "\\mathcal{L2}({\\theta}) = \\mathcal{L}({\\theta}) + \\lambda \\sum_{j = 1}^D  {\\theta}_j^2\n",
    "$\n",
    "\n",
    "$N$ is the number of training samples and $D$ is the number of features (excluding the intercept term). $\\theta$ is a $D + 1$ dimensional vector, with the first element being the intercept term. Note that we do not include the intercept in the regularization terms.\n",
    "\n",
    "---\n",
    "\n",
    "### **4.1.3. Gradient of the Cost Function [5 pts]**\n",
    "\n",
    "The `compute_gradient` function should compute the gradient of the cost function at a given $\\theta$.\n",
    "\n",
    "---\n",
    "\n",
    "### **4.1.4. Convergence Check [1 pt]**\n",
    "\n",
    "The `has_converged` function should return whether gradient descent algorithm has converged or not.\n",
    "\n",
    "---\n",
    "\n",
    "### **4.1.5. Training [3 pts]**\n",
    "\n",
    "The `fit` method should train the model via gradient descent, relying on the cost and gradient functions. The trained weights/coefficients must be stored as `theta_`. The weights start as a zero vector. The weights and the corresponding cost after every gradient descent iteration must be stored in `hist_theta_` and `hist_cost_` respectively.\n",
    "\n",
    "* The gradient descent stops or converges when $\\theta$ stops changing or changes negligibly between consecutive iterations, i.e., when\n",
    "$\\| {\\theta}_\\mathit{new} -  {\\theta}_\\mathit{old} \\|_2 \\leq \\epsilon$,\n",
    "for some small $\\epsilon$ (e.g., $\\epsilon$ = 1E-4). $\\epsilon$ is stored as `tol` (short for tolerance).\n",
    "\n",
    "* To ensure that the function terminates, we should set a maximum limit for the number of gradient descent iterations irrespective of whether $\\theta$ converges or not. The limit is stored as `max_iter`.\n",
    "\n",
    "* `alpha` is the learning rate of the gradient descent algorithm.\n",
    "\n",
    "---\n",
    "\n",
    "### **4.1.6. Predict Probability [1 pt]**\n",
    "\n",
    "The `predict_probability` function should predict the probabilities that the data points in a given input data matrix belong to class 1.\n",
    "\n",
    "---\n",
    "\n",
    "### **4.1.7. Predict [2 pts]**\n",
    "\n",
    "The `predict` function should predict the classes of the data points in a given input data matrix."
   ]
  },
  {
   "cell_type": "code",
   "metadata": {
    "ExecuteTime": {
     "end_time": "2025-04-23T11:38:38.897695Z",
     "start_time": "2025-04-23T11:38:38.884884Z"
    }
   },
   "source": [
    "class LogisticRegression:\n",
    "\n",
    "    \"\"\"\n",
    "    Logistic Regression (aka logit, MaxEnt) classifier.\n",
    "\n",
    "    Parameters\n",
    "    ----------\n",
    "    alpha: float, default=0.01\n",
    "        Learning rate\n",
    "    tol : float, default=0.0001\n",
    "        Tolerance for stopping criteria\n",
    "    max_iter : int, default=10000\n",
    "        Maximum number of iterations of gradient descent\n",
    "    theta_init: None (or) numpy.ndarray of shape (D + 1,)\n",
    "        The initial weights; if None, all weights will be zero by default\n",
    "    penalty : string, default = None\n",
    "        The type of regularization. The other acceptable options are l1 and l2\n",
    "    lambd : float, default = 1.0\n",
    "        The parameter regularisation constant (i.e. lambda)\n",
    "\n",
    "    Attributes\n",
    "    ----------\n",
    "    theta_ : numpy.ndarray of shape (D + 1,)\n",
    "        The value of the coefficients after gradient descent has converged\n",
    "        or the number of iterations hit the maximum limit\n",
    "    hist_theta_ : numpy.ndarray of shape (num_iter, D + 1) where num_iter is the number of gradient descent iterations\n",
    "        Stores theta_ after every gradient descent iteration\n",
    "    hist_cost_ : numpy.ndarray of shape (num_iter,) where num_iter is the number of gradient descent iterations\n",
    "        Stores cost after every gradient descent iteration\n",
    "\n",
    "    \"\"\"\n",
    "\n",
    "    def __init__(self, alpha=0.01, tol=0.0001, max_iter=10000, theta_init=None, penalty = None, lambd = 1.0):\n",
    "\n",
    "        self.alpha = alpha\n",
    "        self.tol = tol\n",
    "        self.max_iter = max_iter\n",
    "        self.theta_init = theta_init\n",
    "        self.penalty = penalty\n",
    "        self.lambd = lambd\n",
    "        self.theta_ = None\n",
    "        self.hist_cost_ = None\n",
    "        self.hist_theta_ = None\n",
    "\n",
    "    def get_params(self, deep=True):\n",
    "        # a function needed for using cross_val_score function from sklearn.model_selection\n",
    "        return {\"alpha\": self.alpha, \"max_iter\": self.max_iter, \"lambd\" : self.lambd, \"penalty\" : self.penalty}\n",
    "\n",
    "    def sigmoid(self, x: np.ndarray) -> np.ndarray:\n",
    "\n",
    "        \"\"\"\n",
    "        Compute the sigmoid value of the argument.\n",
    "\n",
    "        Parameters\n",
    "        ----------\n",
    "        x: numpy.ndarray\n",
    "\n",
    "        Returns\n",
    "        -------\n",
    "        out: numpy.ndarray\n",
    "            The sigmoid value of x\n",
    "        \"\"\"\n",
    "\n",
    "        # TODO START: Complete the function\n",
    "\n",
    "        return 1 / (1 + np.exp(-x))\n",
    "\n",
    "        # TODO END\n",
    "\n",
    "    def compute_cost(self, theta, X, y) -> float:\n",
    "\n",
    "        \"\"\"\n",
    "        Compute the cost/objective function.\n",
    "\n",
    "        Parameters\n",
    "        ----------\n",
    "        theta: numpy.ndarray of shape (D + 1,)\n",
    "            The coefficients\n",
    "        X: numpy.ndarray of shape (N, D + 1)\n",
    "            The features matrix\n",
    "        y: numpy.ndarray of shape (N,)\n",
    "            The target variable array\n",
    "\n",
    "        Returns\n",
    "        -------\n",
    "        cost: float\n",
    "            The cost as a scalar value\n",
    "        \"\"\"\n",
    "\n",
    "        # TODO START: Complete the function (should account for three cases - no penalty, l1 penalty, and l2 penalty)\n",
    "        # DO NOT use np.dot for this function as it can possibly return nan. Use a combination of np.nansum and np.multiply.\n",
    "\n",
    "        # Cost\n",
    "        h = self.sigmoid(np.nansum(X*theta, axis=1))\n",
    "        cost = -np.nansum(\n",
    "                y * np.log(h) # axis=1 옵션을 주어서 각 열방향으로 합을 구함 -> sigma(theta^T * x_i)\n",
    "                +\n",
    "                (1 - y) * np.log(1 - h)\n",
    "            )\n",
    "\n",
    "        # Regularization\n",
    "        if self.penalty is None:\n",
    "            pass\n",
    "        elif self.penalty == \"l1\": # L1 Regularization\n",
    "            cost += self.lambd * np.nansum(abs(theta[1:])) # 맨 앞에 편향때문에 추가한 데이터 제외\n",
    "        elif self.penalty == \"l2\": # L2 Regularization\n",
    "            cost += self.lambd * np.nansum(np.power(theta[1:], 2))\n",
    "        else:\n",
    "            raise ValueError(\"Unexpected penalty value. choose one of these options : l1, l2, or DO NOT INPUT\")\n",
    "\n",
    "        return cost\n",
    "\n",
    "        # TODO END\n",
    "\n",
    "    def compute_gradient(self, theta, X, y) -> np.ndarray:\n",
    "\n",
    "        \"\"\"\n",
    "        Compute the gradient of the cost function.\n",
    "\n",
    "        Parameters\n",
    "        ----------\n",
    "        theta: numpy.ndarray of shape (D + 1,)\n",
    "            The coefficients\n",
    "        X: numpy.ndarray of shape (N, D + 1)\n",
    "            The features matrix\n",
    "        y: numpy.ndarray of shape (N,)\n",
    "            The target variable array\n",
    "\n",
    "        Returns\n",
    "        -------\n",
    "        gradient: numpy.ndarray of shape (D + 1,)\n",
    "            The gradient values\n",
    "        \"\"\"\n",
    "\n",
    "        # TODO START: Complete the function (should account for three cases - no penalty, l1 penalty, and l2 penalty)\n",
    "\n",
    "        h: np.ndarray = self.sigmoid(np.nansum(X*theta, axis=1))\n",
    "        gradient = np.nansum(X * (h - y)[:, None], axis=0) # 특성마다 하나씩 gradient를 구해야 하니까 axis=0 옵션을 줌 (각 특성마다 가중치)\n",
    "\n",
    "        if self.penalty is None:\n",
    "            pass\n",
    "        elif self.penalty == \"l1\": # L1 Regularization\n",
    "            gradient[1:] += self.lambd * np.sign(theta[1:])\n",
    "        elif self.penalty == \"l2\": # L2 Regularization\n",
    "            gradient[1:] += 2 * self.lambd * theta[1:]\n",
    "        else:\n",
    "            raise ValueError(\"Unexpected penalty value. choose one of these options : l1, l2, or DO NOT INPUT\")\n",
    "\n",
    "        return gradient\n",
    "        # TODO END\n",
    "\n",
    "    def has_converged(self, theta_old, theta_new) -> bool:\n",
    "\n",
    "        \"\"\"\n",
    "        Return whether gradient descent has converged.\n",
    "\n",
    "        Parameters\n",
    "        ----------\n",
    "        theta_old: numpy.ndarray of shape (D + 1,)\n",
    "            The weights prior to the update by gradient descent\n",
    "        theta_new: numpy.ndarray of shape (D + 1,)\n",
    "            The weights after the update by gradient descent\n",
    "\n",
    "        Returns\n",
    "        -------\n",
    "        converged: bool\n",
    "            Whether gradient descent converged or not\n",
    "        \"\"\"\n",
    "\n",
    "        # TODO START: Complete the function\n",
    "\n",
    "        # 경사 하강법의 종료 조건\n",
    "        # 1. max_iter까지 반복 횟수가 도달한 경우\n",
    "        # 2. 변화량이 tol보다 작은 경우\n",
    "        # 3. 에러값이 충분히 작은 경우\n",
    "        # 여기서는 수렴했는지만 따지니까 2번만 확인\n",
    "\n",
    "        # np.linalg.norm는 두 벡터간의 Norm을 계산하는 함수\n",
    "        # ord=2는 L2 norm을 의미함\n",
    "        return np.linalg.norm(theta_old - theta_new, ord=2) < self.tol\n",
    "\n",
    "        # TODO END\n",
    "\n",
    "    def fit(self, X, y):\n",
    "\n",
    "        \"\"\"\n",
    "        Compute the coefficients using gradient descent and store them as theta_.\n",
    "\n",
    "        Parameters\n",
    "        ----------\n",
    "        X: numpy.ndarray of shape (N, D)\n",
    "            The features matrix\n",
    "        y: numpy.ndarray of shape (N,)\n",
    "            The target variable array\n",
    "\n",
    "        Returns\n",
    "        -------\n",
    "        Nothing\n",
    "        \"\"\"\n",
    "\n",
    "        N, D = X.shape\n",
    "\n",
    "        # Adding a column of ones at the beginning for the bias term\n",
    "        ones_col = np.ones((N, 1))\n",
    "        X = np.hstack((ones_col, X))\n",
    "\n",
    "        # Initializing the weights\n",
    "        if self.theta_init is None:\n",
    "            theta_old = np.zeros((D + 1,))\n",
    "        else:\n",
    "            theta_old = self.theta_init\n",
    "\n",
    "        # Initializing the historical weights matrix\n",
    "        # Remember to append this matrix with the weights after every gradient descent iteration\n",
    "        self.hist_theta_ = [theta_old]\n",
    "\n",
    "        # Computing the cost for the initial weights\n",
    "        cost = self.compute_cost(theta_old, X, y)\n",
    "\n",
    "        # Initializing the historical cost array\n",
    "        # Remember to append this array with the cost after every gradient descent iteration\n",
    "        self.hist_cost_ = [cost]\n",
    "\n",
    "        # TODO START: Complete the function\n",
    "\n",
    "        for _ in range(self.max_iter):\n",
    "            gradient = self.compute_gradient(theta_old, X, y) # compute gradient\n",
    "            theta_new = theta_old - self.alpha * gradient # update weights\n",
    "\n",
    "            # hist_theta_에 theta_new 추가\n",
    "            self.hist_theta_.append(theta_new.copy())\n",
    "            # hist_cost_에 cost 추가\n",
    "            self.hist_cost_.append(self.compute_cost(theta_new, X, y))\n",
    "\n",
    "            if self.has_converged(theta_old, theta_new):\n",
    "                theta_old = theta_new\n",
    "                break # stop if converged\n",
    "\n",
    "            theta_old = theta_new\n",
    "\n",
    "        # 최종 결과 저장\n",
    "        self.theta_ = theta_old\n",
    "        self.hist_theta_ = np.vstack(self.hist_theta_)  # np.array를 np.ndarray로 변환해야함 (클래스 주석)\n",
    "        self.hist_cost_ = np.asarray(self.hist_cost_) # np.array를 np.ndarray로 변환해야함 (클래스 주석)\n",
    "\n",
    "        # TODO END\n",
    "\n",
    "    def predict_proba(self, X) -> np.ndarray:\n",
    "\n",
    "        \"\"\"\n",
    "        Predict the probabilities that the data points in X belong to class 1.\n",
    "\n",
    "        Parameters\n",
    "        ----------\n",
    "        X: numpy.ndarray of shape (N, D)\n",
    "            The features matrix\n",
    "\n",
    "        Returns\n",
    "        -------\n",
    "        y_hat: numpy.ndarray of shape (N,)\n",
    "            The predicted probabilities that the data points in X belong to class 1\n",
    "        \"\"\"\n",
    "\n",
    "        N = X.shape[0]\n",
    "        X = np.hstack((np.ones((N, 1)), X))\n",
    "\n",
    "        # TODO START: Complete the function\n",
    "\n",
    "        # X가 주어졌을 때, y=1일 확률\n",
    "        return self.sigmoid(np.nansum(self.theta_ * X, axis=1))\n",
    "\n",
    "        # TODO END\n",
    "\n",
    "    def predict(self, X) -> np.ndarray:\n",
    "\n",
    "        \"\"\"\n",
    "        Predict the classes of the data points in X.\n",
    "\n",
    "        Parameters\n",
    "        ----------\n",
    "        X: numpy.ndarray of shape (N, D)\n",
    "            The features matrix\n",
    "\n",
    "        Returns\n",
    "        -------\n",
    "        y_pred: numpy.ndarray of shape (N,)\n",
    "            The predicted class of the data points in X\n",
    "        \"\"\"\n",
    "\n",
    "        # TODO START: Complete the function\n",
    "\n",
    "        return (self.predict_proba(X) >= 0.5).astype(int)\n",
    "\n",
    "        # TODO END"
   ],
   "outputs": [],
   "execution_count": 148
  },
  {
   "cell_type": "code",
   "metadata": {
    "ExecuteTime": {
     "end_time": "2025-04-23T11:38:39.613075Z",
     "start_time": "2025-04-23T11:38:39.609243Z"
    }
   },
   "source": [
    "def test_log_reg_sigmoid(StudentLogisticRegression):\n",
    "\n",
    "    student_lr_clf = StudentLogisticRegression()\n",
    "    test_case = np.array([ 1.62434536, -0.61175641, -0.52817175, -1.07296862,  0.86540763])\n",
    "    student_ans = student_lr_clf.sigmoid(test_case)\n",
    "    required_ans = np.array([0.83539354, 0.35165864, 0.3709434 , 0.25483894, 0.70378922])\n",
    "\n",
    "    assert np.linalg.norm(student_ans - required_ans) <= 1e-2\n",
    "\n",
    "test_log_reg_sigmoid(LogisticRegression)"
   ],
   "outputs": [],
   "execution_count": 149
  },
  {
   "cell_type": "code",
   "metadata": {
    "ExecuteTime": {
     "end_time": "2025-04-23T11:38:40.028841Z",
     "start_time": "2025-04-23T11:38:40.025169Z"
    }
   },
   "source": [
    "def test_log_reg_compute_cost(StudentLogisticRegression):\n",
    "\n",
    "    test_case_theta = np.array([ 1.62434536, -0.61175641])\n",
    "    test_case_X = np.array([[ 1.62434536, -0.61175641],\n",
    "                            [-0.52817175, -1.07296862],\n",
    "                            [ 0.86540763, -2.3015387 ],\n",
    "                            [ 1.74481176, -0.7612069 ],\n",
    "                            [ 0.3190391,  -0.24937038]])\n",
    "    test_case_y = np.array([1, 1, 0, 0, 1])\n",
    "\n",
    "    student_lr_clf = StudentLogisticRegression()\n",
    "    student_ans = student_lr_clf.compute_cost(test_case_theta, test_case_X, test_case_y)\n",
    "    required_ans = 7.467975765663204\n",
    "\n",
    "    assert np.abs(student_ans - required_ans) <= 1e-2\n",
    "\n",
    "    student_lr_clf = StudentLogisticRegression(penalty=\"l1\", lambd=0.1)\n",
    "    student_ans = student_lr_clf.compute_cost(test_case_theta, test_case_X, test_case_y)\n",
    "    required_ans = 7.52915138076548\n",
    "\n",
    "    assert np.abs(student_ans - required_ans) <= 1e-2\n",
    "\n",
    "    student_lr_clf = StudentLogisticRegression(penalty=\"l2\", lambd=0.1)\n",
    "    student_ans = student_lr_clf.compute_cost(test_case_theta, test_case_X, test_case_y)\n",
    "    required_ans = 7.505400330283089\n",
    "    assert np.abs(student_ans - required_ans) <= 1e-2\n",
    "\n",
    "test_log_reg_compute_cost(LogisticRegression)"
   ],
   "outputs": [],
   "execution_count": 150
  },
  {
   "cell_type": "code",
   "metadata": {
    "ExecuteTime": {
     "end_time": "2025-04-23T11:38:40.474632Z",
     "start_time": "2025-04-23T11:38:40.470462Z"
    }
   },
   "source": [
    "def test_log_reg_compute_gradient(StudentLogisticRegression):\n",
    "\n",
    "    test_case_theta = np.array([ 1.62434536, -0.61175641])\n",
    "    test_case_X = np.array([[ 1.62434536, -0.61175641],\n",
    "                            [-0.52817175, -1.07296862],\n",
    "                            [ 0.86540763, -2.3015387 ],\n",
    "                            [ 1.74481176, -0.7612069 ],\n",
    "                            [ 0.3190391,  -0.24937038]])\n",
    "    test_case_y = np.array([1, 1, 0, 0, 1])\n",
    "\n",
    "    student_lr_clf = StudentLogisticRegression()\n",
    "    student_ans = student_lr_clf.compute_gradient(test_case_theta, test_case_X, test_case_y)\n",
    "    required_ans = np.array([ 2.60573737, -2.20203139])\n",
    "\n",
    "    assert np.linalg.norm(student_ans - required_ans) <= 1e-2\n",
    "\n",
    "    student_lr_clf = StudentLogisticRegression(penalty=\"l1\", lambd=0.1)\n",
    "    student_ans = student_lr_clf.compute_gradient(test_case_theta, test_case_X, test_case_y)\n",
    "    required_ans = np.array([ 2.60573737, -2.30203139])\n",
    "\n",
    "    assert np.linalg.norm(student_ans - required_ans) <= 1e-2\n",
    "\n",
    "    student_lr_clf = StudentLogisticRegression(penalty=\"l2\", lambd=0.1)\n",
    "    student_ans = student_lr_clf.compute_gradient(test_case_theta, test_case_X, test_case_y)\n",
    "    required_ans = np.array([ 2.60573737, -2.32438267])\n",
    "\n",
    "    assert np.linalg.norm(student_ans - required_ans) <= 1e-2\n",
    "\n",
    "test_log_reg_compute_gradient(LogisticRegression)"
   ],
   "outputs": [],
   "execution_count": 151
  },
  {
   "cell_type": "code",
   "metadata": {
    "ExecuteTime": {
     "end_time": "2025-04-23T11:38:40.912084Z",
     "start_time": "2025-04-23T11:38:40.909248Z"
    }
   },
   "source": [
    "def test_log_reg_has_converged(StudentLogisticRegression):\n",
    "\n",
    "    student_lr_clf = StudentLogisticRegression()\n",
    "    test_case_theta_old = np.array([ 1.62434536, -0.61175641])\n",
    "    test_case_theta_new = np.array([1.624345, -0.611756])\n",
    "    student_ans = student_lr_clf.has_converged(test_case_theta_old, test_case_theta_new)\n",
    "    required_ans = True\n",
    "\n",
    "    assert student_ans == required_ans\n",
    "\n",
    "test_log_reg_has_converged(LogisticRegression)"
   ],
   "outputs": [],
   "execution_count": 152
  },
  {
   "cell_type": "code",
   "metadata": {
    "ExecuteTime": {
     "end_time": "2025-04-23T11:38:41.888150Z",
     "start_time": "2025-04-23T11:38:41.884704Z"
    }
   },
   "source": [
    "def test_log_reg_fit(StudentLogisticRegression):\n",
    "\n",
    "    student_lr_clf = StudentLogisticRegression(max_iter=5)\n",
    "    test_case_X = np.array([[ 1.62434536, -0.61175641],\n",
    "                            [-0.52817175, -1.07296862],\n",
    "                            [ 0.86540763, -2.3015387 ],\n",
    "                            [ 1.74481176, -0.7612069 ],\n",
    "                            [ 0.3190391,  -0.24937038]])\n",
    "    test_case_y = np.array([1, 1, 0, 0, 1])\n",
    "    student_lr_clf.fit(test_case_X, test_case_y)\n",
    "    student_ans = student_lr_clf.hist_theta_\n",
    "    required_ans = np.array([[ 0.        ,  0.        ,  0.        ],\n",
    "                             [ 0.005     , -0.00597503,  0.00564325],\n",
    "                             [ 0.01006813, -0.01184464,  0.0111865 ],\n",
    "                             [ 0.01520121, -0.01761226,  0.01663348],\n",
    "                             [ 0.02039621, -0.02328121,  0.02198778],\n",
    "                             [ 0.02565018, -0.0288547 ,  0.02725288]])\n",
    "\n",
    "    assert np.linalg.norm(student_ans - required_ans) <= 1e-2\n",
    "\n",
    "test_log_reg_fit(LogisticRegression)"
   ],
   "outputs": [],
   "execution_count": 153
  },
  {
   "cell_type": "code",
   "metadata": {
    "ExecuteTime": {
     "end_time": "2025-04-23T11:38:44.249762Z",
     "start_time": "2025-04-23T11:38:44.245961Z"
    }
   },
   "source": [
    "def test_log_reg_predict_proba(StudentLogisticRegression):\n",
    "\n",
    "    student_lr_clf = StudentLogisticRegression(max_iter=5)\n",
    "    test_case_X = np.array([[ 1.62434536, -0.61175641],\n",
    "                            [-0.52817175, -1.07296862],\n",
    "                            [ 0.86540763, -2.3015387 ],\n",
    "                            [ 1.74481176, -0.7612069 ],\n",
    "                            [ 0.3190391,  -0.24937038]])\n",
    "    test_case_y = np.array([1, 1, 0, 0, 1])\n",
    "    student_lr_clf.fit(test_case_X, test_case_y)\n",
    "    student_ans = student_lr_clf.predict_proba(test_case_X)\n",
    "    required_ans = np.array([0.49052814, 0.5029122 , 0.48449386, 0.48864172, 0.50241207])\n",
    "\n",
    "    assert np.linalg.norm(student_ans - required_ans) <= 1e-2\n",
    "\n",
    "test_log_reg_predict_proba(LogisticRegression)"
   ],
   "outputs": [],
   "execution_count": 154
  },
  {
   "cell_type": "code",
   "metadata": {
    "ExecuteTime": {
     "end_time": "2025-04-23T11:38:44.682536Z",
     "start_time": "2025-04-23T11:38:44.678705Z"
    }
   },
   "source": [
    "def test_log_reg_predict(StudentLogisticRegression):\n",
    "\n",
    "    student_lr_clf = StudentLogisticRegression(max_iter=5)\n",
    "    np.random.seed(1)\n",
    "    test_case_X = np.random.randn(50, 2)\n",
    "    test_case_y = np.random.randint(0, 2, 50)\n",
    "    student_lr_clf.fit(test_case_X, test_case_y)\n",
    "    student_ans = student_lr_clf.predict(test_case_X)\n",
    "    required_ans = np.array([0, 0, 0, 0, 0, 0, 0, 0, 0, 1, 1, 1, 0, 0, 1, 0, 0, 0, 0, 1, 0, 1, 0, 1, 1,\n",
    "                             0, 0, 1, 1, 1, 1, 0, 0, 1, 0, 0, 1, 0, 1, 1, 0, 1, 0, 1, 1, 0, 0, 0, 0, 1])\n",
    "\n",
    "    assert np.mean(np.abs(student_ans - required_ans)) <= 0.02\n",
    "\n",
    "test_log_reg_predict(LogisticRegression)"
   ],
   "outputs": [],
   "execution_count": 155
  },
  {
   "attachments": {},
   "cell_type": "markdown",
   "metadata": {},
   "source": [
    "# **5. Measures of Impurity and their Reduction [15 pts]**\n",
    "To grow a classification tree, instead of a binary error (1/0), measures of impurity are used to see how good a leaf node is. Recall that we discussed about entropy being one such measure of impurity. We will be working with entropy and comparing it to another metric called the gini index."
   ]
  },
  {
   "attachments": {},
   "cell_type": "markdown",
   "metadata": {},
   "source": [
    "## **5.1. Measures of Impurity [9 pts]**\n",
    "\n",
    "For this problem, consider that you have a binary classification problem of two classes, the positive class $1$ and the negative class $0$.\n",
    "\n"
   ]
  },
  {
   "attachments": {},
   "cell_type": "markdown",
   "metadata": {},
   "source": [
    "### **5.1.1. Entropy [2 pts]**\n",
    "\n",
    "Please complete the entropy function."
   ]
  },
  {
   "cell_type": "code",
   "metadata": {
    "ExecuteTime": {
     "end_time": "2025-04-23T11:38:48.909312Z",
     "start_time": "2025-04-23T11:38:48.906541Z"
    }
   },
   "source": [
    "import numpy as np\n",
    "import random\n",
    "import matplotlib.pyplot as plt\n",
    "\n",
    "def cross_entropy(prob_class1):\n",
    "\n",
    "    \"\"\"\n",
    "    Returns the cross-entropy value of a node given the probability of a sample belonging to class 1 in the node.\n",
    "\n",
    "    Args:\n",
    "        prob_class1: The probability of a sample belonging to class 1 in a decision tree node\n",
    "\n",
    "    Returns:\n",
    "        ce: The cross-entropy value for the node\n",
    "    \"\"\"\n",
    "\n",
    "    # TODO START: Complete the function\n",
    "    return -np.nansum(prob_class1 * np.log2(prob_class1) + (1 - prob_class1) * np.log2(1 - prob_class1))\n",
    "    # TODO END\n",
    "\n",
    "assert cross_entropy(0.5) == 1"
   ],
   "outputs": [],
   "execution_count": 156
  },
  {
   "attachments": {},
   "cell_type": "markdown",
   "metadata": {},
   "source": [
    "### **5.1.2. Gini Index [2 pts]**\n",
    "\n",
    "Gini index is another measure of impurity. For an K-class classification problem, gini index is calculated as follows.\n",
    "\n",
    "$$\\text{Gini Index} = \\sum_{k = 1}^{K} p_k(1 - p_k)$$\n",
    "\n",
    "Complete the following function for calculating the gini index of a binary-class problem (k = 2)."
   ]
  },
  {
   "cell_type": "code",
   "metadata": {
    "ExecuteTime": {
     "end_time": "2025-04-23T11:38:51.609378Z",
     "start_time": "2025-04-23T11:38:51.606687Z"
    }
   },
   "source": [
    "import numpy as np\n",
    "import random\n",
    "import matplotlib.pyplot as plt\n",
    "\n",
    "def gini_index(prob_class1) -> float:\n",
    "\n",
    "    \"\"\"\n",
    "    Returns the gini-index value of a node given the probability of a sample belonging to class 1 in the node.\n",
    "\n",
    "    Args:\n",
    "        prob_class1: The probability of a sample belonging to class 1 in a decision tree node\n",
    "\n",
    "    Returns:\n",
    "        gi: The gini-index value for the node\n",
    "    \"\"\"\n",
    "\n",
    "    # TODO START: Complete the function\n",
    "    return np.nansum(prob_class1 * (1 - prob_class1)) * 2\n",
    "    # TODO END\n",
    "\n",
    "assert gini_index(0.5) == 0.5"
   ],
   "outputs": [],
   "execution_count": 157
  },
  {
   "attachments": {},
   "cell_type": "markdown",
   "metadata": {},
   "source": [
    "### **5.1.2. Plot [5 pts, manually graded]**\n",
    "\n",
    "Please complete the impurity_measures_plot function and generate a plot of the entropy and gini index values with respect to the class 1 probability values. Both the impurity measures should be on the same plot.\n",
    "\n",
    "- Submit the generated plot along with the written homework solutions.\n",
    "- Make sure the plot has a title, legend and axes labels.\n",
    "- Comment on why cross entropy and gini index are suitable measures of impurity based on the plot."
   ]
  },
  {
   "cell_type": "code",
   "metadata": {
    "ExecuteTime": {
     "end_time": "2025-04-23T11:26:56.073370Z",
     "start_time": "2025-04-23T11:26:56.010014Z"
    }
   },
   "source": [
    "def impurity_measures_plot():\n",
    "\n",
    "    '''\n",
    "    Plots the cross entropy and gini index values with respect to the probability values of class 1.\n",
    "\n",
    "    Args:\n",
    "\n",
    "    Returns:\n",
    "\n",
    "    Notes:\n",
    "        1. Please do not change the provided code\n",
    "        2. Both cross entropy and gini index should be on the same scatter plot\n",
    "    '''\n",
    "\n",
    "    prob_class1_arr = np.arange(1, 1000)/1000\n",
    "    ce_arr = np.array([cross_entropy(p) for p in prob_class1_arr])\n",
    "    gi_arr = np.array([gini_index(p) for p in prob_class1_arr])\n",
    "\n",
    "    # TODO START: Complete the function\n",
    "    plt.figure(figsize=(5, 5))\n",
    "    plt.plot(prob_class1_arr, ce_arr, label=\"CROSS ENTROPHY\", linewidth=2)\n",
    "    plt.plot(prob_class1_arr, gi_arr, label=\"GINI INDEX\",   linewidth=2)\n",
    "    plt.title(\"impurity_measures_plot\")\n",
    "    plt.xlabel(\"P(class = 1)\")\n",
    "    plt.ylabel(\"Impurity\")\n",
    "    plt.legend()\n",
    "    plt.style.use(\"grayscale\")\n",
    "    plt.grid(True)\n",
    "    plt.tight_layout()\n",
    "    plt.show()\n",
    "    # TODO END\n",
    "\n",
    "impurity_measures_plot()"
   ],
   "outputs": [
    {
     "data": {
      "text/plain": [
       "<Figure size 500x500 with 1 Axes>"
      ],
      "image/png": "[encoded data removed]"
     },
     "metadata": {},
     "output_type": "display_data"
    }
   ],
   "execution_count": 107
  },
  {
   "attachments": {},
   "cell_type": "markdown",
   "metadata": {},
   "source": [
    "## **5.2. Reduction in Impurity [6 pts]**\n",
    "\n",
    "Recall that we also discussed information gain which is the change in entropy from the parent node to the children nodes. Gini reduction is similar to information gain except you replace entropy values with gini index."
   ]
  },
  {
   "attachments": {},
   "cell_type": "markdown",
   "metadata": {},
   "source": [
    "### **5.2.1. Information Gain [3 pts]**"
   ]
  },
  {
   "cell_type": "code",
   "metadata": {
    "ExecuteTime": {
     "end_time": "2025-04-23T11:26:59.810269Z",
     "start_time": "2025-04-23T11:26:59.806184Z"
    }
   },
   "source": [
    "def information_gain(num_samples_parent, num_class1_parent, num_samples_child1, num_class1_child1):\n",
    "\n",
    "    \"\"\"\n",
    "\n",
    "    Args:\n",
    "        num_samples_parent: Number of samples in the parent node\n",
    "        num_class1_parent: Number of samples of class 1 in parent node\n",
    "        num_samples_child1: Number of samples in the first child node\n",
    "        num_class1_child1: Number of samples of class 1 in the first child node\n",
    "\n",
    "    Returns:\n",
    "        ig: Information Gain\n",
    "    \"\"\"\n",
    "\n",
    "    # TODO START: Complete the function\n",
    "    # 1. You will need to calculate cross-entropy for the parent and child nodes\n",
    "    # 2. Use the above entropies to finally calculate information gain\n",
    "\n",
    "    # H(Y)\n",
    "    p_parent = num_class1_parent / num_samples_parent\n",
    "    H_parent = cross_entropy(p_parent)\n",
    "\n",
    "    # H(Y = 1|X)\n",
    "    n1 = num_samples_child1\n",
    "    p1 = num_class1_child1 / n1\n",
    "    H1 = cross_entropy(p1)\n",
    "\n",
    "    # H(Y = 0|X)\n",
    "    n2 = num_samples_parent - n1\n",
    "    num_class1_child2 = num_class1_parent - num_class1_child1\n",
    "    p2 = num_class1_child2 / n2\n",
    "    H2 = cross_entropy(p2)\n",
    "\n",
    "    # 4) 정보 이득 = H(Y) - H(Y|X) = H(Y) - (P(Y=1)H(Y=1|X) + P(Y=0)H(Y=0|X))\n",
    "    ig = H_parent - ((n1 / num_samples_parent) * H1 + (n2 / num_samples_parent) * H2)\n",
    "    return ig\n",
    "\n",
    "    # TODO END\n",
    "\n",
    "\n",
    "assert np.abs(information_gain(100, 60, 30, 5) - 0.251) < 0.01"
   ],
   "outputs": [],
   "execution_count": 108
  },
  {
   "attachments": {},
   "cell_type": "markdown",
   "metadata": {},
   "source": [
    "### **5.2.2. Gini Reduction [3 pts]**"
   ]
  },
  {
   "cell_type": "code",
   "metadata": {
    "ExecuteTime": {
     "end_time": "2025-04-23T11:27:01.502669Z",
     "start_time": "2025-04-23T11:27:01.499849Z"
    }
   },
   "source": [
    "def gini_reduction(num_samples_parent, num_class1_parent, num_samples_child1, num_class1_child1):\n",
    "\n",
    "    \"\"\"\n",
    "\n",
    "    Args:\n",
    "        num_samples_parent: Number of samples in the parent node\n",
    "        num_class1_parent: Number of samples of class 1 in parent node\n",
    "        num_samples_child1: Number of samples in the first child node\n",
    "        num_class1_child1: Number of samples of class 1 in the first child node\n",
    "\n",
    "    Returns:\n",
    "        gr: Gini Reduction\n",
    "    \"\"\"\n",
    "\n",
    "    # TODO START: Complete the function\n",
    "\n",
    "    # H(Y)\n",
    "    p_parent  = num_class1_parent / num_samples_parent\n",
    "    H_parent  = gini_index(p_parent)\n",
    "\n",
    "    # H(Y = 1|X)\n",
    "    p_child1 = num_class1_child1 / num_samples_child1\n",
    "    H1 = gini_index(p_child1)\n",
    "\n",
    "    # H(Y = 0|X)\n",
    "    num2  = num_samples_parent - num_samples_child1\n",
    "    num_class1_child2 = num_class1_parent - num_class1_child1\n",
    "    p_child2 = num_class1_child2 / num2\n",
    "    H2 = gini_index(p_child2)\n",
    "\n",
    "    # 지니 감소?\n",
    "    gr = H_parent - ((num_samples_child1 / num_samples_parent) * H1 + (num2 / num_samples_parent) * H2)\n",
    "    return gr\n",
    "\n",
    "    # TODO END\n",
    "\n",
    "assert np.abs(gini_reduction(100, 60, 30, 5) - 0.161) < 0.01"
   ],
   "outputs": [],
   "execution_count": 109
  },
  {
   "attachments": {},
   "cell_type": "markdown",
   "metadata": {},
   "source": [
    "# **6. Decision Tree [35 pts]**\n",
    "\n",
    "In this section you will be training a decision tree classifier to predict the presence of diabetes in a person given various input features. The diabetes dataset that we are using is from the [2013-2014  National Health and Nutrition Examination Survey (NHANES)](https://wwwn.cdc.gov/nchs/nhanes/Default.aspx). We have reduced the dataset to only 20 features but the original dataset had over 1,800 features. `CSE-SSU_hw1_diabetes_train.csv` and `CSE-SSU_hw1_diabetes_X_test.csv` are the datasets that you would be using for training and testing respectively."
   ]
  },
  {
   "attachments": {},
   "cell_type": "markdown",
   "metadata": {},
   "source": [
    "## **6.1. Load Datasets**\n",
    "\n",
    "Read the files `CSE-SSU_hw1_diabetes_train.csv` and `CSE-SSU_hw1_diabetes_X_test.csv` into train_df and test_df respectively in the `load_diabetes_datasets` function."
   ]
  },
  {
   "cell_type": "code",
   "metadata": {
    "ExecuteTime": {
     "end_time": "2025-04-23T13:19:38.456140Z",
     "start_time": "2025-04-23T13:19:38.453881Z"
    }
   },
   "source": [
    "import pandas as pd\n",
    "\n",
    "def load_diabetes_datasets():\n",
    "    '''\n",
    "    Args:\n",
    "        None\n",
    "    Returns:\n",
    "        train_df, test_df\n",
    "    '''\n",
    "\n",
    "    # TODO START: Complete the function\n",
    "\n",
    "    train_df = pd.read_csv('CSE-SSU_hw1_diabetes_train.csv')\n",
    "    test_df = pd.read_csv('CSE-SSU_hw1_diabetes_X_test.csv')\n",
    "\n",
    "    return train_df, test_df\n",
    "\n",
    "    # TODO END"
   ],
   "outputs": [],
   "execution_count": 239
  },
  {
   "attachments": {},
   "cell_type": "markdown",
   "metadata": {},
   "source": [
    "## **6.2. Preprocess Datasets [10 pts]**\n",
    "\n",
    "The datasets we have provided are not ready-to-use for machine learning and requires preprocessing. We want you to perform feature selection and handle missing values in both the training and test datasets."
   ]
  },
  {
   "attachments": {},
   "cell_type": "markdown",
   "metadata": {},
   "source": [
    "### **6.2.1. Feature Selection**\n",
    "\n",
    "For feature selection, you should retain the following features at least and experiment including/excluding the remaining features.\n",
    "\n",
    "- 'RIDAGEYR'\n",
    "- 'BMXWAIST'\n",
    "- 'BMXHT'\n",
    "- 'LBXTC'\n",
    "- 'BMXLEG'\n",
    "- 'BMXWT'\n",
    "- 'BMXBMI'\n",
    "- 'RIDRETH1'\n",
    "- 'BPQ020'\n",
    "- 'ALQ120Q'\n",
    "- 'DMDEDUC2'\n",
    "- 'RIAGENDR'\n",
    "- 'INDFMPIR'\n",
    "\n",
    "The column `DIABETIC` in the training dataset is the target variable."
   ]
  },
  {
   "attachments": {},
   "cell_type": "markdown",
   "metadata": {},
   "source": [
    "### **6.2.2. Handling Missing Values**\n",
    "\n",
    "We recommend you to drop rows with missing values in the training set. However, you should not drop rows with missing values in the test set. Instead, you should impute missing values in the test set with the mean of the corresponding columns in the training set."
   ]
  },
  {
   "cell_type": "code",
   "metadata": {
    "ExecuteTime": {
     "end_time": "2025-04-23T13:19:53.439614Z",
     "start_time": "2025-04-23T13:19:53.419748Z"
    }
   },
   "source": [
    "train_df, test_df = load_diabetes_datasets()\n",
    "from sklearn.impute import SimpleImputer\n",
    "\n",
    "# Preprocessing\n",
    "def preprocess_datasets(train_df, test_df, class_selection: int = None) -> tuple:\n",
    "    '''\n",
    "    Args:\n",
    "        train_df\n",
    "        test_df\n",
    "        class_selection : test class selection\n",
    "    Returns:\n",
    "        train_df (preprocessed)\n",
    "        test_df (preprocessed)\n",
    "    Note:\n",
    "        1. At least the following columns should be present in the final train_df:\n",
    "            - 'RIDAGEYR'\n",
    "            - 'BMXWAIST'\n",
    "            - 'BMXHT'\n",
    "            - 'LBXTC'\n",
    "            - 'BMXLEG'\n",
    "            - 'BMXWT'\n",
    "            - 'BMXBMI'\n",
    "            - 'RIDRETH1'\n",
    "            - 'BPQ020'\n",
    "            - 'ALQ120Q'\n",
    "            - 'DMDEDUC2'\n",
    "            - 'RIAGENDR'\n",
    "            - 'INDFMPIR'\n",
    "            - 'DIABETIC'\n",
    "        2. test_df will have all the columns in train_df except the 'DIABETIC' column\n",
    "        3. Drop any rows in train_df that have missing values\n",
    "        4. DO NOT drop rows with missing values test_df. Impute missing values in test_df with the means of the corresponding columns in train_df.\n",
    "    '''\n",
    "\n",
    "    # TODO START: Complete the function\n",
    "\n",
    "    # 꼭 포함해야 하는 열\n",
    "    # Case 1\n",
    "    if class_selection == 1:\n",
    "        columns = ['RIDAGEYR','BMXWAIST','BMXHT','LBXTC','BMXLEG','BMXWT','BMXBMI','RIDRETH1','BPQ020','ALQ120Q','DMDEDUC2','RIAGENDR','INDFMPIR','LBDSGBSI','DIABETIC']\n",
    "    # Case 2\n",
    "    elif class_selection == 2:\n",
    "        columns = ['RIDAGEYR','BMXWAIST','BMXHT','LBXTC','BMXLEG','BMXWT','BMXBMI','RIDRETH1','BPQ020','ALQ120Q','DMDEDUC2','RIAGENDR','INDFMPIR','LBDSGBSI','BPAARM', 'DIABETIC']\n",
    "    # Case 3\n",
    "    elif class_selection == 3:\n",
    "        columns = ['RIDAGEYR','BMXWAIST','BMXHT','LBXTC','BMXLEG','BMXWT','BMXBMI','RIDRETH1','BPQ020','ALQ120Q','DMDEDUC2','RIAGENDR','INDFMPIR','URDECPLC','BPAARM','DIABETIC']\n",
    "    # Default Case\n",
    "    else:\n",
    "        columns = ['RIDAGEYR','BMXWAIST','BMXHT','LBXTC','BMXLEG','BMXWT','BMXBMI','RIDRETH1','BPQ020','ALQ120Q','DMDEDUC2','RIAGENDR','INDFMPIR','DIABETIC']\n",
    "\n",
    "    essential = ['RIDAGEYR','BMXWAIST','BMXHT','LBXTC','BMXLEG','BMXWT','BMXBMI','RIDRETH1','BPQ020','ALQ120Q','DMDEDUC2','RIAGENDR','INDFMPIR','DIABETIC']\n",
    "\n",
    "    # 1) 열 필터링 + 학습 데이터에서 결측치 행 제거\n",
    "    train_df = train_df[columns].copy().dropna(subset=essential).reset_index(drop=True)\n",
    "\n",
    "    # 2) 테스트 데이터 열 정리\n",
    "    test_cols = [c for c in columns if c != 'DIABETIC']\n",
    "    test_df  = test_df[test_cols].copy()\n",
    "\n",
    "    # 3) 학습 데이터 평균으로 테스트 데이터 결측치 대체\n",
    "    imputer = SimpleImputer(strategy='mean')\n",
    "    imputer.fit(train_df.drop(columns=['DIABETIC']))\n",
    "    test_imputed = imputer.transform(test_df)\n",
    "\n",
    "    # 4) 넘파이→DataFrame으로 되돌리기(열 순서 유지)\n",
    "    test_df = pd.DataFrame(test_imputed, columns=test_cols)\n",
    "\n",
    "    return train_df, test_df\n",
    "\n",
    "    # TODO END\n",
    "\n",
    "train_df_processed, test_df_processed = preprocess_datasets(train_df, test_df)\n"
   ],
   "outputs": [],
   "execution_count": 243
  },
  {
   "attachments": {},
   "cell_type": "markdown",
   "metadata": {},
   "source": [
    "## **6.3. Decision Tree Training with Pruning [14 pts]**\n",
    "\n",
    "Next, we will be fitting a decision tree classifier and prune the tree appropriately. The `DecisionTreeClassifier` in scikit-learn uses a way of pruning called **Minimal Cost-Complexity Pruning**. We won't cover the specifics, but you can learn more from this [link](https://scikit-learn.org/stable/modules/tree.html#minimal-cost-complexity-pruning) if you wish. But, you don't need to learn the details in order to use it effectively. The amount of pruning is entirely dependent on the value of the `ccp_alpha` parameter. In order to tune the `ccp_alpha` parameter, you will use [cross-validation](https://scikit-learn.org/stable/modules/cross_validation.html). The purpose of cross-validation is to estimate how well a model will generalize on unseen data.\n",
    "\n",
    "Implement the function `best_ccp_alpha_f1` to do automatic tuning of the `ccp_alpha` parameter.  Your function should vary the value of the `ccp_alpha` parameter and return the value for `ccp_alpha` with the highest cross-validation F1 score over the given dataset `train_df`. The sklearn library has a [built-in function](https://scikit-learn.org/stable/modules/generated/sklearn.tree.DecisionTreeClassifier.html#sklearn.tree.DecisionTreeClassifier.cost_complexity_pruning_path) to generate a list of effective ccp_alphas. Given the imbalanced nature of the dataset, most of the people in the data set are non-diabetic. You can get a model with very high test accuracy by always predicting no one is diabetic. To address this problem, more importance should be given to the [F1 score](https://en.wikipedia.org/wiki/F-score) of your model rather than the classification accuracy.\n",
    "\n",
    "For this problem, you need to have at least 80% accuracy and a F1 score of 0.2 on the test dataset to get full points."
   ]
  },
  {
   "cell_type": "code",
   "metadata": {
    "ExecuteTime": {
     "end_time": "2025-04-23T13:20:08.226929Z",
     "start_time": "2025-04-23T13:20:01.220387Z"
    }
   },
   "source": [
    "from sklearn.tree import DecisionTreeClassifier\n",
    "from sklearn.model_selection import cross_val_score, StratifiedKFold\n",
    "\n",
    "train_df, test_df = preprocess_datasets(train_df, test_df)\n",
    "\n",
    "def best_ccp_alpha_f1(train_df):\n",
    "    \"\"\"\n",
    "    Returns the pruning parameter (best_ccp_alpha) with the highest cross-validation F1 score along with the\n",
    "    five cross-validation F1 scores corresponding (cv_f1_scores).\n",
    "\n",
    "    Args:\n",
    "        train_df\n",
    "\n",
    "    Returns:\n",
    "        best_ccp_alpha: the tuned best ccp alpha value\n",
    "        cv_f1_scores: the five cross-validation F1 scores\n",
    "\n",
    "    \"\"\"\n",
    "\n",
    "    # TODO START: Complete the function\n",
    "    X = train_df.drop(columns=['DIABETIC'])\n",
    "    y = train_df['DIABETIC']\n",
    "\n",
    "    # 가능한 alpha 값 구하기\n",
    "    path        = DecisionTreeClassifier(random_state=0).cost_complexity_pruning_path(X, y)\n",
    "    ccp_alphas  = np.unique(path.ccp_alphas)      # 중복 제거\n",
    "\n",
    "    kfold = StratifiedKFold(n_splits=5, shuffle=True, random_state=0)\n",
    "\n",
    "    alpha_scores = {}\n",
    "    for alpha in ccp_alphas:\n",
    "        dt = DecisionTreeClassifier(random_state=0,\n",
    "                                    ccp_alpha=alpha,\n",
    "                                    class_weight='balanced')   # 클래스 불균형 보정\n",
    "        f1 = cross_val_score(dt, X, y, cv=kfold, scoring='f1')\n",
    "        alpha_scores[alpha] = f1\n",
    "\n",
    "    # 평균 F1이 가장 높은 alpha 선택\n",
    "    best_ccp_alpha = max(alpha_scores, key=lambda a: alpha_scores[a].mean())\n",
    "    cv_f1_scores   = alpha_scores[best_ccp_alpha].tolist()\n",
    "\n",
    "    return best_ccp_alpha, cv_f1_scores\n",
    "\n",
    "    # TODO END\n",
    "\n",
    "def refit_and_predict(train_df, test_df, best_ccp_alpha):\n",
    "    \"\"\"\n",
    "    Fit a decision tree classifier on the training data using the best_ccp_alpha value and output the predictions on the\n",
    "    test set.\n",
    "\n",
    "    Args:\n",
    "        train_df\n",
    "        test_df\n",
    "        best_ccp_alpha\n",
    "\n",
    "    Returns:\n",
    "        y_test_pred: The predicted values for the test set\n",
    "    \"\"\"\n",
    "\n",
    "    # TODO START: Complete the function\n",
    "    X_train = train_df.drop(columns=['DIABETIC'])\n",
    "    y_train = train_df['DIABETIC']\n",
    "\n",
    "    clf = DecisionTreeClassifier(random_state=0,\n",
    "                                 ccp_alpha=best_ccp_alpha,\n",
    "                                 class_weight='balanced')\n",
    "    clf.fit(X_train, y_train)\n",
    "\n",
    "    y_test_pred = clf.predict(test_df)\n",
    "    return y_test_pred\n",
    "    # TODO END\n",
    "\n",
    "best_ccp_alpha, cv_f1_scores = best_ccp_alpha_f1(train_df)\n",
    "y_test_pred_DT = refit_and_predict(train_df, test_df, best_ccp_alpha)\n",
    "print(y_test_pred_DT)"
   ],
   "outputs": [
    {
     "name": "stdout",
     "output_type": "stream",
     "text": [
      "[0 0 0 ... 1 0 0]\n"
     ]
    }
   ],
   "execution_count": 244
  },
  {
   "attachments": {},
   "cell_type": "markdown",
   "metadata": {},
   "source": [
    "## **6.4. Computing Confidence Intervals [5 pts]**\n",
    "\n",
    "Even though you may have computed the average F1 score across the held-out folds during cross validation, how confident can you be that the number you computed is the true F1 score for that set of features? If you try rerunning your code with a different random seed, you may actually get a different F1 score. But which one is right?\n",
    "\n",
    "In order to answer this question, we will compute a confidence interval based on the Student's t-distribution, which will tell us with 99\\% confidence that the true mean is within a lower and upper bound. To compute the confidence interval, we need to compute the sample mean, $\\bar{x}$, sample standard deviation, $S$, and the number of observations for each classifier, $n$. ***In our specific case, the number of observations should be 5 because we have 5 reported F1 scores from cross-validation.***\n",
    "\n",
    "Then, the confidence interval is computed by\n",
    "    \n",
    "$$\\bar{x} \\pm t \\cdot \\frac{S}{\\sqrt{n}}$$\n",
    "\n",
    "Here, $t$ is the critical value, which we can look up using the provided t-table (https://www.stat.colostate.edu/inmem/gumina/st201/pdf/Utts-Heckard_t-Table.pdf). (Round up the critical value to the second digit below the decimal point) For example, when $n=10$, if we are looking for a 99\\% confidence interval, then the number in the 99\\% confidence column with degrees of freedom of $n-1=9$ would be $t=3.25$. Then, we can plug in all of the statistics into the confidence interval formula and get a range of values for which we are 99\\% confident that the true F1 score of the classifier falls between.\n",
    "\n",
    "For this computation, we should use the unbiased estimator of the variance, which means that the degrees of freedom on the standard deviation calculation must be set. Look in the optional arguments of np.std to learn more."
   ]
  },
  {
   "cell_type": "code",
   "metadata": {
    "ExecuteTime": {
     "end_time": "2025-04-23T13:20:16.973753Z",
     "start_time": "2025-04-23T13:20:16.967203Z"
    }
   },
   "source": [
    "from math import sqrt\n",
    "# 사전 방식(t‑table 일부; 두 번째 소수점 자리 올림 값)\n",
    "_t_lookup = {\n",
    "    # df : (t_(0.80/2), t_(0.99/2))   0.80 → α=0.20, 0.99 → α=0.01\n",
    "    4:  (1.53, 4.60),\n",
    "    5:  (1.48, 4.03),\n",
    "    6:  (1.44, 3.71),\n",
    "    7:  (1.42, 3.50),\n",
    "    8:  (1.40, 3.36),\n",
    "    9:  (1.38, 3.25),\n",
    "    10: (1.37, 3.17),\n",
    "    20: (1.33, 2.85),\n",
    "    30: (1.31, 2.75),\n",
    "}\n",
    "\n",
    "def _t_critical(df, confidence):\n",
    "    \"\"\"\n",
    "    df : 자유도, confidence : 0.99 또는 0.80\n",
    "    SciPy 가 있으면 정확히, 없으면 lookup 사용\n",
    "    \"\"\"\n",
    "    lookup = {\n",
    "        (4, 0.99): 4.60,\n",
    "        (4, 0.80): 1.53,\n",
    "        # 필요한 경우 df 키를 추가\n",
    "    }\n",
    "    if (df, confidence) in lookup:\n",
    "        return lookup[(df, confidence)]\n",
    "    raise ValueError(\"t‑값 테이블에 없는 자유도 / 신뢰수준입니다.\")\n",
    "\n",
    "def calculate_confidence_interval(cv_f1_scores):\n",
    "    '''\n",
    "    Args:\n",
    "        cv_f1_scores      :   np.array, reported cross-validation F1 scores\n",
    "    Returns:\n",
    "        interval    :   np.array, lower bound and upper bound of the 99% confidence interval\n",
    "    '''\n",
    "\n",
    "    # TODO START: Complete the function\n",
    "    # This function should be able to handle two confidence levels of 99% and 80%\n",
    "\n",
    "    scores = np.asarray(cv_f1_scores, dtype=float)\n",
    "    n      = scores.size\n",
    "    if n < 2:\n",
    "        raise ValueError(\"At least two observations are required\")\n",
    "\n",
    "    # 1. 통계량 계산\n",
    "    x_bar = scores.mean()          # 표본 평균\n",
    "    S     = scores.std(ddof=1)     # 불편표준편차 (n-1 로 나눔)\n",
    "    se    = S / sqrt(n)            # 표준오차\n",
    "    df    = n - 1                  # 자유도\n",
    "\n",
    "    # 2. t-critical(99 %) – t-table 값(두 번째 소수점까지) 사용\n",
    "    if df in _t_lookup:                    # 사전에서 정확히 찾기\n",
    "        t_crit = _t_lookup[df][1]          # index 1 → 99 % 열\n",
    "    else:                                  # 없으면 가장 가까운 df 사용\n",
    "        closest_df = min(_t_lookup, key=lambda k: abs(k - df))\n",
    "        t_crit     = _t_lookup[closest_df][1]\n",
    "\n",
    "    # 3. 신뢰구간 계산\n",
    "    margin   = t_crit * se\n",
    "    interval = np.array([x_bar - margin, x_bar + margin])\n",
    "\n",
    "    return interval\n",
    "\n",
    "    # TODO END"
   ],
   "outputs": [],
   "execution_count": 245
  },
  {
   "cell_type": "code",
   "metadata": {
    "ExecuteTime": {
     "end_time": "2025-04-23T13:20:17.675545Z",
     "start_time": "2025-04-23T13:20:17.662874Z"
    }
   },
   "source": [
    "def test_confidence_intervals():\n",
    "    data = np.array([15.6, 16.2, 22.5, 20.5, 16.4])\n",
    "    result = np.round(calculate_confidence_interval(data), 3)\n",
    "    interval = np.array([11.918, 24.562])\n",
    "    assert (np.array_equal(interval, result))\n",
    "\n",
    "test_confidence_intervals()"
   ],
   "outputs": [],
   "execution_count": 246
  },
  {
   "metadata": {
    "ExecuteTime": {
     "end_time": "2025-04-23T13:38:19.994284Z",
     "start_time": "2025-04-23T13:37:59.046148Z"
    }
   },
   "cell_type": "code",
   "source": [
    "import json\n",
    "raw_train_df, raw_test_df = load_diabetes_datasets()\n",
    "results = []\n",
    "for i in range(1, 4):\n",
    "    train_df, test_df = preprocess_datasets(raw_train_df, raw_test_df, i)\n",
    "    best_ccp_alpha, cv_f1_scores = best_ccp_alpha_f1(train_df)\n",
    "    interval = calculate_confidence_interval(cv_f1_scores)\n",
    "    results.append(\n",
    "        {\n",
    "            \"Feature Set\": i,\n",
    "            \"Best CCP Alpha\": float(best_ccp_alpha),\n",
    "            \"Mean Cross-validation F1 Score\": float(np.mean(cv_f1_scores)),\n",
    "            \"Confidence Interval\": interval.tolist(),\n",
    "        }\n",
    "    )\n",
    "\n",
    "results = pd.DataFrame(results)\n",
    "results"
   ],
   "outputs": [
    {
     "data": {
      "text/plain": [
       "   Feature Set  Best CCP Alpha  Mean Cross-validation F1 Score  \\\n",
       "0            1        0.003928                        0.416225   \n",
       "1            2        0.003928                        0.416225   \n",
       "2            3        0.002084                        0.402124   \n",
       "\n",
       "                          Confidence Interval  \n",
       "0  [0.35381327514763267, 0.47863628874726455]  \n",
       "1  [0.35381327514763267, 0.47863628874726455]  \n",
       "2   [0.33618422846890467, 0.4680628895986823]  "
      ],
      "text/html": [
       "<div>\n",
       "<style scoped>\n",
       "    .dataframe tbody tr th:only-of-type {\n",
       "        vertical-align: middle;\n",
       "    }\n",
       "\n",
       "    .dataframe tbody tr th {\n",
       "        vertical-align: top;\n",
       "    }\n",
       "\n",
       "    .dataframe thead th {\n",
       "        text-align: right;\n",
       "    }\n",
       "</style>\n",
       "<table border=\"1\" class=\"dataframe\">\n",
       "  <thead>\n",
       "    <tr style=\"text-align: right;\">\n",
       "      <th></th>\n",
       "      <th>Feature Set</th>\n",
       "      <th>Best CCP Alpha</th>\n",
       "      <th>Mean Cross-validation F1 Score</th>\n",
       "      <th>Confidence Interval</th>\n",
       "    </tr>\n",
       "  </thead>\n",
       "  <tbody>\n",
       "    <tr>\n",
       "      <th>0</th>\n",
       "      <td>1</td>\n",
       "      <td>0.003928</td>\n",
       "      <td>0.416225</td>\n",
       "      <td>[0.35381327514763267, 0.47863628874726455]</td>\n",
       "    </tr>\n",
       "    <tr>\n",
       "      <th>1</th>\n",
       "      <td>2</td>\n",
       "      <td>0.003928</td>\n",
       "      <td>0.416225</td>\n",
       "      <td>[0.35381327514763267, 0.47863628874726455]</td>\n",
       "    </tr>\n",
       "    <tr>\n",
       "      <th>2</th>\n",
       "      <td>3</td>\n",
       "      <td>0.002084</td>\n",
       "      <td>0.402124</td>\n",
       "      <td>[0.33618422846890467, 0.4680628895986823]</td>\n",
       "    </tr>\n",
       "  </tbody>\n",
       "</table>\n",
       "</div>"
      ]
     },
     "execution_count": 256,
     "metadata": {},
     "output_type": "execute_result"
    }
   ],
   "execution_count": 256
  },
  {
   "attachments": {},
   "cell_type": "markdown",
   "metadata": {},
   "source": [
    "## **6.5. Performance Table [6 pts, manually graded]**\n",
    "\n",
    "Repeat the process for two other sets of features and present a performance table (like the one shown below) that compares the F1 scores and confidence intervals of the three sets of features, indicating which one is your chosen best set. Remember that each set should include the 13 features mentioned earlier. As mentioned earlier, submit this table along with the written homework solutions as this is manually graded.\n",
    "\n",
    "---\n",
    "\n",
    "S.No. | Features                              | Best CCP Alpha (트리 복잡도 조절 최적 알파값) | Mean Cross-validation F1 Score (교차 검증으로 얻은 5개의 F1점수 평균) | Cross-validation F1 Score Confidence Interval (이건뭐지)\n",
    "--- |---------------------------------------|-----------------------------------|---------------------------------------------------------|------------------------------------------------------\n",
    "1 | 기본13개 열 + OHQ565, OHX28CSC            | 0.003927507624716095              | 0.4162247819474486                                      | 0.35381327514763267 ~ 0.47863628874726455            |\n",
    "2 | 기본13개 열 + OHX19SE, URDECPLC, LBDSGBSI | 0.003927507624716123              | 0.4162247819474486                                      | 0.35381327514763267 ~ 0.47863628874726455            |\n",
    "3 | 기본13개 열 + URDECPLC, OHQ565            | 0.002083997873471556              | 0.4021235590337935                                      | 0.33618422846890467 ~ 0.4680628895986823             |\n"
   ]
  },
  {
   "attachments": {},
   "cell_type": "markdown",
   "metadata": {},
   "source": [
    "# **7 Fit the Logistic Regression on Diabetes dataset (With only the required features in 6.2) [14 pts]**\n",
    "\n",
    "Fit a simple logistic regression on the training data using l2 penalty, $\\alpha$ = 0.01, maximum of iterations = 1000, and weight for the regularization consant for the l2 penalty  term is 0.001.\n",
    "You should be rescaling features using MinMaxScaler from sklearn.preprocessing to make sure that the features are properly scaled for learning."
   ]
  },
  {
   "cell_type": "code",
   "metadata": {
    "ExecuteTime": {
     "end_time": "2025-04-23T13:31:23.960194Z",
     "start_time": "2025-04-23T13:31:23.948136Z"
    }
   },
   "source": [
    "train_df, test_df = load_diabetes_datasets()\n",
    "train_df, test_df = preprocess_datasets(train_df, test_df)"
   ],
   "outputs": [],
   "execution_count": 253
  },
  {
   "cell_type": "code",
   "metadata": {
    "ExecuteTime": {
     "end_time": "2025-04-23T13:31:25.718955Z",
     "start_time": "2025-04-23T13:31:25.538873Z"
    }
   },
   "source": [
    "from sklearn.preprocessing import MinMaxScaler\n",
    "\n",
    "def fit_and_predict_logistic(train_df, test_df):\n",
    "    \"\"\"\n",
    "    Fit a logistic regression classifier on the training data and output the predictions on the\n",
    "    test set.\n",
    "\n",
    "    Args:\n",
    "        train_df\n",
    "        test_df\n",
    "\n",
    "    Returns:\n",
    "        y_test_pred: The predicted values for the test set\n",
    "    \"\"\"\n",
    "\n",
    "    # TODO START: Complete the function\n",
    "    # 데이터 세팅\n",
    "    x_train = train_df.drop(columns=['DIABETIC']).copy() # train_df에서 y 라벨 제거\n",
    "    y_label = train_df['DIABETIC'].values # train_df에서 y 라벨만 가져오기\n",
    "\n",
    "    # MinMaxScaler : train_df의 모든 feature를 0~1로 정규화해주는 객체\n",
    "    scaler = MinMaxScaler()\n",
    "    scaler.fit(x_train) # train_df의 feature에 맞춰서 scaler 객체 학습\n",
    "    scaled_x_train = scaler.transform(x_train) # train_df의 feature 정규화\n",
    "    scaled_x_test = scaler.transform(test_df) # test_df의 feature 정규화\n",
    "\n",
    "    # Logistic Regression\n",
    "    logistic_regressor = LogisticRegression(penalty='l2', alpha=0.01, max_iter=1000, lambd=0.001)\n",
    "    logistic_regressor.fit(scaled_x_train, y_label)\n",
    "\n",
    "    # Test\n",
    "    y_test_predicated = logistic_regressor.predict(scaled_x_test).astype(int)\n",
    "    return y_test_predicated\n",
    "\n",
    "    # TODO END\n",
    "\n",
    "y_test_pred_logistic = fit_and_predict_logistic(train_df, test_df)\n",
    "\n",
    "print(y_test_pred_logistic)\n",
    "np.unique(y_test_pred_logistic, return_counts=True)"
   ],
   "outputs": [
    {
     "name": "stdout",
     "output_type": "stream",
     "text": [
      "[0 0 0 ... 0 0 0]\n"
     ]
    },
    {
     "data": {
      "text/plain": [
       "(array([0]), array([2035]))"
      ]
     },
     "execution_count": 254,
     "metadata": {},
     "output_type": "execute_result"
    }
   ],
   "execution_count": 254
  },
  {
   "attachments": {},
   "cell_type": "markdown",
   "metadata": {},
   "source": [
    "## **8. Best Model on Diabetes Dataset, and Why. [6pts, manually graded]**\n",
    "\n",
    "Which one of Logistic Regression, and Decision Tree will provide the best performance on this dataset. Give reasons for your answer."
   ]
  },
  {
   "attachments": {},
   "cell_type": "markdown",
   "metadata": {
    "id": "x8wDM7Y9hkLg"
   },
   "source": [
    "## Submit to LMS\n",
    "Congratulation on completing HW1 coding assignment! The last step you need to do is to save this iPython notebook, rename it as **hw1-{yourstudentID}.ipynb** and submit it to LMS.\n",
    "\n",
    "*If using Google Colab, in order to download the notebook from Google Colab, click File->Download->Download .ipynb*\n"
   ]
  }
 ],
 "metadata": {
  "colab": {
   "provenance": []
  },
  "kernelspec": {
   "display_name": "Python 3 (ipykernel)",
   "language": "python",
   "name": "python3"
  },
  "language_info": {
   "codemirror_mode": {
    "name": "ipython",
    "version": 3
   },
   "file_extension": ".py",
   "mimetype": "text/x-python",
   "name": "python",
   "nbconvert_exporter": "python",
   "pygments_lexer": "ipython3",
   "version": "3.11.5"
  }
 },
 "nbformat": 4,
 "nbformat_minor": 0
}
