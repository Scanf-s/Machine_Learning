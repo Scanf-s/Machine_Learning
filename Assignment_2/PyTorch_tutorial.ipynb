{
  "cells": [
    {
      "cell_type": "markdown",
      "metadata": {
        "id": "uwxBJg3054tF"
      },
      "source": [
        "# PyTorch Tutorial\n",
        "\n",
        "This tutorial is mostly based on:\n",
        "\n",
        "* https://pytorch.org/tutorials/beginner/deep_learning_60min_blitz.html\n",
        "* https://pytorch.org/tutorials/beginner/pytorch_with_examples.html"
      ]
    },
    {
      "cell_type": "code",
      "execution_count": 1,
      "metadata": {
        "colab": {
          "base_uri": "https://localhost:8080/"
        },
        "id": "F4GoE0Hq54tG",
        "outputId": "3c2f785f-4bfd-430a-c988-99d8fa55f244"
      },
      "outputs": [
        {
          "output_type": "stream",
          "name": "stdout",
          "text": [
            "2.6.0+cu124\n"
          ]
        }
      ],
      "source": [
        "import numpy as np\n",
        "import torch\n",
        "\n",
        "print(torch.__version__)"
      ]
    },
    {
      "cell_type": "markdown",
      "metadata": {
        "id": "mQJXKDxjfJG7"
      },
      "source": [
        "## What is PyTorch?\n",
        "PyTorch is a framework for working with deep neural networks."
      ]
    },
    {
      "cell_type": "markdown",
      "metadata": {
        "id": "9nCxSbP1eSqq"
      },
      "source": [
        "## Why use PyTorch?\n",
        "- Autograd functionality computes gradients automatically\n",
        "- PyTorch integrates well with the Python data science stack, including NumPy, SciPy and Pandas for efficient data loading and processing pipelines\n",
        "- GPU acceleration allows for fast training and inference, utilizing the parallel processing power of GPUs\n",
        "- A large library of useful deep learning functions and modules are already built-in, enabling faster development and deployment of models\n"
      ]
    },
    {
      "cell_type": "markdown",
      "metadata": {
        "id": "ig65bPGsDeqq"
      },
      "source": [
        "## Overview\n",
        "- `torch.Tensor` basic tensor operation\n",
        "- `torch.Tensor.grad` auto-differentiation\n",
        "- `torch.cuda` devices other than CPU\n",
        "- `torch.nn` neural network blocks\n",
        "- `torch.utils.data` dataset and dataloader"
      ]
    },
    {
      "cell_type": "markdown",
      "metadata": {
        "id": "y5AXjLCz54tJ"
      },
      "source": [
        "## PyTorch Tensors\n",
        "\n",
        "PyTorch tensors are just like NumPy arrays, and they include many of the same operations you are used to from NumPy."
      ]
    },
    {
      "cell_type": "markdown",
      "metadata": {
        "id": "6KSKVAxA54tJ"
      },
      "source": [
        "Construct a tensor of size $5 \\times 3$ with random values:\n",
        "\n"
      ]
    },
    {
      "cell_type": "code",
      "execution_count": 2,
      "metadata": {
        "colab": {
          "base_uri": "https://localhost:8080/"
        },
        "id": "2EKqc9Rq54tK",
        "outputId": "35dd6f13-208c-4c8b-d8fd-fbf75d43b15e"
      },
      "outputs": [
        {
          "output_type": "stream",
          "name": "stdout",
          "text": [
            "tensor([[0.0707, 0.4512, 0.3418],\n",
            "        [0.4651, 0.1496, 0.9448],\n",
            "        [0.2503, 0.4716, 0.5215],\n",
            "        [0.7042, 0.0252, 0.3335],\n",
            "        [0.2908, 0.3086, 0.3764]])\n"
          ]
        }
      ],
      "source": [
        "x = torch.rand(5, 3)\n",
        "print(x)"
      ]
    },
    {
      "cell_type": "markdown",
      "metadata": {
        "id": "bZ9KbuE554tM"
      },
      "source": [
        "Construct a matrix filled with zeros and of dtype int:\n",
        "\n"
      ]
    },
    {
      "cell_type": "code",
      "execution_count": 3,
      "metadata": {
        "colab": {
          "base_uri": "https://localhost:8080/"
        },
        "id": "TTSHE-nx1Nd9",
        "outputId": "9245c72f-c0e8-4e2e-ee6a-87859b5c64c7"
      },
      "outputs": [
        {
          "output_type": "stream",
          "name": "stdout",
          "text": [
            "tensor([[0, 0, 0],\n",
            "        [0, 0, 0],\n",
            "        [0, 0, 0],\n",
            "        [0, 0, 0],\n",
            "        [0, 0, 0]], dtype=torch.int32)\n"
          ]
        }
      ],
      "source": [
        "# Create a 5x3 tensor filled with zeros using int32 datatype\n",
        "# torch.int32 provides a balance between memory usage and range\n",
        "x = torch.zeros(5, 3, dtype=torch.int32)  # torch.int = torch.int32 = 32-bit signed integer, range of (-2^31) to (2^31 - 1)\n",
        "print(x)"
      ]
    },
    {
      "cell_type": "markdown",
      "metadata": {
        "id": "HCB3e8Va1Nd9"
      },
      "source": [
        "Construct a matrix filled with zeros and of dtype long:\n"
      ]
    },
    {
      "cell_type": "code",
      "execution_count": 4,
      "metadata": {
        "colab": {
          "base_uri": "https://localhost:8080/"
        },
        "id": "Oa8OceHw54tN",
        "outputId": "c0560680-c6d6-40b0-c239-02e22114d34b"
      },
      "outputs": [
        {
          "output_type": "stream",
          "name": "stdout",
          "text": [
            "tensor([[0, 0, 0],\n",
            "        [0, 0, 0],\n",
            "        [0, 0, 0],\n",
            "        [0, 0, 0],\n",
            "        [0, 0, 0]])\n"
          ]
        }
      ],
      "source": [
        "# Create a 5x3 tensor filled with zeros using int64 (long) datatype\n",
        "# Use when working with large integers or when indexing large tensors\n",
        "x = torch.zeros(5, 3, dtype=torch.long)  # torch.long = torch.int64 = 64-bit signed integer, range of (-2^63) to (2^63 - 1)\n",
        "print(x)"
      ]
    },
    {
      "cell_type": "markdown",
      "metadata": {
        "id": "OiiA773h54tP"
      },
      "source": [
        "Make a tensor from a list of values:"
      ]
    },
    {
      "cell_type": "code",
      "execution_count": 5,
      "metadata": {
        "colab": {
          "base_uri": "https://localhost:8080/"
        },
        "id": "g5fCpQsy54tP",
        "outputId": "603babd4-050e-4b22-94d9-0a22664df22c"
      },
      "outputs": [
        {
          "output_type": "stream",
          "name": "stdout",
          "text": [
            "tensor([1, 2, 3])\n",
            "torch.int64\n",
            "tensor([1., 2., 3.])\n",
            "torch.float32\n"
          ]
        }
      ],
      "source": [
        "# PyTorch automatically infers appropriate datatypes based on input values\n",
        "# Integer without decimal points create tensors with torch.int64 (long) datatype\n",
        "x = torch.tensor([1, 2, 3])\n",
        "print(x)\n",
        "print(x.dtype)\n",
        "\n",
        "# Floating point literals with decimal points create tensors with torch.float32 datatype\n",
        "# float32 is the default floating-point precision in PyTorch\n",
        "x = torch.tensor([1., 2., 3.])\n",
        "print(x)\n",
        "print(x.dtype)"
      ]
    },
    {
      "cell_type": "markdown",
      "metadata": {
        "id": "jNNJG12d54tS"
      },
      "source": [
        "Create a tensor based on another tensor (inherit size and dtype, unless otherwise specified):"
      ]
    },
    {
      "cell_type": "markdown",
      "metadata": {
        "id": "95vGdEesf-8I"
      },
      "source": [
        "By default, the returned Tensor of `new_ones` has the same torch.dtype and torch.device as input tensor."
      ]
    },
    {
      "cell_type": "code",
      "execution_count": 6,
      "metadata": {
        "colab": {
          "base_uri": "https://localhost:8080/"
        },
        "id": "At5-rz6O54tS",
        "outputId": "00fe7ebd-82f2-4849-ca8f-9df6bdd40657"
      },
      "outputs": [
        {
          "output_type": "stream",
          "name": "stdout",
          "text": [
            "tensor([[1., 1., 1.],\n",
            "        [1., 1., 1.],\n",
            "        [1., 1., 1.],\n",
            "        [1., 1., 1.],\n",
            "        [1., 1., 1.]])\n",
            "tensor([[-0.9017,  1.0983, -0.0548],\n",
            "        [ 1.3406, -1.1677,  0.6984],\n",
            "        [ 1.1553, -0.4906,  0.0090],\n",
            "        [-2.7863, -0.4778,  1.2216],\n",
            "        [ 0.0971,  0.1394,  0.0593]])\n"
          ]
        }
      ],
      "source": [
        "# Create a new tensor with the same dtype and device as x, but filled with ones\n",
        "# new_* methods (like new_ones) inherit properties (dtype and device) from the source tensor\n",
        "# new_* methods take output matrix size as input parameters\n",
        "x = x.new_ones(5, 3)\n",
        "print(x)\n",
        "\n",
        "# Create a tensor with same shape as x but filled with random values from normal distribution\n",
        "# Note: randn samples from standard normal distribution (mean=0, std=1)\n",
        "x = torch.randn_like(x, dtype=torch.float)  # override dtype!\n",
        "print(x)                                    # result has the same size"
      ]
    },
    {
      "cell_type": "markdown",
      "metadata": {
        "id": "HnbhwMxT54tW"
      },
      "source": [
        "Get the size object of a tensor, an object which supports tuple operations:"
      ]
    },
    {
      "cell_type": "code",
      "execution_count": 7,
      "metadata": {
        "colab": {
          "base_uri": "https://localhost:8080/"
        },
        "id": "0WN8pUnL54tW",
        "outputId": "62dca368-22dc-4b58-ff22-894439e2a5c0"
      },
      "outputs": [
        {
          "output_type": "stream",
          "name": "stdout",
          "text": [
            "torch.Size([5, 3])\n"
          ]
        },
        {
          "output_type": "execute_result",
          "data": {
            "text/plain": [
              "torch.Size([5, 3])"
            ]
          },
          "metadata": {},
          "execution_count": 7
        }
      ],
      "source": [
        "# size() is a method that returns a torch.size object\n",
        "# It shows the dimensions of the tensor in each axis\n",
        "print(x.size())\n",
        "\n",
        "# shape is an attribute that provides the same information as size()\n",
        "# This is equivalent to size() but follows NumPy's style convention\n",
        "x.shape"
      ]
    },
    {
      "cell_type": "markdown",
      "metadata": {
        "id": "-Yl7e9aq54tY"
      },
      "source": [
        "Operations on tensors use similar syntax to NumPy:"
      ]
    },
    {
      "cell_type": "code",
      "execution_count": 8,
      "metadata": {
        "colab": {
          "base_uri": "https://localhost:8080/"
        },
        "id": "88YT3jWB54tZ",
        "outputId": "e557505a-f358-42db-96dc-44de5c7ea062"
      },
      "outputs": [
        {
          "output_type": "stream",
          "name": "stdout",
          "text": [
            "x + y: tensor([[2., 2., 2.],\n",
            "        [2., 2., 2.],\n",
            "        [2., 2., 2.],\n",
            "        [2., 2., 2.],\n",
            "        [2., 2., 2.]])\n",
            "torch.add(x, y): tensor([[2., 2., 2.],\n",
            "        [2., 2., 2.],\n",
            "        [2., 2., 2.],\n",
            "        [2., 2., 2.],\n",
            "        [2., 2., 2.]])\n",
            "x: tensor([[1., 1., 1.],\n",
            "        [1., 1., 1.],\n",
            "        [1., 1., 1.],\n",
            "        [1., 1., 1.],\n",
            "        [1., 1., 1.]])\n",
            "y: tensor([[1., 1., 1.],\n",
            "        [1., 1., 1.],\n",
            "        [1., 1., 1.],\n",
            "        [1., 1., 1.],\n",
            "        [1., 1., 1.]])\n"
          ]
        }
      ],
      "source": [
        "# Create two 5x3 tensors filled with ones\n",
        "x = torch.ones(5, 3)\n",
        "y = torch.ones(5, 3)\n",
        "\n",
        "# Element-wise addition using operator syntax (creates a new tensor)\n",
        "print(\"x + y:\", x + y)\n",
        "\n",
        "# Element-wise addition using function syntax (equivalent to operator syntax)\n",
        "print(\"torch.add(x, y):\", torch.add(x, y))\n",
        "\n",
        "# Original tensors remain unchanged\n",
        "print(\"x:\", x)\n",
        "print(\"y:\", y)"
      ]
    },
    {
      "cell_type": "markdown",
      "metadata": {
        "id": "TA5GHiwL54tb"
      },
      "source": [
        "PyTorch also supports in-place operations (method names end in '_'):"
      ]
    },
    {
      "cell_type": "code",
      "execution_count": 9,
      "metadata": {
        "colab": {
          "base_uri": "https://localhost:8080/"
        },
        "id": "KIVoVr4t54tb",
        "outputId": "438eb1e4-2c9b-4ed2-949a-26595464b268"
      },
      "outputs": [
        {
          "output_type": "stream",
          "name": "stdout",
          "text": [
            "tensor([[2., 2., 2.],\n",
            "        [2., 2., 2.],\n",
            "        [2., 2., 2.],\n",
            "        [2., 2., 2.],\n",
            "        [2., 2., 2.]])\n"
          ]
        }
      ],
      "source": [
        "# In-place operations modify the tensor directly and are denoted by a trailing underscore (_)\n",
        "# add_ adds x to y and stores the result in y (equivalent to y = y + x)\n",
        "y.add_(x)\n",
        "print(y)"
      ]
    },
    {
      "cell_type": "markdown",
      "metadata": {
        "id": "b7SsQGJZ1Nd-"
      },
      "source": [
        "#### Qn: What happens if you run y.add_(x) again?"
      ]
    },
    {
      "cell_type": "code",
      "execution_count": 10,
      "metadata": {
        "colab": {
          "base_uri": "https://localhost:8080/"
        },
        "id": "jyI2nSIv1Nd-",
        "outputId": "67b70ef6-a830-4b76-9566-1a5b0daf1f09"
      },
      "outputs": [
        {
          "output_type": "stream",
          "name": "stdout",
          "text": [
            "tensor([[3., 3., 3.],\n",
            "        [3., 3., 3.],\n",
            "        [3., 3., 3.],\n",
            "        [3., 3., 3.],\n",
            "        [3., 3., 3.]])\n"
          ]
        }
      ],
      "source": [
        "# What happens if you run y.add_(x) again?\n",
        "# y.add_(x) will add x to y again, but this time it will use the updated y value\n",
        "# This is because in-place operations modify the tensor in place\n",
        "# So if you run y.add_(x) again, it will use the new value of y after the first addition\n",
        "y.add_(x)\n",
        "print(y) # 메모리 참조를 통해 Add를 수행했으므로 3으로 채워진다\n"
      ]
    },
    {
      "cell_type": "markdown",
      "metadata": {
        "id": "DaRuJ9eS1Nd-"
      },
      "source": [
        "#### Qn: What function does \"Run before\" command serve in Google colab?"
      ]
    },
    {
      "cell_type": "code",
      "execution_count": 11,
      "metadata": {
        "id": "1Fc2EBVq1Nd-"
      },
      "outputs": [],
      "source": [
        "# NOTE: For jupyter notebooks, do not run cells that update values of certain variables,\n",
        "# tensors or have inplace operations multiple times!\n",
        "# This is because the variable values will be updated and the next cells that use those variables will give incorrect results.\n",
        "\n",
        "# Solution for Google colab:\n",
        "# Step 1: Edit >> Clear all outputs without restarting the kernel (수정 -> 모든 출력 제거)\n",
        "# Step 2: Runtime >> Interrupt execution (this will interrupt the execution of the current cell) (런타임 -> 실행 중단)\n",
        "# Step 3: Runtime >> Restart session (this will restart the kernel and clear all variables) (런타임 -> 세션 다시 시작)\n",
        "# Step 4: Runtime >> Run before (this will run all the cells before the current cell) (런타임 -> 이전 셀 실행)\n",
        "\n",
        "# These steps ensure that the variable values are not changed unexpectedly!"
      ]
    },
    {
      "cell_type": "markdown",
      "metadata": {
        "id": "pB4lLJtW5FbL"
      },
      "source": [
        "Example of broadcasting:\n",
        "\n",
        "To learn more:\n",
        "- Broadcasting basics using Numpy: https://numpy.org/doc/stable/user/basics.broadcasting.html\n",
        "- Visual Example of Broadcasting using Numpy:  https://numpy.org/doc/stable/_images/broadcasting_2.png\n",
        "- <a href=\"https://numpy.org/doc/stable/user/basics.broadcasting.html\">\n",
        "  <img src=\"https://numpy.org/doc/stable/_images/broadcasting_2.png\"\n",
        "       alt=\"Broadcasting example\" width=\"500\"/>\n",
        "</a>\n",
        "- Broadcasting basics using PyTorch: https://pytorch.org/docs/stable/notes/broadcasting.html"
      ]
    },
    {
      "cell_type": "code",
      "execution_count": 12,
      "metadata": {
        "colab": {
          "base_uri": "https://localhost:8080/"
        },
        "id": "UhKtv0wv1Nd-",
        "outputId": "0744e952-e9c8-4a10-a815-b0f5bb3a4db9"
      },
      "outputs": [
        {
          "output_type": "stream",
          "name": "stdout",
          "text": [
            "Shape of a: (4, 3)\n",
            "Shape of b: (3,)\n"
          ]
        },
        {
          "output_type": "execute_result",
          "data": {
            "text/plain": [
              "array([[ 1.,  2.,  3.],\n",
              "       [11., 12., 13.],\n",
              "       [21., 22., 23.],\n",
              "       [31., 32., 33.]])"
            ]
          },
          "metadata": {},
          "execution_count": 12
        }
      ],
      "source": [
        "import numpy as np\n",
        "a = np.array([[ 0.0,  0.0,  0.0],\n",
        "              [10.0, 10.0, 10.0],\n",
        "              [20.0, 20.0, 20.0],\n",
        "              [30.0, 30.0, 30.0]])\n",
        "b = np.array([1.0, 2.0, 3.0]) # 차원을 a 기준으로 맞춰서 값 broadcasting\n",
        "\n",
        "print(f\"Shape of a: {a.shape}\")\n",
        "print(f\"Shape of b: {b.shape}\")\n",
        "a + b\n"
      ]
    },
    {
      "cell_type": "markdown",
      "metadata": {
        "id": "DYELL_yO1Nd_"
      },
      "source": [
        "#### Qn: What happens if a has shape (4,3) and b has shape (4,)?"
      ]
    },
    {
      "cell_type": "code",
      "execution_count": 13,
      "metadata": {
        "id": "hdSb1FXs1Nd_"
      },
      "outputs": [],
      "source": [
        "# b = np.array([1.0, 2.0, 3.0, 4.0])\n",
        "# a + b"
      ]
    },
    {
      "cell_type": "code",
      "execution_count": 14,
      "metadata": {
        "colab": {
          "base_uri": "https://localhost:8080/"
        },
        "id": "QJ96VUUj5LGZ",
        "outputId": "f288cd88-2880-44a0-db7a-6b20bef3562b"
      },
      "outputs": [
        {
          "output_type": "stream",
          "name": "stdout",
          "text": [
            "x + y: [[4. 4. 4.]\n",
            " [4. 4. 4.]\n",
            " [4. 4. 4.]\n",
            " [4. 4. 4.]\n",
            " [4. 4. 4.]]\n"
          ]
        }
      ],
      "source": [
        "import numpy as np\n",
        "\n",
        "# NumPy broadcasting: scalar to array\n",
        "# The scalar value 3 is broadcast to match the (shape of x) = (5,3)\n",
        "x = np.ones((5,3)) # 1로 채워진 5행 3열 np.array\n",
        "y = 3 # x를 기준으로 y가 3으로 채워진 5행 3열 np.array로 broadcast됨\n",
        "print(\"x + y:\", x + y)\n"
      ]
    },
    {
      "cell_type": "code",
      "execution_count": 15,
      "metadata": {
        "colab": {
          "base_uri": "https://localhost:8080/"
        },
        "id": "kdYcY1EI1Nd_",
        "outputId": "fc2786a7-cb5d-4633-9242-9b1a43304ca6"
      },
      "outputs": [
        {
          "output_type": "stream",
          "name": "stdout",
          "text": [
            "x + y: tensor([[3., 3., 3.],\n",
            "        [3., 3., 3.],\n",
            "        [3., 3., 3.],\n",
            "        [3., 3., 3.],\n",
            "        [3., 3., 3.]])\n"
          ]
        }
      ],
      "source": [
        "# PyTorch broadcasting: scalar to tensor\n",
        "# Similar to NumPy, PyTorch broadcasts the scalar value 2 to match x's shape\n",
        "x = torch.ones(5, 3)\n",
        "y = 2\n",
        "print(\"x + y:\", x + y)\n"
      ]
    },
    {
      "cell_type": "code",
      "execution_count": 16,
      "metadata": {
        "colab": {
          "base_uri": "https://localhost:8080/"
        },
        "id": "3fl3QFw91Nd_",
        "outputId": "d543001b-4d2a-419a-c394-882342d66b4c"
      },
      "outputs": [
        {
          "output_type": "stream",
          "name": "stdout",
          "text": [
            "x is tensor([[1., 1., 1.],\n",
            "        [1., 1., 1.],\n",
            "        [1., 1., 1.],\n",
            "        [1., 1., 1.],\n",
            "        [1., 1., 1.]]), \n",
            "\n",
            "Shape of x is torch.Size([5, 3])\n",
            "\n",
            "y is tensor([[1.],\n",
            "        [1.],\n",
            "        [1.],\n",
            "        [1.],\n",
            "        [1.]]), \n",
            "\n",
            "Shape of y is torch.Size([5, 1])\n"
          ]
        }
      ],
      "source": [
        "# PyTorch broadcasting: tensor to tensor with different shapes\n",
        "x = torch.ones(5, 3)\n",
        "y = torch.ones(5, 1)\n",
        "\n",
        "print(f\"x is {x}, \\n\\nShape of x is {x.shape}\\n\")\n",
        "print(f\"y is {y}, \\n\\nShape of y is {y.shape}\")\n"
      ]
    },
    {
      "cell_type": "markdown",
      "metadata": {
        "id": "PA6fw1lL1Nd_"
      },
      "source": [
        "#### Qn: Which dimension will y be broadcast along?\n"
      ]
    },
    {
      "cell_type": "code",
      "execution_count": 17,
      "metadata": {
        "colab": {
          "base_uri": "https://localhost:8080/"
        },
        "id": "wFF6wJaT1Nd_",
        "outputId": "c003b171-eb24-4244-878f-de818c16a84b"
      },
      "outputs": [
        {
          "output_type": "stream",
          "name": "stdout",
          "text": [
            "x + y: tensor([[2., 2., 2.],\n",
            "        [2., 2., 2.],\n",
            "        [2., 2., 2.],\n",
            "        [2., 2., 2.],\n",
            "        [2., 2., 2.]])\n"
          ]
        }
      ],
      "source": [
        "# Here, y has shape (5,1) and is broadcast across the second dimension to match x's shape (5,3)\n",
        "# The value from each row in y is added to each element in the corresponding row of x\n",
        "print(\"x + y:\", x + y) # y는 5행 3열로 broadcast 된다\n"
      ]
    },
    {
      "cell_type": "code",
      "execution_count": 18,
      "metadata": {
        "id": "p5bMijTS1Nd_"
      },
      "outputs": [],
      "source": [
        "# # failed case of conflicting dimension\n",
        "# x = torch.ones(5, 3)\n",
        "# y = torch.ones(3, 5)\n",
        "# print(\"x + y:\", x + y)\n",
        "\n",
        "# 행과 열 둘중에 하나는 맞아야지 broadcast 된다"
      ]
    },
    {
      "cell_type": "markdown",
      "metadata": {
        "id": "AxMWCAkB54te"
      },
      "source": [
        "Indexing works as you would expect:"
      ]
    },
    {
      "cell_type": "code",
      "execution_count": 19,
      "metadata": {
        "colab": {
          "base_uri": "https://localhost:8080/"
        },
        "id": "m39EwjI354te",
        "outputId": "aef4175f-38d2-4ea8-aeb2-31ee01b65b00"
      },
      "outputs": [
        {
          "output_type": "stream",
          "name": "stdout",
          "text": [
            "tensor([[ 0.9759, -0.3613, -0.0161],\n",
            "        [-0.1024, -0.9861, -1.1122],\n",
            "        [ 1.1282,  2.0349, -0.1299],\n",
            "        [ 0.0699, -0.1517, -1.4928],\n",
            "        [-0.7134, -0.4525, -1.2127]])\n",
            "tensor([[-0.1024, -0.9861, -1.1122],\n",
            "        [ 1.1282,  2.0349, -0.1299],\n",
            "        [ 0.0699, -0.1517, -1.4928]])\n"
          ]
        }
      ],
      "source": [
        "x = torch.randn(5, 3)\n",
        "print(x)\n",
        "print(x[1:4, :])"
      ]
    },
    {
      "cell_type": "code",
      "execution_count": 20,
      "metadata": {
        "colab": {
          "base_uri": "https://localhost:8080/"
        },
        "id": "eV_vZgX30bft",
        "outputId": "b5fe9703-76ae-4ab5-ef33-050a4ae4e2d5"
      },
      "outputs": [
        {
          "output_type": "stream",
          "name": "stdout",
          "text": [
            "tensor([[0.9759, 0.0000, 0.0000],\n",
            "        [0.0000, 0.0000, 0.0000],\n",
            "        [1.1282, 2.0349, 0.0000],\n",
            "        [0.0699, 0.0000, 0.0000],\n",
            "        [0.0000, 0.0000, 0.0000]])\n"
          ]
        }
      ],
      "source": [
        "# indexing by operators\n",
        "x[x < 0] = 0\n",
        "print(x)"
      ]
    },
    {
      "cell_type": "markdown",
      "metadata": {
        "id": "ipHSy8b-gv0e"
      },
      "source": [
        "You can change the order of the dimensions of a tensor with `torch.permute()`:"
      ]
    },
    {
      "cell_type": "code",
      "execution_count": 21,
      "metadata": {
        "colab": {
          "base_uri": "https://localhost:8080/"
        },
        "id": "RrYUa-7ag1LG",
        "outputId": "7e86a918-a0db-4986-d909-c81d81ddc86e"
      },
      "outputs": [
        {
          "output_type": "stream",
          "name": "stdout",
          "text": [
            "x is tensor([[[-0.5885, -1.1555],\n",
            "         [-1.4082, -1.3841],\n",
            "         [-0.3473, -0.1711]],\n",
            "\n",
            "        [[ 1.0031,  1.8055],\n",
            "         [-1.5155,  1.0256],\n",
            "         [-0.7633, -0.4089]],\n",
            "\n",
            "        [[-0.1012,  0.7068],\n",
            "         [ 1.2181, -1.4369],\n",
            "         [ 0.7641, -0.5061]],\n",
            "\n",
            "        [[-0.4130, -0.6140],\n",
            "         [ 0.1290,  0.0468],\n",
            "         [-1.1341, -0.0654]],\n",
            "\n",
            "        [[-2.9475,  0.5162],\n",
            "         [-1.2857, -1.2505],\n",
            "         [-1.5673, -0.2162]]]), \n",
            "\n",
            "Shape of x is torch.Size([5, 3, 2])\n"
          ]
        }
      ],
      "source": [
        "# Create a 3D tensor with random values from a normal distribution\n",
        "# Shape (5, 3, 2) means:\n",
        "#   - 5 elements in the first dimension (think of as \"layers\") == Index 0\n",
        "#   - 3 elements in the second dimension (think of as \"rows\") == Index 1\n",
        "#   - 2 elements in the third dimension (think of as \"columns\") == Index 2\n",
        "x = torch.randn(5, 3, 2) # 3행 2열의 5차원 torch 생성\n",
        "print(f\"x is {x}, \\n\\nShape of x is {x.shape}\")\n"
      ]
    },
    {
      "cell_type": "markdown",
      "metadata": {
        "id": "YSXUftrN1NeF"
      },
      "source": [
        "#### Qn: What would permute(1,2,0) avhieve? Is the data still the same?"
      ]
    },
    {
      "cell_type": "code",
      "execution_count": 22,
      "metadata": {
        "colab": {
          "base_uri": "https://localhost:8080/"
        },
        "id": "ZpAAdnsw1NeF",
        "outputId": "3a5b8e8c-58d8-4704-a3ce-b3b4ce7a1d7e"
      },
      "outputs": [
        {
          "output_type": "stream",
          "name": "stdout",
          "text": [
            "x.permute(1,2,0) is:\n",
            "tensor([[[-0.5885,  1.0031, -0.1012, -0.4130, -2.9475],\n",
            "         [-1.1555,  1.8055,  0.7068, -0.6140,  0.5162]],\n",
            "\n",
            "        [[-1.4082, -1.5155,  1.2181,  0.1290, -1.2857],\n",
            "         [-1.3841,  1.0256, -1.4369,  0.0468, -1.2505]],\n",
            "\n",
            "        [[-0.3473, -0.7633,  0.7641, -1.1341, -1.5673],\n",
            "         [-0.1711, -0.4089, -0.5061, -0.0654, -0.2162]]])\n",
            "\n",
            "Shape of x.permute(1,2,0) is: torch.Size([3, 2, 5])\n"
          ]
        }
      ],
      "source": [
        "# Ans: no values are changed, only how they're organized in memory and how you access them!\n",
        "# permute rearranges the dimensions of a tensor : permute는 tensor의 실제 데이터 값을 바꾸는게 아니라 읽는 순서만 바꾸는 메서드\n",
        "# permute(1,2,0) changes the order of dimensions from (0,1,2) to (1,2,0)\n",
        "# 위의 결과를 보면 5개 차원의 3행 2열 행렬로 읽었는데,\n",
        "# 아래 결과를 보면 3개 차원의 2행 5열 행렬로 읽는다.\n",
        "# This is like transposing a matrix, but generalized to higher dimensions\n",
        "\n",
        "print(f\"x.permute(1,2,0) is:\\n{x.permute(1,2,0)}\\n\")\n",
        "print(f\"Shape of x.permute(1,2,0) is: {x.permute(1,2,0).shape}\")"
      ]
    },
    {
      "cell_type": "markdown",
      "metadata": {
        "id": "UBccd2N7Mp4_"
      },
      "source": [
        "Tensor data types and casting:"
      ]
    },
    {
      "cell_type": "code",
      "execution_count": 23,
      "metadata": {
        "colab": {
          "base_uri": "https://localhost:8080/"
        },
        "id": "v52347k654th",
        "outputId": "c3dc222f-8119-4601-eca7-266f630b1b98"
      },
      "outputs": [
        {
          "output_type": "stream",
          "name": "stdout",
          "text": [
            "tensor([[1., 1., 1.],\n",
            "        [1., 1., 1.],\n",
            "        [1., 1., 1.]], dtype=torch.float64)\n"
          ]
        }
      ],
      "source": [
        "# torch.double is equivalent to torch.float64 (64-bit floating point)\n",
        "a = torch.ones(3, 3, dtype=torch.double)\n",
        "print(a)"
      ]
    },
    {
      "cell_type": "code",
      "execution_count": 24,
      "metadata": {
        "colab": {
          "base_uri": "https://localhost:8080/"
        },
        "id": "qVlmY6tO1NeF",
        "outputId": "173bfe18-3e3a-40e8-e1b5-125ce233446c"
      },
      "outputs": [
        {
          "output_type": "stream",
          "name": "stdout",
          "text": [
            "b is tensor([[1, 1, 1],\n",
            "        [1, 1, 1],\n",
            "        [1, 1, 1]]), \n",
            "\n",
            "Type of b is torch.LongTensor\n",
            "c is tensor([[1, 1, 1],\n",
            "        [1, 1, 1],\n",
            "        [1, 1, 1]], dtype=torch.int32), \n",
            "\n",
            "Type of c is torch.IntTensor\n",
            "a is tensor([[1., 1., 1.],\n",
            "        [1., 1., 1.],\n",
            "        [1., 1., 1.]], dtype=torch.float64), \n",
            "\n",
            "Type of a is torch.DoubleTensor\n"
          ]
        }
      ],
      "source": [
        "# Converting tensor to long (int64) data type\n",
        "# .long() is a convenience method equivalent to a.to(torch.int64)\n",
        "b = a.long()\n",
        "print(f\"b is {b}, \\n\\nType of b is {b.type()}\")\n",
        "\n",
        "# Converting tensor to int (int32) data type\n",
        "# .int() is a convenience method equivalent to a.to(torch.int32)\n",
        "c = a.int()\n",
        "print(f\"c is {c}, \\n\\nType of c is {c.type()}\")\n",
        "\n",
        "# check value of a again! 타입 캐스팅 시 깊은 복사가 일어나서 새로운 메모리 공간이 할당된다. 즉 a가 가리키는 메모리랑 b, c가 가리키는 메모리가 다름 (새로운 텐서 반환)\n",
        "print(f\"a is {a}, \\n\\nType of a is {a.type()}\")\n"
      ]
    },
    {
      "cell_type": "markdown",
      "metadata": {
        "id": "K9jROw58rvVZ"
      },
      "source": [
        "Documentation on various dtypes: https://pytorch.org/docs/stable/tensors.html"
      ]
    },
    {
      "cell_type": "markdown",
      "metadata": {
        "id": "strIC2QY54tk"
      },
      "source": [
        "### More useful PyTorch Tensor operations\n",
        "\n",
        "To see the complete API check here: https://pytorch.org/docs/stable/tensors.html"
      ]
    },
    {
      "cell_type": "markdown",
      "metadata": {
        "id": "_tWE7sT0uvue"
      },
      "source": [
        "`.view()` can be used to resize/reshape tensors:\n"
      ]
    },
    {
      "cell_type": "code",
      "execution_count": 25,
      "metadata": {
        "colab": {
          "base_uri": "https://localhost:8080/"
        },
        "id": "lXwIvBQS54tk",
        "outputId": "910a31e6-ba36-4071-9e05-98ab85949818"
      },
      "outputs": [
        {
          "output_type": "stream",
          "name": "stdout",
          "text": [
            "torch.Size([4, 4]) torch.Size([16]) torch.Size([2, 8])\n"
          ]
        }
      ],
      "source": [
        "x = torch.randn(4, 4)\n",
        "y = x.view(16) # 16개의 열로 변환\n",
        "z = x.view(-1, 8)  # the size -1 is inferred from other dimensions (-1 넣으면 알아서 계산해서 정해준다는 이야기)\n",
        "print(x.size(), y.size(), z.size())"
      ]
    },
    {
      "cell_type": "markdown",
      "metadata": {
        "id": "PYTgOyt5u1ph"
      },
      "source": [
        "If you have a one element tensor, use `.item()` to get the value as a Python number:\n"
      ]
    },
    {
      "cell_type": "code",
      "execution_count": 26,
      "metadata": {
        "colab": {
          "base_uri": "https://localhost:8080/"
        },
        "id": "e-rltnVuu69S",
        "outputId": "d7ae9a9e-1395-4b77-ebf1-b76cbf1f9858"
      },
      "outputs": [
        {
          "output_type": "stream",
          "name": "stdout",
          "text": [
            "tensor(20.)\n",
            "20.0\n"
          ]
        }
      ],
      "source": [
        "x = torch.ones(4,5)\n",
        "x = x.sum()\n",
        "print(x)\n",
        "print(x.item()) # item()을 사용하면 Python 자료구조 형태로 바꿔준다."
      ]
    },
    {
      "cell_type": "markdown",
      "metadata": {
        "id": "eV_tHHW85m-U"
      },
      "source": [
        "Concatenating two matrices together"
      ]
    },
    {
      "cell_type": "code",
      "execution_count": 27,
      "metadata": {
        "colab": {
          "base_uri": "https://localhost:8080/"
        },
        "id": "C7L-sqwK5mOA",
        "outputId": "727ba9c1-05f2-46e7-edf3-b90873a4a197"
      },
      "outputs": [
        {
          "output_type": "stream",
          "name": "stdout",
          "text": [
            "tensor([[1., 1., 1., 0., 0.],\n",
            "        [1., 1., 1., 0., 0.],\n",
            "        [1., 1., 1., 0., 0.],\n",
            "        [1., 1., 1., 0., 0.],\n",
            "        [1., 1., 1., 0., 0.]])\n"
          ]
        }
      ],
      "source": [
        "x = torch.ones(5, 3)\n",
        "y = torch.zeros(5, 2)\n",
        "print(torch.cat([x, y], dim=1))\n"
      ]
    },
    {
      "cell_type": "markdown",
      "metadata": {
        "id": "qnSnOy3C1NeG"
      },
      "source": [
        "#### Qn: What happens if you try to concatenate along dim=0?"
      ]
    },
    {
      "cell_type": "code",
      "execution_count": 28,
      "metadata": {
        "colab": {
          "base_uri": "https://localhost:8080/"
        },
        "id": "ePrHECAT1NeG",
        "outputId": "0e09b83c-c880-464b-c7a1-c3dc15d6f3b9"
      },
      "outputs": [
        {
          "output_type": "stream",
          "name": "stdout",
          "text": [
            "RuntimeError: 행을 제외한 나머지 차원이 다르면 안돼요\n",
            "tensor([[1., 1., 1., 0., 0.],\n",
            "        [1., 1., 1., 0., 0.],\n",
            "        [1., 1., 1., 0., 0.],\n",
            "        [1., 1., 1., 0., 0.],\n",
            "        [1., 1., 1., 0., 0.]])\n"
          ]
        }
      ],
      "source": [
        "# # Ans: RuntimeError: Sizes of tensors must match except in dimension 0:\n",
        "try:\n",
        "    print(torch.cat([x, y], dim=0))\n",
        "except Exception :\n",
        "    print(\"RuntimeError: 행을 제외한 나머지 차원이 다르면 안돼요\")\n",
        "# x는 5행 3열, y는 5행 2열\n",
        "# dim=0이라는건, 첫번째 축 방향(행)으로 이어붙이기 떄문에, 차원 0을 제외한 나머지 차원이 일치해야 한다.\n",
        "# 이 경우, x와 y의 두번째 출 방향(열)이 다르므로 오류가 발생한다.\n",
        "print(torch.cat([x, y], dim=1)) # 그럼 이 경우는 가능하다"
      ]
    },
    {
      "cell_type": "markdown",
      "metadata": {
        "id": "Y023N4uw54tm"
      },
      "source": [
        "### Converting between NumPy arrays and PyTorch Tensors\n",
        "\n",
        "Important: PyTorch Tensors and NumPy arrays will share the same underlying memory locations. If you change values for one, the values for the other will be changed too."
      ]
    },
    {
      "cell_type": "markdown",
      "metadata": {
        "id": "m3VKumG9ump-"
      },
      "source": [
        "Convert PyTorch Tensor to NumPy array:\n",
        "\n",
        "such conversion requires source tensor to be on CPU."
      ]
    },
    {
      "cell_type": "code",
      "execution_count": 29,
      "metadata": {
        "colab": {
          "base_uri": "https://localhost:8080/"
        },
        "id": "3xa88YHL54tn",
        "outputId": "0c52fb03-209f-491b-9195-d9819352d84f"
      },
      "outputs": [
        {
          "output_type": "stream",
          "name": "stdout",
          "text": [
            "a is tensor([1., 1., 1., 1., 1.])\n",
            "b is [1. 1. 1. 1. 1.]\n"
          ]
        },
        {
          "output_type": "execute_result",
          "data": {
            "text/plain": [
              "tensor([2., 2., 2., 2., 2.])"
            ]
          },
          "metadata": {},
          "execution_count": 29
        }
      ],
      "source": [
        "a = torch.ones(5)\n",
        "print(f\"a is {a}\")\n",
        "\n",
        "# Convert PyTorch tensor to NumPy array\n",
        "# Note: This conversion only works for source tensors on CPU, not for GPU tensors\n",
        "# 텐서를 numpy 배열로 바꿀때는 .numpy()사용\n",
        "b = a.numpy() # 얕은 복사 수행 (b가 a랑 동일한 메모리를 가리킴)\n",
        "print(f\"b is {b}\")\n",
        "\n",
        "# Perform an in-place addition of 1 to the tensor\n",
        "a.add_(1)"
      ]
    },
    {
      "cell_type": "code",
      "execution_count": 30,
      "metadata": {
        "colab": {
          "base_uri": "https://localhost:8080/"
        },
        "id": "oe9wZrJY1NeG",
        "outputId": "f523b38c-1ce4-4eab-a3e1-6b35d1cd3d8e"
      },
      "outputs": [
        {
          "output_type": "stream",
          "name": "stdout",
          "text": [
            "a is tensor([2., 2., 2., 2., 2.])\n",
            "b is [2. 2. 2. 2. 2.]\n"
          ]
        }
      ],
      "source": [
        "# Both the tensor and array now contain 2's instead of 1's\n",
        "# This demonstrates that the tensor and array share the same underlying memory\n",
        "print(f\"a is {a}\")  # PyTorch tensor is modified\n",
        "print(f\"b is {b}\")  # NumPy array is also modified because of shared memory!"
      ]
    },
    {
      "cell_type": "markdown",
      "metadata": {
        "id": "hMIhgJgivCsm"
      },
      "source": [
        "Convert NumPy array to PyTorch Tensor:"
      ]
    },
    {
      "cell_type": "code",
      "execution_count": 31,
      "metadata": {
        "colab": {
          "base_uri": "https://localhost:8080/"
        },
        "id": "55AFarlO54tp",
        "outputId": "ae7ca8af-2203-41c9-8370-e117947b5804"
      },
      "outputs": [
        {
          "output_type": "stream",
          "name": "stdout",
          "text": [
            "<class 'torch.Tensor'>\n",
            "[1. 1. 1. 1. 1.]\n",
            "tensor([1., 1., 1., 1., 1.], dtype=torch.float64)\n"
          ]
        }
      ],
      "source": [
        "#반대로 넘파이를 텐서로 바꾸고 싶다면\n",
        "a = np.ones(5)\n",
        "b = torch.from_numpy(a) # .numpy(), .from_numpy() => 얕은 복사 수행\n",
        "print(type(b))\n",
        "print(a)\n",
        "print(b)"
      ]
    },
    {
      "cell_type": "markdown",
      "metadata": {
        "id": "bw5RXmXQ1NeG"
      },
      "source": [
        "#### Qn: What happens if I run the cell below twice?"
      ]
    },
    {
      "cell_type": "code",
      "execution_count": 32,
      "metadata": {
        "colab": {
          "base_uri": "https://localhost:8080/"
        },
        "id": "YhXGKdwU1NeG",
        "outputId": "b21c4438-d904-43d1-dfd7-25038a727931"
      },
      "outputs": [
        {
          "output_type": "stream",
          "name": "stdout",
          "text": [
            "a is [2. 2. 2. 2. 2.]\n",
            "b is tensor([2., 2., 2., 2., 2.], dtype=torch.float64)\n"
          ]
        }
      ],
      "source": [
        "# Perform in-place addition on the NumPy array\n",
        "# The 'out=a' parameter means the result is stored back in 'a' (in-place operation)\n",
        "np.add(a, 1, out=a) # add_는 pytorch 메서드 -> numpy에서는 add()의 parameter로 out=대상 지정\n",
        "\n",
        "# Both the NumPy array and PyTorch tensor now contain 2's instead of 1's\n",
        "# This demonstrates the shared memory between PyTorch tensors and NumPy arrays\n",
        "print(f\"a is {a}\")\n",
        "print(f\"b is {b}\")"
      ]
    },
    {
      "cell_type": "markdown",
      "metadata": {
        "id": "Gg90vky-54tr"
      },
      "source": [
        "## CUDA Tensors (On GPU)\n",
        "\n",
        "PyTorch tensors have the added benefit that they can easily be placed on a GPU to speed up computations."
      ]
    },
    {
      "cell_type": "markdown",
      "metadata": {
        "id": "l_Lfnh2wPeQz"
      },
      "source": [
        "Query information about the GPU (if CUDA is available):"
      ]
    },
    {
      "cell_type": "code",
      "execution_count": 33,
      "metadata": {
        "colab": {
          "base_uri": "https://localhost:8080/"
        },
        "id": "0i9K6ucxPLZr",
        "outputId": "744f6644-fcf7-4788-b3eb-ff0638ae5369"
      },
      "outputs": [
        {
          "output_type": "stream",
          "name": "stdout",
          "text": [
            "Mon May 12 07:20:25 2025       \n",
            "+-----------------------------------------------------------------------------------------+\n",
            "| NVIDIA-SMI 550.54.15              Driver Version: 550.54.15      CUDA Version: 12.4     |\n",
            "|-----------------------------------------+------------------------+----------------------+\n",
            "| GPU  Name                 Persistence-M | Bus-Id          Disp.A | Volatile Uncorr. ECC |\n",
            "| Fan  Temp   Perf          Pwr:Usage/Cap |           Memory-Usage | GPU-Util  Compute M. |\n",
            "|                                         |                        |               MIG M. |\n",
            "|=========================================+========================+======================|\n",
            "|   0  Tesla T4                       Off |   00000000:00:04.0 Off |                    0 |\n",
            "| N/A   75C    P8             12W /   70W |       2MiB /  15360MiB |      0%      Default |\n",
            "|                                         |                        |                  N/A |\n",
            "+-----------------------------------------+------------------------+----------------------+\n",
            "                                                                                         \n",
            "+-----------------------------------------------------------------------------------------+\n",
            "| Processes:                                                                              |\n",
            "|  GPU   GI   CI        PID   Type   Process name                              GPU Memory |\n",
            "|        ID   ID                                                               Usage      |\n",
            "|=========================================================================================|\n",
            "|  No running processes found                                                             |\n",
            "+-----------------------------------------------------------------------------------------+\n"
          ]
        }
      ],
      "source": [
        "if torch.cuda.is_available():\n",
        "    !nvidia-smi # GPU 확인 ubuntu 명령어"
      ]
    },
    {
      "cell_type": "markdown",
      "metadata": {
        "id": "GiEkS3ZjP5aH"
      },
      "source": [
        "You can use `torch.device` objects to move tensors to and from the GPU:"
      ]
    },
    {
      "cell_type": "code",
      "execution_count": 34,
      "metadata": {
        "colab": {
          "base_uri": "https://localhost:8080/"
        },
        "id": "d2ue8FEc54tr",
        "outputId": "028a970f-8509-46fe-8142-9f84ce4a3d0a"
      },
      "outputs": [
        {
          "output_type": "stream",
          "name": "stdout",
          "text": [
            "tensor([[2., 2., 2.],\n",
            "        [2., 2., 2.],\n",
            "        [2., 2., 2.],\n",
            "        [2., 2., 2.],\n",
            "        [2., 2., 2.]], device='cuda:0')\n",
            "tensor([[2., 2., 2.],\n",
            "        [2., 2., 2.],\n",
            "        [2., 2., 2.],\n",
            "        [2., 2., 2.],\n",
            "        [2., 2., 2.]], dtype=torch.float64)\n"
          ]
        }
      ],
      "source": [
        "if torch.cuda.is_available():\n",
        "    device = torch.device(\"cuda\")          # a CUDA device object\n",
        "    y = torch.ones_like(x, device=device)  # directly create a tensor on GPU (GPU 버전의 tensor 생성 방법)\n",
        "    x = x.to(device)                       # or just use strings `.to(\"cuda\")`\n",
        "    z = x + y\n",
        "    print(z)\n",
        "    print(z.to(\"cpu\", torch.double))       # `.to` can also change dtype"
      ]
    },
    {
      "cell_type": "markdown",
      "metadata": {
        "id": "QzlpOvUg64mB"
      },
      "source": [
        "Default device can be specified by [`torch.cuda.set_device(device)`](https://pytorch.org/docs/stable/generated/torch.cuda.set_device.html)"
      ]
    },
    {
      "cell_type": "markdown",
      "metadata": {
        "id": "fXF6Ykbr54tu"
      },
      "source": [
        "\n",
        "## Autograd: Automatic Differentiation\n",
        "\n",
        "From: https://pytorch.org/tutorials/beginner/blitz/autograd_tutorial.html\n",
        "\n",
        "Now that you have learned how to use PyTorch Tensors you will learn how we can use PyTorch for automatic differentiation.\n",
        "\n",
        "The `autograd` package in PyTorch provides automatic differentiation for all operations on Tensors. It is a define-by-run framework, which means that your backprop is defined by how your code is run, and that every single iteration can be different.\n",
        "\n",
        "To allow PyTorch to keep track of operations for automatic differentiation, we need to set `requires_grad` as `True` for a Tensor. Autograd will then start to track all operations on the Tensor. When you finish your computation you can call `.backward()` and have all the gradients computed automatically. The gradient for this tensor will be accumulated into the `.grad` attribute.\n",
        "\n",
        "To stop a tensor from tracking history, you can call `.detach()` to detach\n",
        "it from the computation history, and to prevent future computation from being\n",
        "tracked.\n",
        "\n",
        "To prevent tracking history (and using memory), you can also wrap the code block in `with torch.no_grad():`. This can be particularly helpful when evaluating a model because the model may have trainable parameters with `requires_grad=True`, but for which we don't need the gradients.\n",
        "\n",
        "There’s one more class which is very important for autograd implementation - a `Function`.\n",
        "\n",
        "`Tensor` and `Function` are interconnected and build up an acyclic\n",
        "graph that encodes a complete history of computation. Each tensor has\n",
        "a `.grad_fn` attribute that references a `Function` that has created\n",
        "the `Tensor` (except for Tensors created by the user - their `grad_fn` is `None`).\n",
        "\n",
        "If you want to compute the derivatives, you can call `.backward()` on a `Tensor`. If `Tensor` is a scalar (i.e. it holds a one element data), you don’t need to specify any arguments to `backward()`, however if it has more elements, you need to specify a `gradient` argument that is a tensor of matching shape."
      ]
    },
    {
      "cell_type": "markdown",
      "source": [
        "autograd : Pytorch 자동 미분 엔진\n",
        "Tensor 연산을 추적해서, .backward()를 호출하면 자동으로 gradient를 계산해준다.\n",
        "\n",
        "특정 tensor에 대한 연산 기록을 추적하고 싶다면 requires_grad=True로 설정\n",
        "\n",
        "추적할 필요가 없다면 with torch.no_grad() 연산 블록으로 감싸주면 된다.  \n",
        "추적 중단 시 .detach() 함수를 사용해서 계산 history에서 분리할수도 있다.\n",
        "\n",
        "- Function : autograd 모듈은 내부적으로 각 연산을 Function 객체로 구현함\n",
        "- Function에는 순전파, 역전파 로직이 모두 포함되어 있음\n",
        "- y = x * 2라는 연산 수행 시 곱셈 연산 수행하는 MulBackward라는 Function 객체를 내부적으로 생성해서 기록함\n",
        "- Tensor는 Function과 연결되어서 계산 그래프(Directed acyclic graph - 순환 없는 그래프)를 구성하게 됨\n",
        "- 연산 결과로 생성된 Tensor에는 .grad_fn 속성을 가지게 되고, 어떤 Function객체가 이 Tensor를 생성했는지 알 수 있음"
      ],
      "metadata": {
        "id": "gEZMQzX5Jt7k"
      }
    },
    {
      "cell_type": "markdown",
      "metadata": {
        "id": "Z_7reitR54tv"
      },
      "source": [
        "Create a tensor and set `requires_grad=True` to track computation with it:"
      ]
    },
    {
      "cell_type": "code",
      "execution_count": 35,
      "metadata": {
        "id": "BiUIjct_54tw",
        "outputId": "c60023d0-e94a-43da-ffb1-0b3657d2f2cd",
        "colab": {
          "base_uri": "https://localhost:8080/"
        }
      },
      "outputs": [
        {
          "output_type": "stream",
          "name": "stdout",
          "text": [
            "tensor([[1., 1.],\n",
            "        [1., 1.]], requires_grad=True)\n"
          ]
        }
      ],
      "source": [
        "x = torch.ones(2, 2, requires_grad=True)\n",
        "print(x)"
      ]
    },
    {
      "cell_type": "markdown",
      "metadata": {
        "id": "ceISCrjA54ty"
      },
      "source": [
        "Perform a tensor operation:"
      ]
    },
    {
      "cell_type": "code",
      "execution_count": 36,
      "metadata": {
        "id": "jol5D-i754tz",
        "outputId": "a066bccd-9b52-4cad-cf72-a87aade20b21",
        "colab": {
          "base_uri": "https://localhost:8080/"
        }
      },
      "outputs": [
        {
          "output_type": "stream",
          "name": "stdout",
          "text": [
            "tensor([[3., 3.],\n",
            "        [3., 3.]], grad_fn=<AddBackward0>)\n"
          ]
        }
      ],
      "source": [
        "y = x + 2\n",
        "print(y)"
      ]
    },
    {
      "cell_type": "markdown",
      "metadata": {
        "id": "ELfAiQbe54t1"
      },
      "source": [
        "`y` was created as a result of an operation, so it has a `grad_fn`:"
      ]
    },
    {
      "cell_type": "code",
      "execution_count": 37,
      "metadata": {
        "id": "N1-bfsGg54t1",
        "outputId": "5e27c9c7-d9a7-4712-c21f-803b05998662",
        "colab": {
          "base_uri": "https://localhost:8080/"
        }
      },
      "outputs": [
        {
          "output_type": "stream",
          "name": "stdout",
          "text": [
            "<AddBackward0 object at 0x78b93b8d20b0>\n"
          ]
        }
      ],
      "source": [
        "print(y.grad_fn)"
      ]
    },
    {
      "cell_type": "markdown",
      "metadata": {
        "id": "wKGpA_tx54t3"
      },
      "source": [
        "Do more operations on `y`:"
      ]
    },
    {
      "cell_type": "code",
      "execution_count": 38,
      "metadata": {
        "id": "ZEr955CF54t3",
        "outputId": "84c8f9e0-94e0-44c7-cc4e-d98707cdedf7",
        "colab": {
          "base_uri": "https://localhost:8080/"
        }
      },
      "outputs": [
        {
          "output_type": "stream",
          "name": "stdout",
          "text": [
            "tensor([[27., 27.],\n",
            "        [27., 27.]], grad_fn=<MulBackward0>)\n",
            "tensor(27., grad_fn=<MeanBackward0>)\n"
          ]
        }
      ],
      "source": [
        "z = y * y * 3\n",
        "print(z)\n",
        "out = z.mean()\n",
        "print(out)"
      ]
    },
    {
      "cell_type": "markdown",
      "metadata": {
        "id": "_W_IdTf054t5"
      },
      "source": [
        "`.requires_grad_()` changes an existing Tensor's `requires_grad` flag in-place. The input flag defaults to `False` if not given:\n",
        "\n",
        "\n"
      ]
    },
    {
      "cell_type": "markdown",
      "metadata": {
        "id": "l8jGQeJX1NeH"
      },
      "source": [
        "#### Qn: What if you initialize a tensor and want to track"
      ]
    },
    {
      "cell_type": "code",
      "execution_count": 39,
      "metadata": {
        "id": "Mqhs7laq54t5",
        "outputId": "c4c7f6f7-b292-4766-fc27-876de5f617e7",
        "colab": {
          "base_uri": "https://localhost:8080/"
        }
      },
      "outputs": [
        {
          "output_type": "stream",
          "name": "stdout",
          "text": [
            "Tensor 'a' requires_grad: False\n"
          ]
        }
      ],
      "source": [
        "a = torch.randn(2, 2)\n",
        "\n",
        "# element-wise operations\n",
        "a = ((a * 3) / (a - 1))\n",
        "\n",
        "# Check if tensor 'a' is set up to track gradients (for automatic differentiation)\n",
        "# By default, tensors don't track gradients to save memory and computation\n",
        "print(f\"Tensor 'a' requires_grad: {a.requires_grad}\") # Default로 requires_grad=False로 설정됨"
      ]
    },
    {
      "cell_type": "code",
      "execution_count": 40,
      "metadata": {
        "id": "Aelnwdwu1NeH",
        "outputId": "d615b326-9ba1-4355-b32d-09910f688fed",
        "colab": {
          "base_uri": "https://localhost:8080/"
        }
      },
      "outputs": [
        {
          "output_type": "stream",
          "name": "stdout",
          "text": [
            "Tensor 'a' requires_grad: True\n",
            "b.grad_fn: <SumBackward0 object at 0x78b93b8d2350>\n"
          ]
        }
      ],
      "source": [
        "# Enable gradient tracking for tensor 'a'\n",
        "# This is necessary when you want to compute derivatives with respect to this tensor\n",
        "# The underscore in requires_grad_() indicates this method modifies the tensor in-place\n",
        "a.requires_grad_(True) # 이 시점부터 계산 history가 기록된다\n",
        "print(f\"Tensor 'a' requires_grad: {a.requires_grad}\")\n",
        "\n",
        "# Create a new tensor 'b' by performing element-wise operations on 'a'\n",
        "# When operations are performed on tensors with requires_grad=True,\n",
        "# PyTorch builds a computational graph to track operations for backpropagation\n",
        "b = (a * a).sum() # 가장 마지막에 SumBackward0이 수행됨\n",
        "\n",
        "# grad_fn shows the last operation used to create this tensor\n",
        "print(f\"b.grad_fn: {b.grad_fn}\")"
      ]
    },
    {
      "cell_type": "code",
      "execution_count": 41,
      "metadata": {
        "id": "tavzi20h1NeH",
        "outputId": "beff10b9-93e4-4b6f-8838-d2a6384531d8",
        "colab": {
          "base_uri": "https://localhost:8080/"
        }
      },
      "outputs": [
        {
          "output_type": "stream",
          "name": "stdout",
          "text": [
            "tensor([[ -8.0071,   2.8098],\n",
            "        [ -3.0573, -62.1280]])\n"
          ]
        }
      ],
      "source": [
        "b.backward()  # Compute gradients (역전파 수행)\n",
        "\n",
        "# Now 'a' would have its gradient populated\n",
        "print(a.grad)  # Shows dL/da - the gradient of b with respect to a"
      ]
    },
    {
      "cell_type": "markdown",
      "metadata": {
        "id": "nmHvopdf54t7"
      },
      "source": [
        "### Gradients\n",
        "\n",
        "Let's backprop now. Because `out` contains a single scalar, `out.backward()` is equivalent to `out.backward(torch.tensor(1))`:\n",
        "\n"
      ]
    },
    {
      "cell_type": "code",
      "execution_count": 42,
      "metadata": {
        "id": "AAHwiVuB54t8"
      },
      "outputs": [],
      "source": [
        "out.backward()"
      ]
    },
    {
      "cell_type": "markdown",
      "metadata": {
        "id": "0-PJNi8j54t-"
      },
      "source": [
        "Print gradients $\\frac{d(\\texttt{out})}{d\\texttt{x}}$:"
      ]
    },
    {
      "cell_type": "code",
      "execution_count": 43,
      "metadata": {
        "id": "ZMFshmPS54t-",
        "outputId": "773cbdc3-5336-4ef1-8b66-ea20d2bf8105",
        "colab": {
          "base_uri": "https://localhost:8080/"
        }
      },
      "outputs": [
        {
          "output_type": "stream",
          "name": "stdout",
          "text": [
            "tensor([[4.5000, 4.5000],\n",
            "        [4.5000, 4.5000]])\n"
          ]
        }
      ],
      "source": [
        "print(x.grad)"
      ]
    },
    {
      "cell_type": "markdown",
      "metadata": {
        "id": "ISxLOt0d54uB"
      },
      "source": [
        "You should get a matrix of `4.5`. Let's call the `out` *Tensor* \"$o$\". We find that $o = \\frac{1}{4}\\sum_i z_i$, $z_i = 3(x_i+2)^2$ and $z_i\\bigr\\rvert_{x_i=1} = 27$. Therefore, $\\frac{\\partial o}{\\partial x_i} = \\frac{3}{2}(x_i+2)$, hence $\\frac{\\partial o}{\\partial x_i}\\bigr\\rvert_{x_i=1} = \\frac{9}{2} = 4.5$."
      ]
    },
    {
      "cell_type": "markdown",
      "metadata": {
        "id": "xOnU_3Q_54uB"
      },
      "source": [
        "You can do many crazy things with autograd!\n",
        "\n"
      ]
    },
    {
      "cell_type": "code",
      "execution_count": 44,
      "metadata": {
        "id": "u7Vy1rJr54uB",
        "outputId": "d64d7fc3-4068-4fc9-d0ec-dc96ba0eb748",
        "colab": {
          "base_uri": "https://localhost:8080/"
        }
      },
      "outputs": [
        {
          "output_type": "stream",
          "name": "stdout",
          "text": [
            "tensor([-1275.5369,  -309.5979,  -456.5872], grad_fn=<MulBackward0>)\n"
          ]
        }
      ],
      "source": [
        "# requires_grad=True enables automatic differentiation for tensor x\n",
        "x = torch.randn(3, requires_grad=True)\n",
        "\n",
        "# This operation is tracked in the computational graph since x requires gradients\n",
        "y = x * 2\n",
        "\n",
        "while y.data.norm() < 1000:   ## y.data gives a copy of y's values without gradient tracking\n",
        "    y = y * 2\n",
        "\n",
        "print(y)"
      ]
    },
    {
      "cell_type": "markdown",
      "metadata": {
        "id": "YVP3Rbza1NeI"
      },
      "source": [
        "#### Quick recap: When calling .backward() on a non-scalar tensor, we must provide an external gradient that represents \"how some scalar value changes with respect to each element of y\" (∂L/∂y)"
      ]
    },
    {
      "cell_type": "code",
      "execution_count": 45,
      "metadata": {
        "id": "-wN5uMku54uE",
        "outputId": "597805e1-2718-4cee-93b8-653e92d02bd3",
        "colab": {
          "base_uri": "https://localhost:8080/"
        }
      },
      "outputs": [
        {
          "output_type": "stream",
          "name": "stdout",
          "text": [
            "tensor([1.0240e+02, 1.0240e+03, 1.0240e-01])\n"
          ]
        }
      ],
      "source": [
        "# Create a gradient tensor that represents ∂L/∂y for some hypothetical scalar function L\n",
        "# The values [0.1, 1.0, 0.0001] represent ∂L/∂y₁, ∂L/∂y₂, and ∂L/∂y₃ respectively\n",
        "# if y contributes to some scalar value L, these are the ∂L/∂y values\n",
        "gradients = torch.tensor([0.1, 1.0, 0.0001], dtype=torch.float)\n",
        "\n",
        "# Perform backpropagation through the computational graph\n",
        "# PyTorch uses the chain rule: ∂L/∂x = (∂L/∂y)(∂y/∂x)\n",
        "# where ∂L/∂y is our provided gradient tensor\n",
        "y.backward(gradients)\n",
        "\n",
        "# Print the gradient of x\n",
        "# This shows ∂L/∂x - the gradient of our hypothetical scalar function with respect to x\n",
        "# The values combine: (how our scalar output changes with y) x (how y changes with x)\n",
        "# This is the chain rule in action: ∂L/∂x = (∂L/∂y)(∂y/∂x)\n",
        "print(x.grad)\n",
        "\n",
        "# THINK: multi-dimensional output but need gradients for optimization of a single\n",
        "# scalar quantity such as a loss function!"
      ]
    },
    {
      "cell_type": "markdown",
      "metadata": {
        "id": "O3WfxSbS54uF"
      },
      "source": [
        "You can also stop autograd from tracking history on Tensors with `.requires_grad=True` by wrapping the code block in `with torch.no_grad()`:"
      ]
    },
    {
      "cell_type": "code",
      "execution_count": 46,
      "metadata": {
        "id": "FxbhHk8654uG",
        "outputId": "fb31840c-8d31-4507-d2ed-b80bd76fa8c9",
        "colab": {
          "base_uri": "https://localhost:8080/"
        }
      },
      "outputs": [
        {
          "output_type": "stream",
          "name": "stdout",
          "text": [
            "True\n",
            "True\n",
            "False\n"
          ]
        }
      ],
      "source": [
        "print(x.requires_grad)\n",
        "print((x ** 2).requires_grad)\n",
        "\n",
        "with torch.no_grad():\n",
        "\tprint((x ** 2).requires_grad)"
      ]
    },
    {
      "cell_type": "markdown",
      "metadata": {
        "id": "G9Ig0EXKOGac"
      },
      "source": [
        "The `.detach()` method is used when we want to perform operations on tensors without affecting the gradient computation of the original tensor."
      ]
    },
    {
      "cell_type": "code",
      "execution_count": 47,
      "metadata": {
        "id": "CxE_GcDmOROi",
        "outputId": "9fc1f211-c96c-4405-acab-11ad8a0826a0",
        "colab": {
          "base_uri": "https://localhost:8080/"
        }
      },
      "outputs": [
        {
          "output_type": "stream",
          "name": "stdout",
          "text": [
            "True\n",
            "False\n",
            "False\n"
          ]
        }
      ],
      "source": [
        "x = torch.randn(3, requires_grad=True)\n",
        "print(x.requires_grad)\n",
        "\n",
        "y = x.detach() # 성능만 측정 시 불필요한 gradient 계산을 방지하기 위해 detach() 함수를 사용한다. (validation, testing of a model)\n",
        "print(y.requires_grad)\n",
        "\n",
        "z = y * 2\n",
        "print(z.requires_grad)"
      ]
    },
    {
      "cell_type": "markdown",
      "metadata": {
        "id": "gzwqx4hZ1NeI"
      },
      "source": [
        "#### Qn: Which scenarios would benefit from .detach()?"
      ]
    },
    {
      "cell_type": "code",
      "execution_count": 48,
      "metadata": {
        "id": "Y0amMdGZ1NeI"
      },
      "outputs": [],
      "source": [
        "# Ans: Validation and testing of a model\n",
        "# .detach() can help save memory by not tracking gradients on the validation/test set calculations"
      ]
    },
    {
      "cell_type": "markdown",
      "metadata": {
        "id": "HtHPCO3R54uI"
      },
      "source": [
        "**Read Later:**\n",
        "\n",
        "Documentation of `torch.autograd` and `Function` is at\n",
        "http://pytorch.org/docs/autograd"
      ]
    },
    {
      "cell_type": "markdown",
      "metadata": {
        "id": "mDKBSQ9n54uJ"
      },
      "source": [
        "## Neural Networks\n",
        "\n",
        "The `torch.nn` package in PyTorch provides higher level building blocks for neural networks like fully connected or convolutional layers. The `nn` package makes use of the `autograd` functionality to define these model building blocks and differentiate them. This allows us to quickly and easily implement neural networks by putting together layers and using PyTorch to help us update learnable parameters with the gradient.\n",
        "\n",
        "An `nn.Module` contains layers, and a method `forward(input)` that\n",
        "returns the `output`.\n",
        "\n",
        "A typical training procedure for a neural network is as follows:\n",
        "\n",
        "- Define the neural network that has some learnable parameters (or\n",
        "  weights)\n",
        "- Iterate over a dataset of inputs\n",
        "- Process input through the network\n",
        "- Compute the loss (how far is the output from being correct)\n",
        "- Propagate gradients back into the network’s parameters\n",
        "- Update the weights of the network, typically using a simple update rule:\n",
        "  `weight = weight - learning_rate * gradient`"
      ]
    },
    {
      "cell_type": "markdown",
      "metadata": {
        "id": "szNq6Hk854uJ"
      },
      "source": [
        "### Define the network\n",
        "\n",
        "In the cell below we define a simple convolutional neural network. Notice that we use the `nn.Conv2d` and `nn.Linear` Modules as building blocks for the network.\n",
        "\n",
        "There are plenty of other types of layers and tools available in the [torch.nn](https://pytorch.org/docs/stable/nn.html) package such as pooling layers, dropout, and batchnorm.\n",
        "\n",
        "Conveniently, PyTorch is completely open source so you can check out exactly how each of these Modules are implemented:\n",
        "\n",
        "* https://github.com/pytorch/pytorch/blob/master/torch/nn/modules/linear.py\n",
        "* https://github.com/pytorch/pytorch/blob/master/torch/nn/modules/conv.py\n",
        "\n",
        "**Important:** Whenever you extend the `nn.Module` class (e.g. with the `Net` class below) you will need to call the superclass constructor or an error will be thrown. In this example below this line is: `super().__init__()`"
      ]
    },
    {
      "cell_type": "markdown",
      "source": [
        "nn.Module : Pytorch에서 사용되는 모든 신경망 모델의 기반 클래스  \n",
        "신경망을 구성하는 레이어, 가중치, 파라미터, forward 로직을 캡슐화한다.  \n",
        "사용자 정의 모델을 만들기 위해서는 항상 nn.Module을 상속해야 하고  \n",
        "super().__init__()을 반드시 호출해야 한다.\n"
      ],
      "metadata": {
        "id": "I_ivts8KQtfW"
      }
    },
    {
      "cell_type": "code",
      "execution_count": 49,
      "metadata": {
        "id": "A6MyjNHm54uK",
        "outputId": "60c8d91a-b05c-4833-af6d-90622533c420",
        "colab": {
          "base_uri": "https://localhost:8080/"
        }
      },
      "outputs": [
        {
          "output_type": "stream",
          "name": "stdout",
          "text": [
            "Net(\n",
            "  (conv1): Conv2d(1, 6, kernel_size=(5, 5), stride=(1, 1))\n",
            "  (conv2): Conv2d(6, 16, kernel_size=(5, 5), stride=(1, 1))\n",
            "  (fc1): Linear(in_features=400, out_features=120, bias=True)\n",
            "  (fc2): Linear(in_features=120, out_features=84, bias=True)\n",
            "  (fc3): Linear(in_features=84, out_features=10, bias=True)\n",
            ")\n"
          ]
        }
      ],
      "source": [
        "import torch\n",
        "import torch.nn as nn\n",
        "import torch.nn.functional as F\n",
        "\n",
        "\n",
        "class Net(nn.Module):\n",
        "\n",
        "    def __init__(self): # 초기화 수행 및 어떤 연산 수행할건지 정의하는 곳\n",
        "        super().__init__() # 반드시 있어야함\n",
        "        # Convd : 2D Convolution Layer, 이미지같은 2차원 데이터를 처리하는 클래스\n",
        "\n",
        "        # 1 input image channel, 6 output channels, 5x5 convolution kernel\n",
        "        self.conv1 = nn.Conv2d(1, 6, 5) # 예를 들어 32x32 image -> 5x5 커널 적용 시 -> 32 - 5 + 1 = 28x28 크기의 6개의 채널이 구성됨\n",
        "        self.conv2 = nn.Conv2d(6, 16, 5) # 6개의 입력채널, 16개의 출력채널, 5x5 커널\n",
        "\n",
        "        # Fully connected layer -> CNN 동작을 통해 특징을 추출하고, 이 특징들을 바탕으로 의사 결정을 수행하는 역할 (판단을 내리는 역할)\n",
        "        # Linear -> Affine operation: y = Wx + b 수행\n",
        "        # nn.Linear(입력특징, 출력특징)\n",
        "        self.fc1 = nn.Linear(16 * 5 * 5, 120) # 총 특징 개수가 16 * 5 * 5 이니까 입력으로 16 * 5 * 5\n",
        "        self.fc2 = nn.Linear(120, 84) # fc1에서 출력 결과가 120개 -> 84개로 변환\n",
        "        self.fc3 = nn.Linear(84, 10) # 최종적으로 반환되는 특징은 10개\n",
        "\n",
        "    def forward(self, x): # 입력을 받아 출력으로 변환하는 연산을 정의하는 함수\n",
        "        # x : 입력\n",
        "        # Max pooling over a (2, 2) window\n",
        "        # ReLU : 활성화함수 Relu(x) = max(0, x) -> 비선형성을 부여하는 활성화 함수\n",
        "        # 음수를 0으로 만들어버리고 양수만 전달하는 활성화함수\n",
        "\n",
        "        x = F.max_pool2d(F.relu(self.conv1(x)), 2) # conv1로 이미지의 특징을 추출 -> maxpool2d로 downsampling (특징 압축)\n",
        "        x = F.max_pool2d(F.relu(self.conv2(x)), 2) # conv2로 또 이미지의 특징을 추출 -> maxpool2d로 downsampling\n",
        "\n",
        "        x = x.flatten(start_dim=1) # CNN 출력 - FC층의 입력으로 바꾸기 위해 reshape\n",
        "        # Conv2D는 [B, C, H, W] 형태의 4차원 텐서를 출력함 (Batch : 한번에 처리할 샘플 개수, C : 채널 개수 (RGB), H/W : 행/열)\n",
        "        # 이를 FC층에 넣기 위해 [B, C*H*W] 형태로 변환함 (batch dimension은 그대로 유지)\n",
        "\n",
        "\n",
        "        x = F.relu(self.fc1(x)) # Affine 연산 1\n",
        "        x = F.relu(self.fc2(x)) # Affine 연산 2\n",
        "        x = self.fc3(x) # Affine 연산 3\n",
        "        return x # 최종\n",
        "\n",
        "\n",
        "net = Net()\n",
        "print(net) # 출력 시 어떤 연산을 수행하는지 알 수 있다"
      ]
    },
    {
      "cell_type": "markdown",
      "metadata": {
        "id": "A8_soKaq54uM"
      },
      "source": [
        "You just have to define the ``forward`` function, and the ``backward``\n",
        "function (where gradients are computed) is automatically defined for you\n",
        "using ``autograd``.\n",
        "You can use any of the Tensor operations in the ``forward`` function.\n",
        "\n",
        "The learnable parameters of a model are returned by ``net.parameters()``\n",
        "\n"
      ]
    },
    {
      "cell_type": "code",
      "execution_count": 50,
      "metadata": {
        "id": "kNW8772A54uN",
        "outputId": "45086f3e-58d6-49c6-b7fe-680fca25dfbf",
        "colab": {
          "base_uri": "https://localhost:8080/"
        }
      },
      "outputs": [
        {
          "output_type": "stream",
          "name": "stdout",
          "text": [
            "10\n",
            "torch.Size([6, 1, 5, 5])\n",
            "######\n",
            "torch.Size([6, 1, 5, 5])\n",
            "torch.Size([6])\n",
            "torch.Size([16, 6, 5, 5])\n",
            "torch.Size([16])\n",
            "torch.Size([120, 400])\n",
            "torch.Size([120])\n",
            "torch.Size([84, 120])\n",
            "torch.Size([84])\n",
            "torch.Size([10, 84])\n",
            "torch.Size([10])\n"
          ]
        }
      ],
      "source": [
        "params = list(net.parameters()) # parameters() : 정의한 모델에 있는 모든 학습 가능한 파라미터(weight, bias)를 리스트로 반환하는 함수\n",
        "print(len(params)) # 파라미터의 개수가 10개 -> conv1, 2 / fc1,2,3 각각 weight, bias 존재 -> 총 10개\n",
        "print(params[0].size())  # conv1's .weight\n",
        "print(\"######\")\n",
        "for idx, param in enumerate(params):\n",
        "    # CNN : [출력size, 입력size, kernel, kernel]\n",
        "    # FCLayer : [출력 feature 개수, 입력 feature 개수]\n",
        "    print(param.shape)"
      ]
    },
    {
      "cell_type": "code",
      "execution_count": 51,
      "metadata": {
        "id": "wFKPw77D1NeJ",
        "outputId": "e66a2deb-2044-42af-f619-1965309790a6",
        "colab": {
          "base_uri": "https://localhost:8080/"
        }
      },
      "outputs": [
        {
          "output_type": "stream",
          "name": "stdout",
          "text": [
            "conv 1 layer weights are Parameter containing:\n",
            "tensor([[[[-0.1167,  0.0004, -0.0598, -0.1435, -0.0560],\n",
            "          [-0.0742,  0.1700,  0.1712,  0.1103, -0.1317],\n",
            "          [ 0.0977,  0.1156,  0.0369,  0.0393, -0.1929],\n",
            "          [ 0.1026, -0.1678,  0.0258, -0.1084,  0.1632],\n",
            "          [ 0.1999,  0.0142,  0.0291,  0.1635, -0.0359]]],\n",
            "\n",
            "\n",
            "        [[[ 0.1143, -0.1258, -0.0314, -0.1406,  0.1373],\n",
            "          [ 0.0712, -0.1552, -0.1070, -0.1655,  0.1010],\n",
            "          [ 0.1633,  0.0287,  0.0231, -0.0286, -0.0515],\n",
            "          [ 0.0058, -0.0417, -0.0673,  0.0158,  0.1516],\n",
            "          [ 0.1160,  0.0403, -0.0939,  0.1994,  0.1010]]],\n",
            "\n",
            "\n",
            "        [[[-0.0359, -0.0892, -0.1004, -0.1882, -0.1626],\n",
            "          [ 0.1510,  0.0412,  0.0038,  0.0233,  0.0740],\n",
            "          [-0.0557,  0.0894,  0.1460,  0.1318,  0.1098],\n",
            "          [-0.1832,  0.0833, -0.1782, -0.1457,  0.1813],\n",
            "          [-0.1909,  0.0596,  0.0294,  0.1576,  0.1961]]],\n",
            "\n",
            "\n",
            "        [[[-0.1729, -0.0089,  0.1536, -0.0899,  0.0229],\n",
            "          [-0.0066,  0.1079,  0.1904, -0.1394,  0.0730],\n",
            "          [ 0.0766, -0.0503, -0.1061, -0.1197, -0.1413],\n",
            "          [-0.1138,  0.1561,  0.0988,  0.1004, -0.0089],\n",
            "          [-0.0541, -0.1802, -0.0647,  0.1059,  0.1035]]],\n",
            "\n",
            "\n",
            "        [[[ 0.1454, -0.0958, -0.0984, -0.0941, -0.1220],\n",
            "          [-0.0720,  0.0854,  0.0496, -0.0714,  0.0626],\n",
            "          [ 0.0931, -0.1711,  0.0500, -0.0908, -0.1587],\n",
            "          [ 0.1148,  0.0149, -0.1559, -0.1742,  0.1492],\n",
            "          [ 0.1416, -0.1160,  0.0630, -0.1640,  0.0213]]],\n",
            "\n",
            "\n",
            "        [[[-0.1338,  0.1763, -0.0785, -0.0073,  0.1458],\n",
            "          [ 0.0408,  0.0812, -0.0382,  0.0949, -0.0155],\n",
            "          [ 0.1685,  0.1877,  0.0186,  0.1047,  0.0243],\n",
            "          [ 0.0121, -0.1823, -0.0764, -0.1566,  0.1521],\n",
            "          [ 0.1720,  0.1300,  0.1476, -0.0566, -0.0579]]]], requires_grad=True)\n",
            "conv 1 layer biases are Parameter containing:\n",
            "tensor([ 0.1580,  0.0901,  0.0298,  0.0943,  0.1390, -0.0738],\n",
            "       requires_grad=True)\n"
          ]
        }
      ],
      "source": [
        "# Let us look at all of the conv1 weights\n",
        "# Note: Conv1 layer has 6 filters, each of size 5x5\n",
        "print(f\"conv 1 layer weights are {params[0]}\") # conv1.weight\n",
        "# Let us look at all of the conv1 biases\n",
        "# Note: Conv1 layer has 6 filters, each with a bias\n",
        "print(f\"conv 1 layer biases are {params[1]}\") # conv1.bias"
      ]
    },
    {
      "cell_type": "markdown",
      "metadata": {
        "id": "BuMk3eX654uP"
      },
      "source": [
        "Continuing, let's try a random 32x32 input"
      ]
    },
    {
      "cell_type": "code",
      "execution_count": 52,
      "metadata": {
        "id": "3VGmILUs54uP",
        "outputId": "6ebcade9-62f2-4ebe-91ae-bbeca1e503e6",
        "colab": {
          "base_uri": "https://localhost:8080/"
        }
      },
      "outputs": [
        {
          "output_type": "stream",
          "name": "stdout",
          "text": [
            "tensor([[ 0.0632,  0.0006, -0.0161,  0.0279,  0.1837,  0.0556, -0.0131, -0.0845,\n",
            "         -0.0197,  0.1554]], grad_fn=<AddmmBackward0>)\n"
          ]
        }
      ],
      "source": [
        "# [1 sample, 1 channel, 32 height, 32 width]\n",
        "input = torch.randn(1, 1, 32, 32)\n",
        "\n",
        "# This will correctly apply dropout during training:\n",
        "out = net(input) # nn.Module의 __call__() 메서드 호출 (dropout, batchnorm, hooks, ...) 모든 기능이 동작함\n",
        "print(out)\n",
        "# 학습이나 추론 시 net(input)으로 호출해야 한다."
      ]
    },
    {
      "cell_type": "code",
      "execution_count": 53,
      "metadata": {
        "id": "RdceMdjB1NeJ",
        "outputId": "5f8ed07d-1728-487d-b7c8-c9819ad006ac",
        "colab": {
          "base_uri": "https://localhost:8080/"
        }
      },
      "outputs": [
        {
          "output_type": "execute_result",
          "data": {
            "text/plain": [
              "tensor([[ 0.0632,  0.0006, -0.0161,  0.0279,  0.1837,  0.0556, -0.0131, -0.0845,\n",
              "         -0.0197,  0.1554]], grad_fn=<AddmmBackward0>)"
            ]
          },
          "metadata": {},
          "execution_count": 53
        }
      ],
      "source": [
        "# This might NOT correctly apply dropout or batch normalization because it bypasses __call__\n",
        "net.forward(input) # 단순히 forward만 호출함"
      ]
    },
    {
      "cell_type": "markdown",
      "metadata": {
        "id": "-C9Gy0Sy54uR"
      },
      "source": [
        "- Zero the gradient buffers of all parameters\n",
        "- To calculate the gradient of all the parameters that used to compute `out` w.r.t. some random value\n",
        "\n"
      ]
    },
    {
      "cell_type": "code",
      "execution_count": 54,
      "metadata": {
        "id": "jUb7RxZm54uR"
      },
      "outputs": [],
      "source": [
        "net.zero_grad()  # important, since gradient is accumulated / 모든 파라미터의 gradient를 0으로 초기화하는 함수\n",
        "# gradient를 매 epoch/batch마다 초기화해주지 않으면 이전 epoch에서 계산한 gradient가 현재 gradient에 영향을 미칠 수 있음\n",
        "# 따라서 매 반복마다 net.zero_grad()를 호출해서 초기화를 수행해야 함\n",
        "out.backward(torch.randn(1, 10))"
      ]
    },
    {
      "cell_type": "code",
      "execution_count": 55,
      "metadata": {
        "id": "nOkP3pBmSGjX",
        "outputId": "319badf6-b350-4ab0-a647-d4400272faf5",
        "colab": {
          "base_uri": "https://localhost:8080/"
        }
      },
      "outputs": [
        {
          "output_type": "execute_result",
          "data": {
            "text/plain": [
              "torch.Size([6])"
            ]
          },
          "metadata": {},
          "execution_count": 55
        }
      ],
      "source": [
        "# to check gradient buffer:\n",
        "net.conv1.bias.grad.shape"
      ]
    },
    {
      "cell_type": "markdown",
      "metadata": {
        "id": "doU9r69emwm9"
      },
      "source": [
        "The [`nn.Sequential`](https://pytorch.org/docs/stable/generated/torch.nn.Sequential.html) module can sometimes be helpful to define blocks succintly or avoid creating a new `nn.Module` class for a small network. The `.forward()` function will be automatically defined by running modules in the order they are passed in to `nn.Sequential`.\n",
        "\n",
        "For example, you can define a block of convolutional layers below:"
      ]
    },
    {
      "cell_type": "code",
      "execution_count": null,
      "metadata": {
        "id": "N8y-QNNLnjmd"
      },
      "outputs": [],
      "source": [
        "conv_layers = nn.Sequential(\n",
        "                nn.Conv2d(1, 6, 5),\n",
        "                nn.ReLU(),\n",
        "                nn.Conv2d(6, 16, 5),\n",
        "                nn.ReLU()\n",
        "            )"
      ]
    },
    {
      "cell_type": "code",
      "execution_count": null,
      "metadata": {
        "id": "wKv5EiAg1NeJ"
      },
      "outputs": [],
      "source": [
        "# Example\n",
        "# Complete LeNet-like CNN model using our conv_layers block\n",
        "class MnistCNN(nn.Module):\n",
        "    def __init__(self):\n",
        "        super(MnistCNN, self).__init__()\n",
        "        # Reuse our predefined convolutional layers\n",
        "        self.features = conv_layers\n",
        "\n",
        "        # Add pooling layers and fully connected layers\n",
        "        self.pool = nn.MaxPool2d(2, 2)\n",
        "        self.classifier = nn.Sequential(\n",
        "            nn.Linear(16 * 5 * 5, 120),  # 16 channels, 5x5 feature maps\n",
        "            nn.ReLU(),\n",
        "            nn.Linear(120, 84),\n",
        "            nn.ReLU(),\n",
        "            nn.Linear(84, 10)\n",
        "        )\n",
        "\n",
        "    def forward(self, x):\n",
        "        # First convolutional block (changes size from 28x28 to 24x24, then to 20x20)\n",
        "        x = self.features(x)\n",
        "\n",
        "        # Pooling (reduces size from 20x20 to 10x10)\n",
        "        x = self.pool(x)\n",
        "\n",
        "        # Flatten for the fully connected layers\n",
        "        x = torch.flatten(x, 1)\n",
        "\n",
        "        # Classifier\n",
        "        x = self.classifier(x)\n",
        "        return x"
      ]
    },
    {
      "cell_type": "markdown",
      "metadata": {
        "id": "yaONPht_54uT"
      },
      "source": [
        "**Note:**\n",
        "\n",
        "`torch.nn` only supports mini-batches. The entire `torch.nn` package only supports inputs that are a mini-batch of samples, and not a single sample.\n",
        "\n",
        "For example, `nn.Conv2d` will take in a 4D Tensor of `nSamples x nChannels x Height x Width`.\n",
        "\n",
        "If you have a single sample, just use `input.unsqueeze(0)` to add a fake batch dimension."
      ]
    },
    {
      "cell_type": "markdown",
      "metadata": {
        "id": "oLLYpQ7O54uT"
      },
      "source": [
        "Before proceeding further, let's recap all the classes you’ve seen so far.\n",
        "\n",
        "**Recap:**\n",
        "- `torch.Tensor` - A *multi-dimensional array* with support for autograd operations like `backward()`. Also *holds the gradient* w.r.t. the tensor.\n",
        "- `nn.Module` - Neural network module. *Convenient way of encapsulating parameters*, with helpers for moving them to GPU, exporting, loading, etc.\n",
        "- `nn.Parameter` - A kind of Tensor, that is *automatically registered as a parameter when assigned as an attribute to a* `Module`.\n",
        "- `autograd.Function` - Implements *forward and backward definitions of an autograd operation*. Every `Tensor` operation, creates at least a single `Function` node, that connects to functions that created a `Tensor` and *encodes its history*.\n",
        "\n",
        "**At this point, we covered:**\n",
        "- Defining a neural network\n",
        "- Processing inputs and calling backward\n",
        "\n",
        "**Still Left:**\n",
        "- Computing the loss\n",
        "- Updating the weights of the network"
      ]
    },
    {
      "cell_type": "markdown",
      "metadata": {
        "id": "omNVq_XZ2KV5"
      },
      "source": [
        "### Loss Function\n",
        "\n",
        "A loss function takes the (output, target) pair of inputs, and computes a\n",
        "value that estimates how far away the output is from the target.\n",
        "\n",
        "There are several different [loss functions](https://pytorch.org/docs/stable/nn.html#loss-functions) under the `nn` package. A simple loss is `nn.MSELoss`, which computes the mean-squared error between the input and the target.\n",
        "\n",
        "For example:"
      ]
    },
    {
      "cell_type": "code",
      "execution_count": null,
      "metadata": {
        "id": "uMUJ2zAO54uU"
      },
      "outputs": [],
      "source": [
        "output = net(input)\n",
        "target = torch.randn(10)  # a dummy target, for example\n",
        "target = target.view(1, -1)  # make it the same shape as output\n",
        "criterion = nn.MSELoss()\n",
        "\n",
        "loss = criterion(output, target)\n",
        "print(loss)"
      ]
    },
    {
      "cell_type": "markdown",
      "metadata": {
        "id": "85d4XN3W54uW"
      },
      "source": [
        "Now, if you follow `loss` in the backward direction, using its `.grad_fn` attribute, you will see a graph of computations that looks like this:\n",
        "\n",
        "    input -> conv2d -> relu -> maxpool2d -> conv2d -> relu -> maxpool2d\n",
        "          -> view -> linear -> relu -> linear -> relu -> linear\n",
        "          -> MSELoss\n",
        "          -> loss\n",
        "\n",
        "So, when we call `loss.backward()`, the whole graph is differentiated w.r.t. the loss, and all Tensors in the graph that have `requires_grad=True` will have their `.grad` Tensor accumulated with the gradient.\n",
        "\n",
        "For illustration, let us follow a few steps backward:"
      ]
    },
    {
      "cell_type": "code",
      "execution_count": null,
      "metadata": {
        "id": "am1pApy254uW"
      },
      "outputs": [],
      "source": [
        "print(loss.grad_fn)  # MSELoss\n",
        "print(loss.grad_fn.next_functions[0][0])  # Linear\n",
        "print(loss.grad_fn.next_functions[0][0].next_functions[1][0])  # ReLU"
      ]
    },
    {
      "cell_type": "markdown",
      "metadata": {
        "id": "CRqVnKtx54uY"
      },
      "source": [
        "### Backprop\n",
        "\n",
        "To backpropagate the error all we have to do is call `loss.backward()`. You need to clear the existing gradients though, otherwise the gradients will be accumulated to existing gradients.\n",
        "\n",
        "Now we'll call `loss.backward()`, and have a look at conv1's bias\n",
        "gradients before and after the backward step."
      ]
    },
    {
      "cell_type": "code",
      "execution_count": null,
      "metadata": {
        "id": "7u45jgvE54uZ"
      },
      "outputs": [],
      "source": [
        "net.zero_grad()  # zeroes the gradient buffers of all parameters\n",
        "\n",
        "print('conv1.bias.grad before backward')\n",
        "print(net.conv1.bias.grad)\n",
        "\n",
        "loss.backward()\n",
        "\n",
        "print('conv1.bias.grad after backward')\n",
        "print(net.conv1.bias.grad)"
      ]
    },
    {
      "cell_type": "markdown",
      "metadata": {
        "id": "zzHCWS8554ub"
      },
      "source": [
        "Now, we have seen how to use loss functions.\n",
        "\n",
        "**The only thing left to learn is:**\n",
        "\n",
        "- Updating the weights of the network"
      ]
    },
    {
      "cell_type": "markdown",
      "metadata": {
        "id": "HxIYATs33dW4"
      },
      "source": [
        "### Update the weights\n",
        "\n",
        "The simplest update rule used in practice is the Stochastic Gradient\n",
        "Descent (SGD):\n",
        "\n",
        "     weight = weight - learning_rate * gradient\n",
        "\n",
        "We can implement this using simple python code:\n",
        "\n",
        "```python\n",
        "learning_rate = 0.01\n",
        "for f in net.parameters():\n",
        "    f.data.sub_(f.grad.data * learning_rate)\n",
        "```\n",
        "\n",
        "However, as you use neural networks, you'll want to use various different\n",
        "update rules such as SGD, Nesterov-SGD, Adam, RMSProp, etc.\n",
        "To enable this, PyTorch has a small package: `torch.optim` that\n",
        "implements all these methods. Using it is very simple:"
      ]
    },
    {
      "cell_type": "code",
      "execution_count": null,
      "metadata": {
        "id": "Jy4gmWx054ub"
      },
      "outputs": [],
      "source": [
        "import torch.optim as optim\n",
        "\n",
        "# Create your optimizer\n",
        "optimizer = optim.SGD(net.parameters(), lr=0.01)\n",
        "\n",
        "# In your training loop:\n",
        "optimizer.zero_grad()             # zero the gradient buffers\n",
        "output = net(input)               # compute the forward pass\n",
        "loss = criterion(output, target)  # compute the loss\n",
        "loss.backward()                   # compute the gradients\n",
        "optimizer.step()                  # update the parameters\n",
        "\n",
        "print(loss)"
      ]
    },
    {
      "cell_type": "markdown",
      "metadata": {
        "id": "Jpw3IUEi54uc"
      },
      "source": [
        "**Important:** Note how gradient buffers had to be manually set to zero using `optimizer.zero_grad()`. This is because gradients are accumulated, so if you don't zero gradients before each `backward()` call, you will begin accumulating gradients from previous forward/backward passes."
      ]
    },
    {
      "cell_type": "markdown",
      "metadata": {
        "id": "8-IGO5uO54ud"
      },
      "source": [
        "#### Note on eval and train modes\n",
        "\n",
        "**Important**: If you use layers in your network like `torch.nn.Dropout` or `torch.nn.BatchNorm2d` which have different behavior during training and evaluation, you will need to make sure the modules in your network are appropriately set. PyTorch makes this easy with `eval` and `train` methods for any network extending `nn.Module`. Before beginning training you will call `net.train()` to set all modules in the network to train mode, and equivalently before evaluating you should call `net.eval()`."
      ]
    },
    {
      "cell_type": "markdown",
      "metadata": {
        "id": "qptw28n21n2K"
      },
      "source": [
        "## Training a Classifier\n",
        "\n",
        "Now that you have seen the basics of how to define neural networks, compute losses, and make training updates, you will see how a simple classifier is trained in PyTorch on CIFAR-10."
      ]
    },
    {
      "cell_type": "markdown",
      "metadata": {
        "id": "V-jXBv_c15mP"
      },
      "source": [
        "### What about data?\n",
        "\n",
        "Generally, when you have to deal with image, text, audio, or video data,\n",
        "you can use standard python packages that load data into a numpy array.\n",
        "Then you can convert this array into a `torch.*Tensor`.\n",
        "\n",
        "-  For images, packages such as Pillow, OpenCV are useful\n",
        "-  For audio, packages such as scipy and librosa\n",
        "-  For text, either raw Python or Cython based loading, or NLTK and\n",
        "   SpaCy are useful\n",
        "\n",
        "Specifically for vision, we have created a package called\n",
        "`torchvision`, that has data loaders for common datasets such as\n",
        "Imagenet, CIFAR10, MNIST, etc., models for common architectures, and data transformers for images.\n",
        "\n",
        "This provides a huge convenience and avoids writing boilerplate code.\n",
        "\n",
        "For this tutorial, we will use the CIFAR10 dataset.\n",
        "It has the classes: 'airplane', 'automobile', 'bird', 'cat', 'deer',\n",
        "'dog', 'frog', 'horse', 'ship', 'truck'. The images in CIFAR-10 are of\n",
        "size $3 \\times 32 \\times 32$, i.e. 3-channel color images of $32 \\times 32$ pixels in size."
      ]
    },
    {
      "cell_type": "markdown",
      "metadata": {
        "id": "AiDBy41M1_0j"
      },
      "source": [
        "### Training an image classifier\n",
        "\n",
        "We will do the following steps in order:\n",
        "\n",
        "1. Load and normalizing the CIFAR10 training and test datasets using ``torchvision``\n",
        "2. Define a Convolution Neural Network\n",
        "3. Define a loss function\n",
        "4. Train the network on the training data\n",
        "5. Test the network on the test data"
      ]
    },
    {
      "cell_type": "markdown",
      "metadata": {
        "id": "8KbELnF454uk"
      },
      "source": [
        "### 1) Loading and normalizing CIFAR10\n",
        "\n",
        "Using `torchvision`, it’s extremely easy to load CIFAR10.\n",
        "\n"
      ]
    },
    {
      "cell_type": "code",
      "execution_count": null,
      "metadata": {
        "id": "0uqKo7VI54ul"
      },
      "outputs": [],
      "source": [
        "import torch\n",
        "import torchvision\n",
        "import torchvision.transforms as transforms"
      ]
    },
    {
      "cell_type": "markdown",
      "metadata": {
        "id": "YLCMgb2Y54uo"
      },
      "source": [
        "The output of torchvision datasets are `PIL` images of range [0, 1].\n",
        "We transform them to Tensors of normalized range [-1, 1] using the `transforms.ToTensor` and `transforms.Normalize` functions.\n",
        "\n",
        "The [transforms package](https://pytorch.org/vision/stable/transforms.html) has other functions that you might use for **data augmentation**. For example, `torchvision.transforms.RandomResizedCrop` and `torchvision.transforms.RandomHorizontalFlip`."
      ]
    },
    {
      "cell_type": "code",
      "execution_count": null,
      "metadata": {
        "id": "SgoDH0Yh54uo"
      },
      "outputs": [],
      "source": [
        "# Transforms\n",
        "train_transform = transforms.Compose([\n",
        "    transforms.RandomHorizontalFlip(),\n",
        "    transforms.ToTensor(),\n",
        "    transforms.Normalize((0.5, 0.5, 0.5), (0.5, 0.5, 0.5)),\n",
        "])\n",
        "\n",
        "test_transform = transforms.Compose([\n",
        "    transforms.ToTensor(),\n",
        "    transforms.Normalize((0.5, 0.5, 0.5), (0.5, 0.5, 0.5)),\n",
        "])\n",
        "\n",
        "# Datasets\n",
        "trainset = torchvision.datasets.CIFAR10(\n",
        "    root='./data', train=True, download=True, transform=train_transform)\n",
        "testset = torchvision.datasets.CIFAR10(\n",
        "    root='./data', train=False, download=True, transform=test_transform)\n",
        "\n",
        "# Data loaders\n",
        "trainloader = torch.utils.data.DataLoader(\n",
        "    trainset, batch_size=4, shuffle=True, num_workers=2)\n",
        "testloader = torch.utils.data.DataLoader(\n",
        "    testset, batch_size=4, shuffle=False, num_workers=2)\n",
        "\n",
        "classes = ('plane', 'car', 'bird', 'cat', 'deer',\n",
        "           'dog', 'frog', 'horse', 'ship', 'truck')"
      ]
    },
    {
      "cell_type": "markdown",
      "metadata": {
        "id": "qGfPvUSa54uq"
      },
      "source": [
        "Let us show some of the training images, for fun.\n",
        "\n"
      ]
    },
    {
      "cell_type": "code",
      "execution_count": null,
      "metadata": {
        "id": "wc0QqWeK54uq"
      },
      "outputs": [],
      "source": [
        "import matplotlib.pyplot as plt\n",
        "import numpy as np\n",
        "\n",
        "\n",
        "def imshow(img):\n",
        "    \"\"\"Function to display an image.\"\"\"\n",
        "    img = img / 2 + 0.5  # unnormalize\n",
        "    npimg = img.numpy()\n",
        "    plt.imshow(np.transpose(npimg, (1, 2, 0)))\n",
        "    plt.axis('off')\n",
        "\n",
        "\n",
        "# Get some random training images\n",
        "dataiter = iter(trainloader)\n",
        "images, labels = next(dataiter)\n",
        "\n",
        "\n",
        "# Show images\n",
        "imshow(torchvision.utils.make_grid(images))\n",
        "# Print labels\n",
        "print('      '.join('%5s' % classes[labels[j]] for j in range(4)))"
      ]
    },
    {
      "cell_type": "markdown",
      "metadata": {
        "id": "mFVH9GDs54ut"
      },
      "source": [
        "#### Training on GPU\n",
        "\n",
        "Just like how you transfer a Tensor on to the GPU, you transfer the neural\n",
        "net onto the GPU.\n",
        "\n",
        "Let's first define our device as the first visible cuda device if we have\n",
        "CUDA available:"
      ]
    },
    {
      "cell_type": "code",
      "execution_count": null,
      "metadata": {
        "id": "Tg4nH4kL54ut"
      },
      "outputs": [],
      "source": [
        "device = torch.device(\"cuda\" if torch.cuda.is_available() else \"cpu\")\n",
        "\n",
        "# Assuming that we are on a CUDA machine, this should print a CUDA device:\n",
        "print(device)"
      ]
    },
    {
      "cell_type": "markdown",
      "metadata": {
        "id": "XAi1IRlm54uv"
      },
      "source": [
        "If `device` is in fact set to a CUDA device, then these methods will recursively go over all modules and convert their parameters and buffers to CUDA tensors:\n",
        "\n",
        "```python\n",
        "net = net.to(device)\n",
        "```\n",
        "\n",
        "Remember that you will have to send the inputs and targets at every step\n",
        "to the GPU too:\n",
        "\n",
        "```python\n",
        "inputs, labels = inputs.to(device), labels.to(device)\n",
        "```\n",
        "\n",
        "Why don't I notice MASSIVE speedup compared to CPU? Because your network\n",
        "is *realllly* small.\n",
        "\n",
        "**Exercise:** Try increasing the width of your network (argument 2 of\n",
        "the first `nn.Conv2d`, and argument 1 of the second `nn.Conv2d` –\n",
        "they need to be the same number), see what kind of speedup you get."
      ]
    },
    {
      "cell_type": "markdown",
      "metadata": {
        "id": "3f3yqmzZ54uv"
      },
      "source": [
        "### 2) Define a Convolution Neural Network\n",
        "\n",
        "Copy the neural network from the Neural Networks section before and modify it to\n",
        "take 3-channel images (instead of 1-channel images as it was defined).\n",
        "\n"
      ]
    },
    {
      "cell_type": "code",
      "execution_count": null,
      "metadata": {
        "id": "QFxHduMg54uw"
      },
      "outputs": [],
      "source": [
        "import torch.nn as nn\n",
        "import torch.nn.functional as F\n",
        "\n",
        "\n",
        "class Net(nn.Module):\n",
        "    def __init__(self):\n",
        "        super().__init__()\n",
        "        self.out_channels1 = 6\n",
        "        self.out_channels2 = 16\n",
        "        self.conv1 = nn.Conv2d(3, self.out_channels1, 5)\n",
        "        self.pool = nn.MaxPool2d(2, 2)\n",
        "        self.conv2 = nn.Conv2d(self.out_channels1, self.out_channels2, 5)\n",
        "        self.fc1 = nn.Linear(self.out_channels2 * 5 * 5, 120)\n",
        "        self.fc2 = nn.Linear(120, 84)\n",
        "        self.fc3 = nn.Linear(84, 10)\n",
        "\n",
        "    def forward(self, x):\n",
        "        x = self.pool(F.relu(self.conv1(x)))\n",
        "        x = self.pool(F.relu(self.conv2(x)))\n",
        "        x = x.flatten(start_dim=1)\n",
        "        x = F.relu(self.fc1(x))\n",
        "        x = F.relu(self.fc2(x))\n",
        "        x = self.fc3(x)\n",
        "        return x\n",
        "\n",
        "\n",
        "net = Net().to(device)"
      ]
    },
    {
      "cell_type": "markdown",
      "metadata": {
        "id": "MNZpQALm54ux"
      },
      "source": [
        "### 3) Define a Loss function and optimizer\n",
        "\n",
        "Let's use a Classification Cross-Entropy loss and SGD with momentum.\n",
        "\n"
      ]
    },
    {
      "cell_type": "code",
      "execution_count": null,
      "metadata": {
        "id": "CxS9T6ly54uy"
      },
      "outputs": [],
      "source": [
        "import torch.optim as optim\n",
        "\n",
        "criterion = nn.CrossEntropyLoss()\n",
        "optimizer = optim.SGD(net.parameters(), lr=0.001, momentum=0.9)\n",
        "#optimizer = optim.Adam(net.parameters(), lr=0.001)"
      ]
    },
    {
      "cell_type": "markdown",
      "metadata": {
        "id": "yUwlfYEh54u0"
      },
      "source": [
        "### 4) Train the network\n",
        "\n",
        "\n",
        "This is when things start to get interesting.\n",
        "We simply have to loop over our data iterator, and feed the inputs to the\n",
        "network and optimize.\n",
        "\n"
      ]
    },
    {
      "cell_type": "code",
      "execution_count": null,
      "metadata": {
        "id": "dwXciSA454u0"
      },
      "outputs": [],
      "source": [
        "import time\n",
        "\n",
        "\n",
        "net = net.train()\n",
        "\n",
        "# Loop over the dataset for multiple epochs\n",
        "for epoch in range(1, 3):\n",
        "    running_loss = 0.0\n",
        "    t_s = time.time()\n",
        "\n",
        "    # For each mini-batch...\n",
        "    for i, data in enumerate(trainloader, 1):\n",
        "        # Get the inputs\n",
        "        inputs, labels = data\n",
        "        inputs, labels = inputs.to(device), labels.to(device)\n",
        "\n",
        "        # Zero the parameter gradients\n",
        "        optimizer.zero_grad()\n",
        "\n",
        "        # Forward + backward + optimize\n",
        "        outputs = net(inputs)\n",
        "        loss = criterion(outputs, labels)\n",
        "        loss.backward()\n",
        "        optimizer.step()\n",
        "\n",
        "        # print statistics\n",
        "        running_loss += loss.item()\n",
        "        if i % 2000 == 0:  # print every 2000 mini-batches\n",
        "            print('[%d, %5d] loss: %.3f' %\n",
        "                  (epoch, i, running_loss / 2000))\n",
        "            running_loss = 0.0\n",
        "            print('iters time:', time.time() - t_s)\n",
        "            t_s = time.time()\n",
        "\n",
        "print('Finished Training')"
      ]
    },
    {
      "cell_type": "markdown",
      "metadata": {
        "id": "rxqpJ27N_23W"
      },
      "source": [
        "Let’s quickly save our trained model:"
      ]
    },
    {
      "cell_type": "code",
      "execution_count": null,
      "metadata": {
        "id": "65bQ4MFR_y52"
      },
      "outputs": [],
      "source": [
        "PATH = './cifar_net.pth'\n",
        "torch.save(net.state_dict(), PATH)"
      ]
    },
    {
      "cell_type": "markdown",
      "metadata": {
        "id": "MdGUM74bAJn6"
      },
      "source": [
        "We can load back in a saved model with the following: (note: saving and re-loading the model wasn’t necessary here, we only did it to illustrate how to do so):"
      ]
    },
    {
      "cell_type": "code",
      "execution_count": null,
      "metadata": {
        "id": "QuoPRDvWAUYs"
      },
      "outputs": [],
      "source": [
        "net = Net().to(device)\n",
        "net.load_state_dict(torch.load(PATH))"
      ]
    },
    {
      "cell_type": "markdown",
      "metadata": {
        "id": "T0X8mDOw54u1"
      },
      "source": [
        "### 5) Test the network on the test data\n",
        "\n",
        "We have trained the network for 2 passes over the training dataset.\n",
        "But we need to check if the network has learned anything at all.\n",
        "\n",
        "We will check this by predicting the class label that the neural network\n",
        "outputs, and checking it against the ground-truth. If the prediction is\n",
        "correct, we add the sample to the list of correct predictions.\n",
        "\n",
        "Okay, first step. Let us display an image from the test set to get familiar."
      ]
    },
    {
      "cell_type": "code",
      "execution_count": null,
      "metadata": {
        "id": "AxuALLU054u2"
      },
      "outputs": [],
      "source": [
        "dataiter = iter(testloader)\n",
        "images, labels = next(dataiter)\n",
        "\n",
        "# print images\n",
        "imshow(torchvision.utils.make_grid(images))\n",
        "print('Ground truth:')\n",
        "print('      '.join('%5s' % classes[labels[j]] for j in range(4)))"
      ]
    },
    {
      "cell_type": "markdown",
      "metadata": {
        "id": "17PzSHOh54u4"
      },
      "source": [
        "Okay, now let us see what the neural network thinks these examples above are:\n",
        "\n"
      ]
    },
    {
      "cell_type": "code",
      "execution_count": null,
      "metadata": {
        "id": "YUalV9gM54u4"
      },
      "outputs": [],
      "source": [
        "net = net.eval()\n",
        "\n",
        "outputs = net(images.to(device))"
      ]
    },
    {
      "cell_type": "markdown",
      "metadata": {
        "id": "sXLcTThZ54u6"
      },
      "source": [
        "The outputs are energies for the 10 classes.\n",
        "Higher the energy for a class, the more the network\n",
        "thinks that the image is of the particular class.\n",
        "So, let's get the index of the highest energy:\n",
        "\n"
      ]
    },
    {
      "cell_type": "code",
      "execution_count": null,
      "metadata": {
        "id": "BttfSl0_54u7"
      },
      "outputs": [],
      "source": [
        "_, predicted = torch.max(outputs, 1)\n",
        "\n",
        "imshow(torchvision.utils.make_grid(images))\n",
        "print('Predicted:')\n",
        "print('      '.join('%5s' % classes[predicted[j]] for j in range(4)))"
      ]
    },
    {
      "cell_type": "markdown",
      "metadata": {
        "id": "uQOFenEC54u-"
      },
      "source": [
        "The results seem pretty good.\n",
        "\n",
        "Let us look at how the network performs on the whole dataset.\n",
        "\n"
      ]
    },
    {
      "cell_type": "code",
      "execution_count": null,
      "metadata": {
        "id": "iKFpv3i354u-"
      },
      "outputs": [],
      "source": [
        "correct = 0\n",
        "total = 0\n",
        "with torch.no_grad():\n",
        "    for data in testloader:\n",
        "        images, labels = data\n",
        "        images, labels = images.to(device), labels.to(device)\n",
        "        outputs = net(images)\n",
        "        _, predicted = torch.max(outputs.data, 1)\n",
        "        total += labels.size(0)\n",
        "        correct += (predicted == labels).sum().item()\n",
        "\n",
        "print('Accuracy of the network on the 10000 test images: %d%%' % (\n",
        "    100 * correct / total))"
      ]
    },
    {
      "cell_type": "markdown",
      "metadata": {
        "id": "BwJ2a57954vA"
      },
      "source": [
        "That looks waaay better than chance, which is 10% accuracy (randomly picking\n",
        "a class out of 10 classes).\n",
        "Seems like the network learned something.\n",
        "\n",
        "Hmmm, what are the classes that performed well, and the classes that did\n",
        "not perform well:"
      ]
    },
    {
      "cell_type": "code",
      "execution_count": null,
      "metadata": {
        "id": "6kRdd7As54vB"
      },
      "outputs": [],
      "source": [
        "class_correct = [0] * 10\n",
        "class_total = [0] * 10\n",
        "with torch.no_grad():\n",
        "    for data in testloader:\n",
        "        images, labels = data\n",
        "        images, labels = images.to(device), labels.to(device)\n",
        "        outputs = net(images)\n",
        "        _, predicted = torch.max(outputs, 1)\n",
        "        c = (predicted == labels).squeeze()\n",
        "        for i in range(4):\n",
        "            label = labels[i]\n",
        "            class_correct[label] += c[i].item()\n",
        "            class_total[label] += 1\n",
        "\n",
        "\n",
        "for i in range(10):\n",
        "    print('Accuracy of %5s: %2d%%' % (\n",
        "        classes[i], 100 * class_correct[i] / class_total[i]))"
      ]
    },
    {
      "cell_type": "markdown",
      "metadata": {
        "id": "S3V4E0pI54vE"
      },
      "source": [
        "### Other information\n",
        "\n",
        "How to write data loading code in PyTorch: https://pytorch.org/tutorials/beginner/data_loading_tutorial.html\n",
        "\n",
        "More details on saving and loading models: https://pytorch.org/tutorials/beginner/saving_loading_models.html"
      ]
    },
    {
      "cell_type": "markdown",
      "metadata": {
        "id": "mw33n0lVaflD"
      },
      "source": [
        "## Other Tips and Helpful Functions\n"
      ]
    },
    {
      "cell_type": "markdown",
      "metadata": {
        "id": "x-XdYBHho1b1"
      },
      "source": [
        "### Tips for debugging\n",
        "\n",
        "Checklist for common PyTorch mistakes:\n",
        "\n",
        "* Did you set `shuffle=True` in your train dataloader?\n",
        "* Did you properly set `net.train()` and `net.eval()` in your training and evaluation code?\n",
        "* Did you call `zero_grad()` in your training loop before `.backward()` to prevent gradients from accumulating?\n",
        "\n",
        "Other tips:\n",
        "* Have you visualized your loaded images? This is the best way to catch data loader issues.\n",
        "* If you are getting a CUDA out of memory error, first try decreasing the batch size. If you are still getting the same error, your network may simply be too large, or you could be accidentally allocating a large array in memory.\n",
        "* If the GPU memory is full, first try clearing the outputs and restarting the kernel. If that does not work, manually clear the GPU memory using `torch.cuda.empty_cache()`.\n",
        "* Getting CUDA errors that are hard to understand? Sometimes error messages will be simpler if you switch your network to cpu memory to debug the forward and backward passes.\n",
        "\n"
      ]
    },
    {
      "cell_type": "markdown",
      "metadata": {
        "id": "IM517FCeGGmh"
      },
      "source": [
        "### Pretrained models\n",
        "\n",
        "PyTorch provides easy access to load many pretrained models. You can find a wide variety of vision models pretrained for different tasks in the `torchvision` package: https://pytorch.org/vision/stable/models.html\n",
        "\n",
        "To load a ResNet50 model pretrained on ImageNet:"
      ]
    },
    {
      "cell_type": "code",
      "execution_count": null,
      "metadata": {
        "id": "U-02dfgAagK3"
      },
      "outputs": [],
      "source": [
        "from torchvision.models import resnet50\n",
        "\n",
        "resnet = resnet50(pretrained=True)"
      ]
    },
    {
      "cell_type": "markdown",
      "metadata": {
        "id": "-Ryw7NzWLs-_"
      },
      "source": [
        "It's common that you may want to finetune some or all of the weights in a pretrained model. You can check here for more details on how to do this: https://pytorch.org/tutorials/beginner/finetuning_torchvision_models_tutorial.html\n",
        "\n",
        "\n",
        "There are even more pretrained models available on the PyTorch Hub: https://pytorch.org/hub/"
      ]
    },
    {
      "cell_type": "markdown",
      "metadata": {
        "id": "Uv9zqWFlR9jx"
      },
      "source": [
        "### More Tensor operations\n",
        "\n",
        "The `torch.einsum` function offers a compact way to express various matrix transformations and products. Many of common matrix and vector computations can be easily expressed elegantly with a call to this function.\n",
        "\n",
        "Some simple examples are below, but you can find many more example einsum operations in this helpful blog post: https://rockt.github.io/2018/04/30/einsum\n"
      ]
    },
    {
      "cell_type": "code",
      "execution_count": null,
      "metadata": {
        "id": "nls4hhaUZggy"
      },
      "outputs": [],
      "source": [
        "x = torch.arange(6).reshape(2, 3)\n",
        "print('x: ', x)\n",
        "\n",
        "# matrix transpose\n",
        "out = torch.einsum('ij->ji', [x])\n",
        "print(out)\n",
        "\n",
        "# sum all the rows in a matrix\n",
        "out = torch.einsum('ij->i', [x])\n",
        "print(out)\n",
        "\n",
        "# sum all the values in a matrix\n",
        "out = torch.einsum('ij->', [x])\n",
        "print(out)"
      ]
    },
    {
      "cell_type": "markdown",
      "metadata": {
        "id": "3DU8WXqJbUUZ"
      },
      "source": [
        "Operations on two matrices:"
      ]
    },
    {
      "cell_type": "code",
      "execution_count": null,
      "metadata": {
        "id": "M2vLY0r0aygj"
      },
      "outputs": [],
      "source": [
        "x = torch.arange(9).reshape(3, 3)\n",
        "y = torch.arange(9).reshape(3, 3)\n",
        "print('x: ', x)\n",
        "print('y: ', y)\n",
        "\n",
        "# element-wise multiplication\n",
        "out = torch.einsum('ij,ij->ij', [x, y])\n",
        "print(out)\n",
        "\n",
        "# matrix multiplication\n",
        "out = torch.einsum('ik,kj->ij', [x, y])\n",
        "print(out)"
      ]
    }
  ],
  "metadata": {
    "accelerator": "GPU",
    "colab": {
      "gpuType": "T4",
      "provenance": [],
      "toc_visible": true
    },
    "kernelspec": {
      "display_name": "deyo_env",
      "language": "python",
      "name": "deyo_env"
    },
    "language_info": {
      "codemirror_mode": {
        "name": "ipython",
        "version": 3
      },
      "file_extension": ".py",
      "mimetype": "text/x-python",
      "name": "python",
      "nbconvert_exporter": "python",
      "pygments_lexer": "ipython3",
      "version": "3.7.16"
    }
  },
  "nbformat": 4,
  "nbformat_minor": 0
}