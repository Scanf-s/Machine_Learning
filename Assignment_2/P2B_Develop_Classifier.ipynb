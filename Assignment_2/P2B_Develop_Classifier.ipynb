{
  "cells": [
    {
      "cell_type": "markdown",
      "metadata": {
        "id": "kGhierhUYC8l"
      },
      "source": [
        "# Assignment 2\n",
        "## Part 2B: Developing Your Own Classifier (30 pts)"
      ]
    },
    {
      "cell_type": "code",
      "execution_count": 42,
      "metadata": {
        "id": "oRodqSiBYC8n",
        "outputId": "daff3d22-5e74-4d57-d08b-5aea7abbb7d9",
        "colab": {
          "base_uri": "https://localhost:8080/"
        }
      },
      "outputs": [
        {
          "output_type": "stream",
          "name": "stdout",
          "text": [
            "The autoreload extension is already loaded. To reload it, use:\n",
            "  %reload_ext autoreload\n"
          ]
        }
      ],
      "source": [
        "import os\n",
        "import numpy as np\n",
        "import torch\n",
        "import torch.nn as nn\n",
        "import torchvision\n",
        "\n",
        "from torchvision import transforms\n",
        "from sklearn.metrics import average_precision_score\n",
        "from PIL import Image, ImageDraw\n",
        "import matplotlib.pyplot as plt\n",
        "from submission import output_submission_csv\n",
        "from classifier import SimpleClassifier, ResNet50#, AlexNet\n",
        "from voc_dataloader import VocDataset, VOC_CLASSES\n",
        "\n",
        "%matplotlib inline\n",
        "%load_ext autoreload\n",
        "%autoreload 2"
      ]
    },
    {
      "cell_type": "markdown",
      "metadata": {
        "id": "ZK0qJk6CYC8o"
      },
      "source": [
        "# Part 2B: Design your own network\n",
        "\n",
        "In this notebook, your task is to create and train your own model for multi-label classification on VOC Pascal.\n",
        "\n",
        "## What to do\n",
        "1. You will make change on network architecture in ```classifier.py```.\n",
        "2. You may also want to change other hyperparameters to assist your training to get a better performances. Hints will be given in the below instructions.\n"
      ]
    },
    {
      "cell_type": "code",
      "execution_count": 43,
      "metadata": {
        "id": "dA5v_3mwYC8o"
      },
      "outputs": [],
      "source": [
        "def train_classifier(train_loader, classifier, criterion, optimizer):\n",
        "    classifier.train()\n",
        "    loss_ = 0.0\n",
        "    losses = []\n",
        "    for i, (images, labels) in enumerate(train_loader):\n",
        "        images, labels = images.to(device), labels.to(device)\n",
        "        optimizer.zero_grad()\n",
        "        logits = classifier(images)\n",
        "        loss = criterion(logits, labels)\n",
        "        loss.backward()\n",
        "        optimizer.step()\n",
        "        losses.append(loss)\n",
        "    return torch.stack(losses).mean().item()"
      ]
    },
    {
      "cell_type": "code",
      "execution_count": 44,
      "metadata": {
        "id": "YiU7LwztYC8o"
      },
      "outputs": [],
      "source": [
        "def test_classifier(test_loader, classifier, criterion, print_ind_classes=True, print_total=True):\n",
        "    classifier.eval()\n",
        "    losses = []\n",
        "    with torch.no_grad():\n",
        "        y_true = np.zeros((0,21))\n",
        "        y_score = np.zeros((0,21))\n",
        "        for i, (images, labels) in enumerate(test_loader):\n",
        "            images, labels = images.to(device), labels.to(device)\n",
        "            logits = classifier(images)\n",
        "            y_true = np.concatenate((y_true, labels.cpu().numpy()), axis=0)\n",
        "            y_score = np.concatenate((y_score, logits.cpu().numpy()), axis=0)\n",
        "            loss = criterion(logits, labels)\n",
        "            losses.append(loss.item())\n",
        "        aps = []\n",
        "        # ignore first class which is background\n",
        "        for i in range(1, y_true.shape[1]):\n",
        "            ap = average_precision_score(y_true[:, i], y_score[:, i])\n",
        "            if print_ind_classes:\n",
        "                print('-------  Class: {:<12}     AP: {:>8.4f}  -------'.format(VOC_CLASSES[i], ap))\n",
        "            aps.append(ap)\n",
        "\n",
        "        mAP = np.mean(aps)\n",
        "        test_loss = np.mean(losses)\n",
        "        if print_total:\n",
        "            print('mAP: {0:.4f}'.format(mAP))\n",
        "            print('Avg loss: {}'.format(test_loss))\n",
        "\n",
        "    return mAP, test_loss, aps"
      ]
    },
    {
      "cell_type": "code",
      "execution_count": 45,
      "metadata": {
        "id": "B0DT1QARYC8p"
      },
      "outputs": [],
      "source": [
        "def plot_losses(train, val, test_frequency, num_epochs):\n",
        "    plt.plot(train, label=\"train\")\n",
        "    indices = [i for i in range(num_epochs) if ((i+1)%test_frequency == 0 or i ==0)]\n",
        "    plt.plot(indices, val, label=\"val\")\n",
        "    plt.title(\"Loss Plot\")\n",
        "    plt.ylabel(\"Loss\")\n",
        "    plt.xlabel(\"Epoch\")\n",
        "    plt.legend()\n",
        "    plt.show()\n",
        "\n",
        "def plot_mAP(train, val, test_frequency, num_epochs):\n",
        "    indices = [i for i in range(num_epochs) if ((i+1)%test_frequency == 0 or i ==0)]\n",
        "    plt.plot(indices, train, label=\"train\")\n",
        "    plt.plot(indices, val, label=\"val\")\n",
        "    plt.title(\"mAP Plot\")\n",
        "    plt.ylabel(\"mAP\")\n",
        "    plt.xlabel(\"Epoch\")\n",
        "    plt.legend()\n",
        "    plt.show()\n",
        ""
      ]
    },
    {
      "cell_type": "code",
      "execution_count": 46,
      "metadata": {
        "id": "cIJHyCHtYC8p"
      },
      "outputs": [],
      "source": [
        "def train(classifier, num_epochs, train_loader, val_loader, criterion, optimizer, test_frequency=5):\n",
        "    train_losses = []\n",
        "    train_mAPs = []\n",
        "    val_losses = []\n",
        "    val_mAPs = []\n",
        "\n",
        "    for epoch in range(1,num_epochs+1):\n",
        "        print(\"Starting epoch number \" + str(epoch))\n",
        "        train_loss = train_classifier(train_loader, classifier, criterion, optimizer)\n",
        "        train_losses.append(train_loss)\n",
        "        print(\"Loss for Training on Epoch \" +str(epoch) + \" is \"+ str(train_loss))\n",
        "        if(epoch%test_frequency==0 or epoch==1):\n",
        "            mAP_train, _, _ = test_classifier(train_loader, classifier, criterion, False, False)\n",
        "            train_mAPs.append(mAP_train)\n",
        "            mAP_val, val_loss, _ = test_classifier(val_loader, classifier, criterion)\n",
        "            print('Evaluating classifier')\n",
        "            print(\"Mean Precision Score for Testing on Epoch \" +str(epoch) + \" is \"+ str(mAP_val))\n",
        "            val_losses.append(val_loss)\n",
        "            val_mAPs.append(mAP_val)\n",
        "\n",
        "    return classifier, train_losses, val_losses, train_mAPs, val_mAPs"
      ]
    },
    {
      "cell_type": "markdown",
      "metadata": {
        "id": "S6ESuVYMYC8p"
      },
      "source": [
        "# Developing Your Own Model"
      ]
    },
    {
      "cell_type": "markdown",
      "metadata": {
        "id": "Zo3gDlK4YC8p"
      },
      "source": [
        "### Goal\n",
        "To meet the benchmark for this assignment you will need to improve the network. Note you should have noticed pretrained Alenxt performs really well, but training Alexnet from scratch performs much worse. We hope you can design a better architecture over both the simple classifier and AlexNet to train from scratch.\n",
        "\n",
        "### How to start\n",
        "You may take inspiration from other published architectures and architectures discussed in lecture. However, you are NOT allowed to use predefined models (e.g. models from torchvision) or use pretrained weights. Training must be done from scratch with your own custom model.\n",
        "\n",
        "#### Some hints\n",
        "There are a variety of different approaches you should try to improve performance from the simple classifier:\n",
        "\n",
        "* Network architecture changes\n",
        "    * Number of layers: try adding layers to make your network deeper\n",
        "    * Batch normalization: adding batch norm between layers will likely give you a significant performance increase\n",
        "    * Residual connections: as you increase the depth of your network, you will find that having residual connections like those in ResNet architectures will be helpful\n",
        "* Optimizer: Instead of plain SGD, you may want to add a learning rate schedule, add momentum, or use one of the other optimizers you have learned about like Adam. Check the `torch.optim` package for other optimizers\n",
        "* Data augmentation: You should use the `torchvision.transforms` module to try adding random resized crops and horizontal flips of the input data. Check `transforms.RandomResizedCrop` and `transforms.RandomHorizontalFlip` for this. Feel free to apply more [transforms](https://pytorch.org/docs/stable/torchvision/transforms.html) for data augmentation which can lead to better performance.\n",
        "* Epochs: Once you have found a generally good hyperparameter setting try training for more epochs\n",
        "* Loss function: You might want to add weighting to the `MultiLabelSoftMarginLoss` for classes that are less well represented or experiment with a different loss function\n",
        "\n",
        "\n",
        "\n",
        "#### Note\n",
        "We will soon be providing some initial expectations of mAP values as a function of epoch so you can get an early idea whether your implementation works without waiting a long time for training to converge.\n"
      ]
    },
    {
      "cell_type": "code",
      "source": [
        "!chmod +x download_data.sh\n",
        "!./download_data.sh"
      ],
      "metadata": {
        "id": "QLX0XZe7khfM",
        "outputId": "d83a140d-1a51-478e-e72f-8ca4ee7830a8",
        "colab": {
          "base_uri": "https://localhost:8080/"
        }
      },
      "execution_count": 7,
      "outputs": [
        {
          "output_type": "stream",
          "name": "stdout",
          "text": [
            "--2025-05-13 16:55:08--  http://host.robots.ox.ac.uk/pascal/VOC/voc2007/VOCtrainval_06-Nov-2007.tar\n",
            "Resolving host.robots.ox.ac.uk (host.robots.ox.ac.uk)... 129.67.94.152\n",
            "Connecting to host.robots.ox.ac.uk (host.robots.ox.ac.uk)|129.67.94.152|:80... connected.\n",
            "HTTP request sent, awaiting response... 200 OK\n",
            "Length: 460032000 (439M) [application/x-tar]\n",
            "Saving to: ‘VOCtrainval_06-Nov-2007.tar’\n",
            "\n",
            "VOCtrainval_06-Nov- 100%[===================>] 438.72M  13.4MB/s    in 22s     \n",
            "\n",
            "2025-05-13 16:55:30 (20.0 MB/s) - ‘VOCtrainval_06-Nov-2007.tar’ saved [460032000/460032000]\n",
            "\n",
            "--2025-05-13 16:55:32--  http://host.robots.ox.ac.uk/pascal/VOC/voc2007/VOCtest_06-Nov-2007.tar\n",
            "Resolving host.robots.ox.ac.uk (host.robots.ox.ac.uk)... 129.67.94.152\n",
            "Connecting to host.robots.ox.ac.uk (host.robots.ox.ac.uk)|129.67.94.152|:80... connected.\n",
            "HTTP request sent, awaiting response... 200 OK\n",
            "Length: 451020800 (430M) [application/x-tar]\n",
            "Saving to: ‘VOCtest_06-Nov-2007.tar’\n",
            "\n",
            "VOCtest_06-Nov-2007 100%[===================>] 430.13M  23.0MB/s    in 22s     \n",
            "\n",
            "2025-05-13 16:55:54 (19.6 MB/s) - ‘VOCtest_06-Nov-2007.tar’ saved [451020800/451020800]\n",
            "\n"
          ]
        }
      ]
    },
    {
      "cell_type": "code",
      "execution_count": 47,
      "metadata": {
        "id": "yq1I1SFDYC8p"
      },
      "outputs": [],
      "source": [
        "device = torch.device(\"cuda:0\" if torch.cuda.is_available() else \"cpu\")\n",
        "\n",
        "normalize = transforms.Normalize(mean=[0.485, 0.456, 0.406],\n",
        "                                     std= [0.229, 0.224, 0.225])\n",
        "\n",
        "train_transform = transforms.Compose([\n",
        "            transforms.RandomResizedCrop(\n",
        "                224,\n",
        "                scale=(0.5, 1.0), # 이미지에서 50 ~ 100 면적 선택\n",
        "                ratio=(0.75, 1.33), # 가로 세로 비율\n",
        "            ),\n",
        "            transforms.RandomHorizontalFlip(), # 좌우 반전 50% 비율\n",
        "            transforms.ColorJitter( # 색상 및 조명 변형\n",
        "                brightness=0.2,\n",
        "                contrast=0.2,\n",
        "                saturation=0.2,\n",
        "                hue=0.1\n",
        "            ),\n",
        "\n",
        "            transforms.ToTensor(),\n",
        "            normalize,\n",
        "        ])\n",
        "\n",
        "test_transform = transforms.Compose([\n",
        "            transforms.Resize(224),\n",
        "            transforms.CenterCrop(224),\n",
        "            transforms.ToTensor(),\n",
        "            normalize,\n",
        "        ])\n",
        "\n",
        "ds_train = VocDataset('VOCdevkit_2007/VOC2007/','train',train_transform)\n",
        "ds_val = VocDataset('VOCdevkit_2007/VOC2007/','val',test_transform)\n",
        "ds_test = VocDataset('VOCdevkit_2007/VOC2007test/','test', test_transform)\n"
      ]
    },
    {
      "cell_type": "code",
      "execution_count": 49,
      "metadata": {
        "id": "B8YPTDBZYC8q"
      },
      "outputs": [],
      "source": [
        "num_epochs = 30\n",
        "test_frequency = 5\n",
        "batch_size = 64\n",
        "\n",
        "train_loader = torch.utils.data.DataLoader(dataset=ds_train,\n",
        "                                               batch_size=batch_size,\n",
        "                                               shuffle=True,\n",
        "                                               num_workers=1)\n",
        "\n",
        "val_loader = torch.utils.data.DataLoader(dataset=ds_val,\n",
        "                                               batch_size=batch_size,\n",
        "                                               shuffle=True,\n",
        "                                               num_workers=1)\n",
        "\n",
        "test_loader = torch.utils.data.DataLoader(dataset=ds_test,\n",
        "                                               batch_size=batch_size,\n",
        "                                               shuffle=False,\n",
        "                                               num_workers=1)"
      ]
    },
    {
      "cell_type": "code",
      "execution_count": 50,
      "metadata": {
        "id": "qbd-HqfQYC8q",
        "outputId": "e57b0541-c7aa-4ea0-87cb-6d543eb4fac2",
        "colab": {
          "base_uri": "https://localhost:8080/"
        }
      },
      "outputs": [
        {
          "output_type": "stream",
          "name": "stdout",
          "text": [
            "Starting epoch number 1\n",
            "Loss for Training on Epoch 1 is 0.2632543444633484\n",
            "-------  Class: aeroplane        AP:   0.3443  -------\n",
            "-------  Class: bicycle          AP:   0.0890  -------\n",
            "-------  Class: bird             AP:   0.0861  -------\n",
            "-------  Class: boat             AP:   0.1082  -------\n",
            "-------  Class: bottle           AP:   0.1022  -------\n",
            "-------  Class: bus              AP:   0.0772  -------\n",
            "-------  Class: car              AP:   0.2198  -------\n",
            "-------  Class: cat              AP:   0.1339  -------\n",
            "-------  Class: chair            AP:   0.2077  -------\n",
            "-------  Class: cow              AP:   0.0407  -------\n",
            "-------  Class: diningtable      AP:   0.1234  -------\n",
            "-------  Class: dog              AP:   0.1343  -------\n",
            "-------  Class: horse            AP:   0.0661  -------\n",
            "-------  Class: motorbike        AP:   0.0660  -------\n",
            "-------  Class: person           AP:   0.4848  -------\n",
            "-------  Class: pottedplant      AP:   0.0846  -------\n",
            "-------  Class: sheep            AP:   0.0852  -------\n",
            "-------  Class: sofa             AP:   0.1116  -------\n",
            "-------  Class: train            AP:   0.1023  -------\n",
            "-------  Class: tvmonitor        AP:   0.0707  -------\n",
            "mAP: 0.1369\n",
            "Avg loss: 0.2311121415346861\n",
            "Evaluating classifier\n",
            "Mean Precision Score for Testing on Epoch 1 is 0.13690812828445867\n",
            "Starting epoch number 2\n",
            "Loss for Training on Epoch 2 is 0.2249908447265625\n",
            "Starting epoch number 3\n",
            "Loss for Training on Epoch 3 is 0.22129178047180176\n",
            "Starting epoch number 4\n",
            "Loss for Training on Epoch 4 is 0.21676133573055267\n",
            "Starting epoch number 5\n",
            "Loss for Training on Epoch 5 is 0.21314847469329834\n",
            "-------  Class: aeroplane        AP:   0.4121  -------\n",
            "-------  Class: bicycle          AP:   0.1437  -------\n",
            "-------  Class: bird             AP:   0.1371  -------\n",
            "-------  Class: boat             AP:   0.1982  -------\n",
            "-------  Class: bottle           AP:   0.1279  -------\n",
            "-------  Class: bus              AP:   0.0896  -------\n",
            "-------  Class: car              AP:   0.4459  -------\n",
            "-------  Class: cat              AP:   0.2396  -------\n",
            "-------  Class: chair            AP:   0.3107  -------\n",
            "-------  Class: cow              AP:   0.1102  -------\n",
            "-------  Class: diningtable      AP:   0.2210  -------\n",
            "-------  Class: dog              AP:   0.1804  -------\n",
            "-------  Class: horse            AP:   0.1952  -------\n",
            "-------  Class: motorbike        AP:   0.1931  -------\n",
            "-------  Class: person           AP:   0.5904  -------\n",
            "-------  Class: pottedplant      AP:   0.1149  -------\n",
            "-------  Class: sheep            AP:   0.1135  -------\n",
            "-------  Class: sofa             AP:   0.2091  -------\n",
            "-------  Class: train            AP:   0.2136  -------\n",
            "-------  Class: tvmonitor        AP:   0.1286  -------\n",
            "mAP: 0.2187\n",
            "Avg loss: 0.20985773019492626\n",
            "Evaluating classifier\n",
            "Mean Precision Score for Testing on Epoch 5 is 0.21874746967551464\n",
            "Starting epoch number 6\n",
            "Loss for Training on Epoch 6 is 0.21005892753601074\n",
            "Starting epoch number 7\n",
            "Loss for Training on Epoch 7 is 0.20310118794441223\n",
            "Starting epoch number 8\n",
            "Loss for Training on Epoch 8 is 0.2030153125524521\n",
            "Starting epoch number 9\n",
            "Loss for Training on Epoch 9 is 0.19836798310279846\n",
            "Starting epoch number 10\n",
            "Loss for Training on Epoch 10 is 0.19416771829128265\n",
            "-------  Class: aeroplane        AP:   0.4922  -------\n",
            "-------  Class: bicycle          AP:   0.2811  -------\n",
            "-------  Class: bird             AP:   0.1608  -------\n",
            "-------  Class: boat             AP:   0.3097  -------\n",
            "-------  Class: bottle           AP:   0.1666  -------\n",
            "-------  Class: bus              AP:   0.1634  -------\n",
            "-------  Class: car              AP:   0.5255  -------\n",
            "-------  Class: cat              AP:   0.2356  -------\n",
            "-------  Class: chair            AP:   0.2986  -------\n",
            "-------  Class: cow              AP:   0.1030  -------\n",
            "-------  Class: diningtable      AP:   0.2340  -------\n",
            "-------  Class: dog              AP:   0.2091  -------\n",
            "-------  Class: horse            AP:   0.2721  -------\n",
            "-------  Class: motorbike        AP:   0.3520  -------\n",
            "-------  Class: person           AP:   0.5831  -------\n",
            "-------  Class: pottedplant      AP:   0.1460  -------\n",
            "-------  Class: sheep            AP:   0.1277  -------\n",
            "-------  Class: sofa             AP:   0.2164  -------\n",
            "-------  Class: train            AP:   0.3189  -------\n",
            "-------  Class: tvmonitor        AP:   0.1903  -------\n",
            "mAP: 0.2693\n",
            "Avg loss: 0.20256396234035492\n",
            "Evaluating classifier\n",
            "Mean Precision Score for Testing on Epoch 10 is 0.26931644769943325\n",
            "Starting epoch number 11\n",
            "Loss for Training on Epoch 11 is 0.19484607875347137\n",
            "Starting epoch number 12\n",
            "Loss for Training on Epoch 12 is 0.19178146123886108\n",
            "Starting epoch number 13\n",
            "Loss for Training on Epoch 13 is 0.185907244682312\n",
            "Starting epoch number 14\n",
            "Loss for Training on Epoch 14 is 0.18588344752788544\n",
            "Starting epoch number 15\n",
            "Loss for Training on Epoch 15 is 0.18925710022449493\n",
            "-------  Class: aeroplane        AP:   0.5492  -------\n",
            "-------  Class: bicycle          AP:   0.2820  -------\n",
            "-------  Class: bird             AP:   0.1728  -------\n",
            "-------  Class: boat             AP:   0.2857  -------\n",
            "-------  Class: bottle           AP:   0.1405  -------\n",
            "-------  Class: bus              AP:   0.2459  -------\n",
            "-------  Class: car              AP:   0.5278  -------\n",
            "-------  Class: cat              AP:   0.3421  -------\n",
            "-------  Class: chair            AP:   0.4173  -------\n",
            "-------  Class: cow              AP:   0.1546  -------\n",
            "-------  Class: diningtable      AP:   0.2439  -------\n",
            "-------  Class: dog              AP:   0.2217  -------\n",
            "-------  Class: horse            AP:   0.3213  -------\n",
            "-------  Class: motorbike        AP:   0.3235  -------\n",
            "-------  Class: person           AP:   0.6959  -------\n",
            "-------  Class: pottedplant      AP:   0.1293  -------\n",
            "-------  Class: sheep            AP:   0.1262  -------\n",
            "-------  Class: sofa             AP:   0.2830  -------\n",
            "-------  Class: train            AP:   0.4338  -------\n",
            "-------  Class: tvmonitor        AP:   0.2881  -------\n",
            "mAP: 0.3092\n",
            "Avg loss: 0.1925546359270811\n",
            "Evaluating classifier\n",
            "Mean Precision Score for Testing on Epoch 15 is 0.309228141753603\n",
            "Starting epoch number 16\n",
            "Loss for Training on Epoch 16 is 0.1850488930940628\n",
            "Starting epoch number 17\n",
            "Loss for Training on Epoch 17 is 0.17971551418304443\n",
            "Starting epoch number 18\n",
            "Loss for Training on Epoch 18 is 0.17964379489421844\n",
            "Starting epoch number 19\n",
            "Loss for Training on Epoch 19 is 0.17695367336273193\n",
            "Starting epoch number 20\n",
            "Loss for Training on Epoch 20 is 0.17566202580928802\n",
            "-------  Class: aeroplane        AP:   0.5930  -------\n",
            "-------  Class: bicycle          AP:   0.3070  -------\n",
            "-------  Class: bird             AP:   0.2023  -------\n",
            "-------  Class: boat             AP:   0.3823  -------\n",
            "-------  Class: bottle           AP:   0.1635  -------\n",
            "-------  Class: bus              AP:   0.2496  -------\n",
            "-------  Class: car              AP:   0.5770  -------\n",
            "-------  Class: cat              AP:   0.4032  -------\n",
            "-------  Class: chair            AP:   0.4299  -------\n",
            "-------  Class: cow              AP:   0.1563  -------\n",
            "-------  Class: diningtable      AP:   0.3397  -------\n",
            "-------  Class: dog              AP:   0.2501  -------\n",
            "-------  Class: horse            AP:   0.4106  -------\n",
            "-------  Class: motorbike        AP:   0.3651  -------\n",
            "-------  Class: person           AP:   0.6865  -------\n",
            "-------  Class: pottedplant      AP:   0.1577  -------\n",
            "-------  Class: sheep            AP:   0.1642  -------\n",
            "-------  Class: sofa             AP:   0.3037  -------\n",
            "-------  Class: train            AP:   0.5072  -------\n",
            "-------  Class: tvmonitor        AP:   0.3069  -------\n",
            "mAP: 0.3478\n",
            "Avg loss: 0.18997418098151683\n",
            "Evaluating classifier\n",
            "Mean Precision Score for Testing on Epoch 20 is 0.34778452472426974\n",
            "Starting epoch number 21\n",
            "Loss for Training on Epoch 21 is 0.17302508652210236\n",
            "Starting epoch number 22\n",
            "Loss for Training on Epoch 22 is 0.1729036569595337\n",
            "Starting epoch number 23\n",
            "Loss for Training on Epoch 23 is 0.16755811870098114\n",
            "Starting epoch number 24\n",
            "Loss for Training on Epoch 24 is 0.1668110191822052\n",
            "Starting epoch number 25\n",
            "Loss for Training on Epoch 25 is 0.1644805669784546\n",
            "-------  Class: aeroplane        AP:   0.6435  -------\n",
            "-------  Class: bicycle          AP:   0.3562  -------\n",
            "-------  Class: bird             AP:   0.1932  -------\n",
            "-------  Class: boat             AP:   0.4080  -------\n",
            "-------  Class: bottle           AP:   0.1961  -------\n",
            "-------  Class: bus              AP:   0.3049  -------\n",
            "-------  Class: car              AP:   0.6193  -------\n",
            "-------  Class: cat              AP:   0.3388  -------\n",
            "-------  Class: chair            AP:   0.4654  -------\n",
            "-------  Class: cow              AP:   0.1540  -------\n",
            "-------  Class: diningtable      AP:   0.3665  -------\n",
            "-------  Class: dog              AP:   0.2627  -------\n",
            "-------  Class: horse            AP:   0.4507  -------\n",
            "-------  Class: motorbike        AP:   0.4656  -------\n",
            "-------  Class: person           AP:   0.7568  -------\n",
            "-------  Class: pottedplant      AP:   0.1316  -------\n",
            "-------  Class: sheep            AP:   0.1366  -------\n",
            "-------  Class: sofa             AP:   0.3384  -------\n",
            "-------  Class: train            AP:   0.5793  -------\n",
            "-------  Class: tvmonitor        AP:   0.3115  -------\n",
            "mAP: 0.3740\n",
            "Avg loss: 0.17870138883590697\n",
            "Evaluating classifier\n",
            "Mean Precision Score for Testing on Epoch 25 is 0.3739634989080813\n",
            "Starting epoch number 26\n",
            "Loss for Training on Epoch 26 is 0.15865443646907806\n",
            "Starting epoch number 27\n",
            "Loss for Training on Epoch 27 is 0.15995846688747406\n",
            "Starting epoch number 28\n",
            "Loss for Training on Epoch 28 is 0.15711311995983124\n",
            "Starting epoch number 29\n",
            "Loss for Training on Epoch 29 is 0.1557139903306961\n",
            "Starting epoch number 30\n",
            "Loss for Training on Epoch 30 is 0.15559446811676025\n",
            "-------  Class: aeroplane        AP:   0.6114  -------\n",
            "-------  Class: bicycle          AP:   0.2836  -------\n",
            "-------  Class: bird             AP:   0.1619  -------\n",
            "-------  Class: boat             AP:   0.3553  -------\n",
            "-------  Class: bottle           AP:   0.1434  -------\n",
            "-------  Class: bus              AP:   0.2809  -------\n",
            "-------  Class: car              AP:   0.6009  -------\n",
            "-------  Class: cat              AP:   0.3382  -------\n",
            "-------  Class: chair            AP:   0.3651  -------\n",
            "-------  Class: cow              AP:   0.1854  -------\n",
            "-------  Class: diningtable      AP:   0.3404  -------\n",
            "-------  Class: dog              AP:   0.2902  -------\n",
            "-------  Class: horse            AP:   0.4262  -------\n",
            "-------  Class: motorbike        AP:   0.4332  -------\n",
            "-------  Class: person           AP:   0.7068  -------\n",
            "-------  Class: pottedplant      AP:   0.1489  -------\n",
            "-------  Class: sheep            AP:   0.1386  -------\n",
            "-------  Class: sofa             AP:   0.3016  -------\n",
            "-------  Class: train            AP:   0.4926  -------\n",
            "-------  Class: tvmonitor        AP:   0.2700  -------\n",
            "mAP: 0.3437\n",
            "Avg loss: 0.20697355531156064\n",
            "Evaluating classifier\n",
            "Mean Precision Score for Testing on Epoch 30 is 0.3437329086105618\n"
          ]
        }
      ],
      "source": [
        "# TODO: Run your own classifier here\n",
        "classifier = ResNet50().to(device)\n",
        "\n",
        "criterion = nn.MultiLabelSoftMarginLoss()\n",
        "\n",
        "optimizer = torch.optim.AdamW(classifier.parameters(), lr=3e-4, weight_decay=1e-4)\n",
        "\n",
        "classifier, train_losses, val_losses, train_mAPs, val_mAPs = train(classifier, num_epochs, train_loader, val_loader, criterion, optimizer, test_frequency)\n"
      ]
    },
    {
      "cell_type": "code",
      "execution_count": 40,
      "metadata": {
        "id": "3CS7N2vnYC8q",
        "outputId": "ce308107-7081-436f-d4a3-574028c63caf",
        "colab": {
          "base_uri": "https://localhost:8080/",
          "height": 927
        }
      },
      "outputs": [
        {
          "output_type": "display_data",
          "data": {
            "text/plain": [
              "<Figure size 640x480 with 1 Axes>"
            ],
            "image/png": "[encoded data removed]"
          },
          "metadata": {}
        },
        {
          "output_type": "display_data",
          "data": {
            "text/plain": [
              "<Figure size 640x480 with 1 Axes>"
            ],
            "image/png": "[encoded data removed]"
          },
          "metadata": {}
        }
      ],
      "source": [
        "plot_losses(train_losses, val_losses, test_frequency, num_epochs)\n",
        "plot_mAP(train_mAPs, val_mAPs, test_frequency, num_epochs)"
      ]
    },
    {
      "cell_type": "code",
      "execution_count": 36,
      "metadata": {
        "id": "S6Ov7QilYC8q",
        "outputId": "e5d7adb6-bcf1-4e43-91e3-2703ab38b3ad",
        "colab": {
          "base_uri": "https://localhost:8080/"
        }
      },
      "outputs": [
        {
          "output_type": "stream",
          "name": "stdout",
          "text": [
            "-------  Class: aeroplane        AP:   0.4815  -------\n",
            "-------  Class: bicycle          AP:   0.1120  -------\n",
            "-------  Class: bird             AP:   0.1181  -------\n",
            "-------  Class: boat             AP:   0.2115  -------\n",
            "-------  Class: bottle           AP:   0.0719  -------\n",
            "-------  Class: bus              AP:   0.0877  -------\n",
            "-------  Class: car              AP:   0.3834  -------\n",
            "-------  Class: cat              AP:   0.1682  -------\n",
            "-------  Class: chair            AP:   0.2201  -------\n",
            "-------  Class: cow              AP:   0.0664  -------\n",
            "-------  Class: diningtable      AP:   0.1376  -------\n",
            "-------  Class: dog              AP:   0.1324  -------\n",
            "-------  Class: horse            AP:   0.3726  -------\n",
            "-------  Class: motorbike        AP:   0.1736  -------\n",
            "-------  Class: person           AP:   0.5425  -------\n",
            "-------  Class: pottedplant      AP:   0.0868  -------\n",
            "-------  Class: sheep            AP:   0.1282  -------\n",
            "-------  Class: sofa             AP:   0.1540  -------\n",
            "-------  Class: train            AP:   0.3082  -------\n",
            "-------  Class: tvmonitor        AP:   0.1111  -------\n",
            "mAP: 0.2034\n",
            "Avg loss: 0.7031477193037668\n",
            "0.2033909604475713\n"
          ]
        }
      ],
      "source": [
        "mAP_test, test_loss, test_aps = test_classifier(test_loader, classifier, criterion)\n",
        "print(mAP_test)"
      ]
    },
    {
      "cell_type": "code",
      "execution_count": null,
      "metadata": {
        "id": "pY6zXt31YC8q"
      },
      "outputs": [],
      "source": [
        "torch.save(classifier.state_dict(), './voc_my_best_classifier.pth')\n",
        "output_submission_csv('my_solution.csv', test_aps)"
      ]
    }
  ],
  "metadata": {
    "kernelspec": {
      "display_name": "Python 3",
      "name": "python3"
    },
    "language_info": {
      "codemirror_mode": {
        "name": "ipython",
        "version": 3
      },
      "file_extension": ".py",
      "mimetype": "text/x-python",
      "name": "python",
      "nbconvert_exporter": "python",
      "pygments_lexer": "ipython3",
      "version": "3.9.18"
    },
    "colab": {
      "provenance": [],
      "gpuType": "T4"
    },
    "accelerator": "GPU"
  },
  "nbformat": 4,
  "nbformat_minor": 0
}