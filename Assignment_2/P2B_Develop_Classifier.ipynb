{
  "cells": [
    {
      "cell_type": "markdown",
      "metadata": {
        "id": "kGhierhUYC8l"
      },
      "source": [
        "# Assignment 2\n",
        "## Part 2B: Developing Your Own Classifier (30 pts)"
      ]
    },
    {
      "cell_type": "code",
      "execution_count": 4,
      "metadata": {
        "id": "oRodqSiBYC8n",
        "outputId": "9002a2ba-53f2-4447-800b-c195f700dca1",
        "colab": {
          "base_uri": "https://localhost:8080/"
        }
      },
      "outputs": [
        {
          "output_type": "stream",
          "name": "stdout",
          "text": [
            "The autoreload extension is already loaded. To reload it, use:\n",
            "  %reload_ext autoreload\n"
          ]
        }
      ],
      "source": [
        "import os\n",
        "import numpy as np\n",
        "import torch\n",
        "import torch.nn as nn\n",
        "import torchvision\n",
        "\n",
        "from torchvision import transforms\n",
        "from sklearn.metrics import average_precision_score\n",
        "from PIL import Image, ImageDraw\n",
        "import matplotlib.pyplot as plt\n",
        "from submission import output_submission_csv\n",
        "from classifier import SimpleClassifier, ResNet50#, AlexNet\n",
        "from voc_dataloader import VocDataset, VOC_CLASSES\n",
        "\n",
        "%matplotlib inline\n",
        "%load_ext autoreload\n",
        "%autoreload 2"
      ]
    },
    {
      "cell_type": "markdown",
      "metadata": {
        "id": "ZK0qJk6CYC8o"
      },
      "source": [
        "# Part 2B: Design your own network\n",
        "\n",
        "In this notebook, your task is to create and train your own model for multi-label classification on VOC Pascal.\n",
        "\n",
        "## What to do\n",
        "1. You will make change on network architecture in ```classifier.py```.\n",
        "2. You may also want to change other hyperparameters to assist your training to get a better performances. Hints will be given in the below instructions.\n"
      ]
    },
    {
      "cell_type": "code",
      "execution_count": 5,
      "metadata": {
        "id": "dA5v_3mwYC8o"
      },
      "outputs": [],
      "source": [
        "def train_classifier(train_loader, classifier, criterion, optimizer):\n",
        "    classifier.train()\n",
        "    loss_ = 0.0\n",
        "    losses = []\n",
        "    for i, (images, labels) in enumerate(train_loader):\n",
        "        images, labels = images.to(device), labels.to(device)\n",
        "        optimizer.zero_grad()\n",
        "        logits = classifier(images)\n",
        "        loss = criterion(logits, labels)\n",
        "        loss.backward()\n",
        "        optimizer.step()\n",
        "        losses.append(loss)\n",
        "    return torch.stack(losses).mean().item()"
      ]
    },
    {
      "cell_type": "code",
      "execution_count": 6,
      "metadata": {
        "id": "YiU7LwztYC8o"
      },
      "outputs": [],
      "source": [
        "def test_classifier(test_loader, classifier, criterion, print_ind_classes=True, print_total=True):\n",
        "    classifier.eval()\n",
        "    losses = []\n",
        "    with torch.no_grad():\n",
        "        y_true = np.zeros((0,21))\n",
        "        y_score = np.zeros((0,21))\n",
        "        for i, (images, labels) in enumerate(test_loader):\n",
        "            images, labels = images.to(device), labels.to(device)\n",
        "            logits = classifier(images)\n",
        "            y_true = np.concatenate((y_true, labels.cpu().numpy()), axis=0)\n",
        "            y_score = np.concatenate((y_score, logits.cpu().numpy()), axis=0)\n",
        "            loss = criterion(logits, labels)\n",
        "            losses.append(loss.item())\n",
        "        aps = []\n",
        "        # ignore first class which is background\n",
        "        for i in range(1, y_true.shape[1]):\n",
        "            ap = average_precision_score(y_true[:, i], y_score[:, i])\n",
        "            if print_ind_classes:\n",
        "                print('-------  Class: {:<12}     AP: {:>8.4f}  -------'.format(VOC_CLASSES[i], ap))\n",
        "            aps.append(ap)\n",
        "\n",
        "        mAP = np.mean(aps)\n",
        "        test_loss = np.mean(losses)\n",
        "        if print_total:\n",
        "            print('mAP: {0:.4f}'.format(mAP))\n",
        "            print('Avg loss: {}'.format(test_loss))\n",
        "\n",
        "    return mAP, test_loss, aps"
      ]
    },
    {
      "cell_type": "code",
      "execution_count": 7,
      "metadata": {
        "id": "B0DT1QARYC8p"
      },
      "outputs": [],
      "source": [
        "def plot_losses(train, val, test_frequency, num_epochs):\n",
        "    plt.plot(train, label=\"train\")\n",
        "    indices = [i for i in range(num_epochs) if ((i+1)%test_frequency == 0 or i ==0)]\n",
        "    plt.plot(indices, val, label=\"val\")\n",
        "    plt.title(\"Loss Plot\")\n",
        "    plt.ylabel(\"Loss\")\n",
        "    plt.xlabel(\"Epoch\")\n",
        "    plt.legend()\n",
        "    plt.show()\n",
        "\n",
        "def plot_mAP(train, val, test_frequency, num_epochs):\n",
        "    indices = [i for i in range(num_epochs) if ((i+1)%test_frequency == 0 or i ==0)]\n",
        "    plt.plot(indices, train, label=\"train\")\n",
        "    plt.plot(indices, val, label=\"val\")\n",
        "    plt.title(\"mAP Plot\")\n",
        "    plt.ylabel(\"mAP\")\n",
        "    plt.xlabel(\"Epoch\")\n",
        "    plt.legend()\n",
        "    plt.show()\n"
      ]
    },
    {
      "cell_type": "code",
      "execution_count": 8,
      "metadata": {
        "id": "cIJHyCHtYC8p"
      },
      "outputs": [],
      "source": [
        "def train(classifier, num_epochs, train_loader, val_loader, criterion, optimizer, test_frequency=5):\n",
        "    train_losses = []\n",
        "    train_mAPs = []\n",
        "    val_losses = []\n",
        "    val_mAPs = []\n",
        "\n",
        "    for epoch in range(1,num_epochs+1):\n",
        "        print(\"Starting epoch number \" + str(epoch))\n",
        "        train_loss = train_classifier(train_loader, classifier, criterion, optimizer)\n",
        "        train_losses.append(train_loss)\n",
        "        print(\"Loss for Training on Epoch \" +str(epoch) + \" is \"+ str(train_loss))\n",
        "        if(epoch%test_frequency==0 or epoch==1):\n",
        "            mAP_train, _, _ = test_classifier(train_loader, classifier, criterion, False, False)\n",
        "            train_mAPs.append(mAP_train)\n",
        "            mAP_val, val_loss, _ = test_classifier(val_loader, classifier, criterion)\n",
        "            print('Evaluating classifier')\n",
        "            print(\"Mean Precision Score for Testing on Epoch \" +str(epoch) + \" is \"+ str(mAP_val))\n",
        "            val_losses.append(val_loss)\n",
        "            val_mAPs.append(mAP_val)\n",
        "\n",
        "    return classifier, train_losses, val_losses, train_mAPs, val_mAPs"
      ]
    },
    {
      "cell_type": "markdown",
      "metadata": {
        "id": "S6ESuVYMYC8p"
      },
      "source": [
        "# Developing Your Own Model"
      ]
    },
    {
      "cell_type": "markdown",
      "metadata": {
        "id": "Zo3gDlK4YC8p"
      },
      "source": [
        "### Goal\n",
        "To meet the benchmark for this assignment you will need to improve the network. Note you should have noticed pretrained Alenxt performs really well, but training Alexnet from scratch performs much worse. We hope you can design a better architecture over both the simple classifier and AlexNet to train from scratch.\n",
        "\n",
        "### How to start\n",
        "You may take inspiration from other published architectures and architectures discussed in lecture. However, you are NOT allowed to use predefined models (e.g. models from torchvision) or use pretrained weights. Training must be done from scratch with your own custom model.\n",
        "\n",
        "#### Some hints\n",
        "There are a variety of different approaches you should try to improve performance from the simple classifier:\n",
        "\n",
        "* Network architecture changes\n",
        "    * Number of layers: try adding layers to make your network deeper\n",
        "    * Batch normalization: adding batch norm between layers will likely give you a significant performance increase\n",
        "    * Residual connections: as you increase the depth of your network, you will find that having residual connections like those in ResNet architectures will be helpful\n",
        "* Optimizer: Instead of plain SGD, you may want to add a learning rate schedule, add momentum, or use one of the other optimizers you have learned about like Adam. Check the `torch.optim` package for other optimizers\n",
        "* Data augmentation: You should use the `torchvision.transforms` module to try adding random resized crops and horizontal flips of the input data. Check `transforms.RandomResizedCrop` and `transforms.RandomHorizontalFlip` for this. Feel free to apply more [transforms](https://pytorch.org/docs/stable/torchvision/transforms.html) for data augmentation which can lead to better performance.\n",
        "* Epochs: Once you have found a generally good hyperparameter setting try training for more epochs\n",
        "* Loss function: You might want to add weighting to the `MultiLabelSoftMarginLoss` for classes that are less well represented or experiment with a different loss function\n",
        "\n",
        "\n",
        "\n",
        "#### Note\n",
        "We will soon be providing some initial expectations of mAP values as a function of epoch so you can get an early idea whether your implementation works without waiting a long time for training to converge.\n"
      ]
    },
    {
      "cell_type": "code",
      "source": [
        "!chmod +x download_data.sh\n",
        "!./download_data.sh"
      ],
      "metadata": {
        "id": "QLX0XZe7khfM",
        "outputId": "930153c1-391b-496e-dca2-bd541c8bbe99",
        "colab": {
          "base_uri": "https://localhost:8080/"
        }
      },
      "execution_count": 9,
      "outputs": [
        {
          "output_type": "stream",
          "name": "stdout",
          "text": [
            "--2025-05-14 16:13:15--  http://host.robots.ox.ac.uk/pascal/VOC/voc2007/VOCtrainval_06-Nov-2007.tar\n",
            "Resolving host.robots.ox.ac.uk (host.robots.ox.ac.uk)... 129.67.94.152\n",
            "Connecting to host.robots.ox.ac.uk (host.robots.ox.ac.uk)|129.67.94.152|:80... connected.\n",
            "HTTP request sent, awaiting response... 200 OK\n",
            "Length: 460032000 (439M) [application/x-tar]\n",
            "Saving to: ‘VOCtrainval_06-Nov-2007.tar’\n",
            "\n",
            "VOCtrainval_06-Nov- 100%[===================>] 438.72M  20.1MB/s    in 29s     \n",
            "\n",
            "2025-05-14 16:13:44 (15.2 MB/s) - ‘VOCtrainval_06-Nov-2007.tar’ saved [460032000/460032000]\n",
            "\n",
            "--2025-05-14 16:13:46--  http://host.robots.ox.ac.uk/pascal/VOC/voc2007/VOCtest_06-Nov-2007.tar\n",
            "Resolving host.robots.ox.ac.uk (host.robots.ox.ac.uk)... 129.67.94.152\n",
            "Connecting to host.robots.ox.ac.uk (host.robots.ox.ac.uk)|129.67.94.152|:80... connected.\n",
            "HTTP request sent, awaiting response... 200 OK\n",
            "Length: 451020800 (430M) [application/x-tar]\n",
            "Saving to: ‘VOCtest_06-Nov-2007.tar’\n",
            "\n",
            "VOCtest_06-Nov-2007 100%[===================>] 430.13M  25.8MB/s    in 19s     \n",
            "\n",
            "2025-05-14 16:14:06 (22.1 MB/s) - ‘VOCtest_06-Nov-2007.tar’ saved [451020800/451020800]\n",
            "\n"
          ]
        }
      ]
    },
    {
      "cell_type": "code",
      "execution_count": 38,
      "metadata": {
        "id": "yq1I1SFDYC8p"
      },
      "outputs": [],
      "source": [
        "device = torch.device(\"cuda:0\" if torch.cuda.is_available() else \"cpu\")\n",
        "\n",
        "normalize = transforms.Normalize(mean=[0.485, 0.456, 0.406],\n",
        "                                     std= [0.229, 0.224, 0.225])\n",
        "\n",
        "train_transform = transforms.Compose([\n",
        "            transforms.RandomResizedCrop(\n",
        "                224,\n",
        "                scale=(0.5, 1.0), # 이미지에서 50 ~ 100 면적 선택\n",
        "                ratio=(0.75, 1.33), # 가로 세로 비율\n",
        "            ),\n",
        "            transforms.RandomHorizontalFlip(), # 좌우 반전 50% 비율\n",
        "            transforms.ColorJitter( # 색상 및 조명 변형\n",
        "                brightness=0.2,\n",
        "                contrast=0.2,\n",
        "                saturation=0.2,\n",
        "                hue=0.1\n",
        "            ),\n",
        "\n",
        "            transforms.ToTensor(),\n",
        "            transforms.RandomErasing(\n",
        "                p=0.5,\n",
        "                scale=(0.02, 0.2),\n",
        "                ratio=(0.3, 3.3)\n",
        "            ),\n",
        "            normalize,\n",
        "        ])\n",
        "\n",
        "test_transform = transforms.Compose([\n",
        "            transforms.Resize(224),\n",
        "            transforms.CenterCrop(224),\n",
        "            transforms.ToTensor(),\n",
        "            normalize,\n",
        "        ])\n",
        "\n",
        "ds_train = VocDataset('VOCdevkit_2007/VOC2007/','train',train_transform)\n",
        "ds_val = VocDataset('VOCdevkit_2007/VOC2007/','val',test_transform)\n",
        "ds_test = VocDataset('VOCdevkit_2007/VOC2007test/','test', test_transform)\n"
      ]
    },
    {
      "cell_type": "code",
      "execution_count": 39,
      "metadata": {
        "id": "B8YPTDBZYC8q"
      },
      "outputs": [],
      "source": [
        "num_epochs = 40\n",
        "test_frequency = 5\n",
        "batch_size = 64\n",
        "\n",
        "train_loader = torch.utils.data.DataLoader(dataset=ds_train,\n",
        "                                               batch_size=batch_size,\n",
        "                                               shuffle=True,\n",
        "                                               num_workers=1)\n",
        "\n",
        "val_loader = torch.utils.data.DataLoader(dataset=ds_val,\n",
        "                                               batch_size=batch_size,\n",
        "                                               shuffle=True,\n",
        "                                               num_workers=1)\n",
        "\n",
        "test_loader = torch.utils.data.DataLoader(dataset=ds_test,\n",
        "                                               batch_size=batch_size,\n",
        "                                               shuffle=False,\n",
        "                                               num_workers=1)"
      ]
    },
    {
      "cell_type": "code",
      "source": [
        "# 희귀 클래스에 가중치를 좀 더 주어야 더 좋은 학습 결과를 얻을 수 있다\n",
        "# Human의 경우에는 분류 정확도가 엄청 높은데, 다른 클래스들은 10%대인 클래스가 존재함\n",
        "label_list = []\n",
        "for _, targets in train_loader:\n",
        "    label_list.append(targets.numpy())\n",
        "labels = np.vstack(label_list) # N * 21 형태로 변환\n",
        "\n",
        "positive = labels.sum(axis=0)\n",
        "print(positive)\n",
        "positive[positive == 0] = 1 # positive가 0개인 클래스가 있어서, 1개는 있다고 가정\n",
        "negative = labels.shape[0] - positive\n",
        "print(negative) # positive에 비해 negative가 훨씬 많음\n",
        "weight = negative / positive # 비율 구하기\n",
        "pos_weight = torch.tensor(weight, dtype=torch.float32).to(device) # tensor로 변환"
      ],
      "metadata": {
        "colab": {
          "base_uri": "https://localhost:8080/",
          "height": 807
        },
        "id": "zaPBoA4Wq8xD",
        "outputId": "bad1e328-a8ac-432e-ff23-9a3778871c4b"
      },
      "execution_count": 40,
      "outputs": [
        {
          "output_type": "error",
          "ename": "AttributeError",
          "evalue": "Caught AttributeError in DataLoader worker process 0.\nOriginal Traceback (most recent call last):\n  File \"/usr/local/lib/python3.11/dist-packages/torch/utils/data/_utils/worker.py\", line 349, in _worker_loop\n    data = fetcher.fetch(index)  # type: ignore[possibly-undefined]\n           ^^^^^^^^^^^^^^^^^^^^\n  File \"/usr/local/lib/python3.11/dist-packages/torch/utils/data/_utils/fetch.py\", line 52, in fetch\n    data = [self.dataset[idx] for idx in possibly_batched_index]\n           ^^^^^^^^^^^^^^^^^^^^^^^^^^^^^^^^^^^^^^^^^^^^^^^^^^^^^\n  File \"/usr/local/lib/python3.11/dist-packages/torch/utils/data/_utils/fetch.py\", line 52, in <listcomp>\n    data = [self.dataset[idx] for idx in possibly_batched_index]\n            ~~~~~~~~~~~~^^^^^\n  File \"/content/voc_dataloader.py\", line 72, in __getitem__\n    x = self.transform(x)\n        ^^^^^^^^^^^^^^^^^\n  File \"/usr/local/lib/python3.11/dist-packages/torchvision/transforms/transforms.py\", line 95, in __call__\n    img = t(img)\n          ^^^^^^\n  File \"/usr/local/lib/python3.11/dist-packages/torch/nn/modules/module.py\", line 1739, in _wrapped_call_impl\n    return self._call_impl(*args, **kwargs)\n           ^^^^^^^^^^^^^^^^^^^^^^^^^^^^^^^^\n  File \"/usr/local/lib/python3.11/dist-packages/torch/nn/modules/module.py\", line 1750, in _call_impl\n    return forward_call(*args, **kwargs)\n           ^^^^^^^^^^^^^^^^^^^^^^^^^^^^^\n  File \"/usr/local/lib/python3.11/dist-packages/torchvision/transforms/transforms.py\", line 1731, in forward\n    if value is not None and not (len(value) in (1, img.shape[-3])):\n                                                    ^^^^^^^^^\nAttributeError: 'Image' object has no attribute 'shape'\n",
          "traceback": [
            "\u001b[0;31m---------------------------------------------------------------------------\u001b[0m",
            "\u001b[0;31mAttributeError\u001b[0m                            Traceback (most recent call last)",
            "\u001b[0;32m<ipython-input-40-1bb54e88c107>\u001b[0m in \u001b[0;36m<cell line: 0>\u001b[0;34m()\u001b[0m\n\u001b[1;32m      2\u001b[0m \u001b[0;31m# Human의 경우에는 분류 정확도가 엄청 높은데, 다른 클래스들은 10%대인 클래스가 존재함\u001b[0m\u001b[0;34m\u001b[0m\u001b[0;34m\u001b[0m\u001b[0m\n\u001b[1;32m      3\u001b[0m \u001b[0mlabel_list\u001b[0m \u001b[0;34m=\u001b[0m \u001b[0;34m[\u001b[0m\u001b[0;34m]\u001b[0m\u001b[0;34m\u001b[0m\u001b[0;34m\u001b[0m\u001b[0m\n\u001b[0;32m----> 4\u001b[0;31m \u001b[0;32mfor\u001b[0m \u001b[0m_\u001b[0m\u001b[0;34m,\u001b[0m \u001b[0mtargets\u001b[0m \u001b[0;32min\u001b[0m \u001b[0mtrain_loader\u001b[0m\u001b[0;34m:\u001b[0m\u001b[0;34m\u001b[0m\u001b[0;34m\u001b[0m\u001b[0m\n\u001b[0m\u001b[1;32m      5\u001b[0m     \u001b[0mlabel_list\u001b[0m\u001b[0;34m.\u001b[0m\u001b[0mappend\u001b[0m\u001b[0;34m(\u001b[0m\u001b[0mtargets\u001b[0m\u001b[0;34m.\u001b[0m\u001b[0mnumpy\u001b[0m\u001b[0;34m(\u001b[0m\u001b[0;34m)\u001b[0m\u001b[0;34m)\u001b[0m\u001b[0;34m\u001b[0m\u001b[0;34m\u001b[0m\u001b[0m\n\u001b[1;32m      6\u001b[0m \u001b[0mlabels\u001b[0m \u001b[0;34m=\u001b[0m \u001b[0mnp\u001b[0m\u001b[0;34m.\u001b[0m\u001b[0mvstack\u001b[0m\u001b[0;34m(\u001b[0m\u001b[0mlabel_list\u001b[0m\u001b[0;34m)\u001b[0m \u001b[0;31m# N * 21 형태로 변환\u001b[0m\u001b[0;34m\u001b[0m\u001b[0;34m\u001b[0m\u001b[0m\n",
            "\u001b[0;32m/usr/local/lib/python3.11/dist-packages/torch/utils/data/dataloader.py\u001b[0m in \u001b[0;36m__next__\u001b[0;34m(self)\u001b[0m\n\u001b[1;32m    706\u001b[0m                 \u001b[0;31m# TODO(https://github.com/pytorch/pytorch/issues/76750)\u001b[0m\u001b[0;34m\u001b[0m\u001b[0;34m\u001b[0m\u001b[0m\n\u001b[1;32m    707\u001b[0m                 \u001b[0mself\u001b[0m\u001b[0;34m.\u001b[0m\u001b[0m_reset\u001b[0m\u001b[0;34m(\u001b[0m\u001b[0;34m)\u001b[0m  \u001b[0;31m# type: ignore[call-arg]\u001b[0m\u001b[0;34m\u001b[0m\u001b[0;34m\u001b[0m\u001b[0m\n\u001b[0;32m--> 708\u001b[0;31m             \u001b[0mdata\u001b[0m \u001b[0;34m=\u001b[0m \u001b[0mself\u001b[0m\u001b[0;34m.\u001b[0m\u001b[0m_next_data\u001b[0m\u001b[0;34m(\u001b[0m\u001b[0;34m)\u001b[0m\u001b[0;34m\u001b[0m\u001b[0;34m\u001b[0m\u001b[0m\n\u001b[0m\u001b[1;32m    709\u001b[0m             \u001b[0mself\u001b[0m\u001b[0;34m.\u001b[0m\u001b[0m_num_yielded\u001b[0m \u001b[0;34m+=\u001b[0m \u001b[0;36m1\u001b[0m\u001b[0;34m\u001b[0m\u001b[0;34m\u001b[0m\u001b[0m\n\u001b[1;32m    710\u001b[0m             if (\n",
            "\u001b[0;32m/usr/local/lib/python3.11/dist-packages/torch/utils/data/dataloader.py\u001b[0m in \u001b[0;36m_next_data\u001b[0;34m(self)\u001b[0m\n\u001b[1;32m   1478\u001b[0m                 \u001b[0;32mdel\u001b[0m \u001b[0mself\u001b[0m\u001b[0;34m.\u001b[0m\u001b[0m_task_info\u001b[0m\u001b[0;34m[\u001b[0m\u001b[0midx\u001b[0m\u001b[0;34m]\u001b[0m\u001b[0;34m\u001b[0m\u001b[0;34m\u001b[0m\u001b[0m\n\u001b[1;32m   1479\u001b[0m                 \u001b[0mself\u001b[0m\u001b[0;34m.\u001b[0m\u001b[0m_rcvd_idx\u001b[0m \u001b[0;34m+=\u001b[0m \u001b[0;36m1\u001b[0m\u001b[0;34m\u001b[0m\u001b[0;34m\u001b[0m\u001b[0m\n\u001b[0;32m-> 1480\u001b[0;31m                 \u001b[0;32mreturn\u001b[0m \u001b[0mself\u001b[0m\u001b[0;34m.\u001b[0m\u001b[0m_process_data\u001b[0m\u001b[0;34m(\u001b[0m\u001b[0mdata\u001b[0m\u001b[0;34m)\u001b[0m\u001b[0;34m\u001b[0m\u001b[0;34m\u001b[0m\u001b[0m\n\u001b[0m\u001b[1;32m   1481\u001b[0m \u001b[0;34m\u001b[0m\u001b[0m\n\u001b[1;32m   1482\u001b[0m     \u001b[0;32mdef\u001b[0m \u001b[0m_try_put_index\u001b[0m\u001b[0;34m(\u001b[0m\u001b[0mself\u001b[0m\u001b[0;34m)\u001b[0m\u001b[0;34m:\u001b[0m\u001b[0;34m\u001b[0m\u001b[0;34m\u001b[0m\u001b[0m\n",
            "\u001b[0;32m/usr/local/lib/python3.11/dist-packages/torch/utils/data/dataloader.py\u001b[0m in \u001b[0;36m_process_data\u001b[0;34m(self, data)\u001b[0m\n\u001b[1;32m   1503\u001b[0m         \u001b[0mself\u001b[0m\u001b[0;34m.\u001b[0m\u001b[0m_try_put_index\u001b[0m\u001b[0;34m(\u001b[0m\u001b[0;34m)\u001b[0m\u001b[0;34m\u001b[0m\u001b[0;34m\u001b[0m\u001b[0m\n\u001b[1;32m   1504\u001b[0m         \u001b[0;32mif\u001b[0m \u001b[0misinstance\u001b[0m\u001b[0;34m(\u001b[0m\u001b[0mdata\u001b[0m\u001b[0;34m,\u001b[0m \u001b[0mExceptionWrapper\u001b[0m\u001b[0;34m)\u001b[0m\u001b[0;34m:\u001b[0m\u001b[0;34m\u001b[0m\u001b[0;34m\u001b[0m\u001b[0m\n\u001b[0;32m-> 1505\u001b[0;31m             \u001b[0mdata\u001b[0m\u001b[0;34m.\u001b[0m\u001b[0mreraise\u001b[0m\u001b[0;34m(\u001b[0m\u001b[0;34m)\u001b[0m\u001b[0;34m\u001b[0m\u001b[0;34m\u001b[0m\u001b[0m\n\u001b[0m\u001b[1;32m   1506\u001b[0m         \u001b[0;32mreturn\u001b[0m \u001b[0mdata\u001b[0m\u001b[0;34m\u001b[0m\u001b[0;34m\u001b[0m\u001b[0m\n\u001b[1;32m   1507\u001b[0m \u001b[0;34m\u001b[0m\u001b[0m\n",
            "\u001b[0;32m/usr/local/lib/python3.11/dist-packages/torch/_utils.py\u001b[0m in \u001b[0;36mreraise\u001b[0;34m(self)\u001b[0m\n\u001b[1;32m    731\u001b[0m             \u001b[0;31m# instantiate since we don't know how to\u001b[0m\u001b[0;34m\u001b[0m\u001b[0;34m\u001b[0m\u001b[0m\n\u001b[1;32m    732\u001b[0m             \u001b[0;32mraise\u001b[0m \u001b[0mRuntimeError\u001b[0m\u001b[0;34m(\u001b[0m\u001b[0mmsg\u001b[0m\u001b[0;34m)\u001b[0m \u001b[0;32mfrom\u001b[0m \u001b[0;32mNone\u001b[0m\u001b[0;34m\u001b[0m\u001b[0;34m\u001b[0m\u001b[0m\n\u001b[0;32m--> 733\u001b[0;31m         \u001b[0;32mraise\u001b[0m \u001b[0mexception\u001b[0m\u001b[0;34m\u001b[0m\u001b[0;34m\u001b[0m\u001b[0m\n\u001b[0m\u001b[1;32m    734\u001b[0m \u001b[0;34m\u001b[0m\u001b[0m\n\u001b[1;32m    735\u001b[0m \u001b[0;34m\u001b[0m\u001b[0m\n",
            "\u001b[0;31mAttributeError\u001b[0m: Caught AttributeError in DataLoader worker process 0.\nOriginal Traceback (most recent call last):\n  File \"/usr/local/lib/python3.11/dist-packages/torch/utils/data/_utils/worker.py\", line 349, in _worker_loop\n    data = fetcher.fetch(index)  # type: ignore[possibly-undefined]\n           ^^^^^^^^^^^^^^^^^^^^\n  File \"/usr/local/lib/python3.11/dist-packages/torch/utils/data/_utils/fetch.py\", line 52, in fetch\n    data = [self.dataset[idx] for idx in possibly_batched_index]\n           ^^^^^^^^^^^^^^^^^^^^^^^^^^^^^^^^^^^^^^^^^^^^^^^^^^^^^\n  File \"/usr/local/lib/python3.11/dist-packages/torch/utils/data/_utils/fetch.py\", line 52, in <listcomp>\n    data = [self.dataset[idx] for idx in possibly_batched_index]\n            ~~~~~~~~~~~~^^^^^\n  File \"/content/voc_dataloader.py\", line 72, in __getitem__\n    x = self.transform(x)\n        ^^^^^^^^^^^^^^^^^\n  File \"/usr/local/lib/python3.11/dist-packages/torchvision/transforms/transforms.py\", line 95, in __call__\n    img = t(img)\n          ^^^^^^\n  File \"/usr/local/lib/python3.11/dist-packages/torch/nn/modules/module.py\", line 1739, in _wrapped_call_impl\n    return self._call_impl(*args, **kwargs)\n           ^^^^^^^^^^^^^^^^^^^^^^^^^^^^^^^^\n  File \"/usr/local/lib/python3.11/dist-packages/torch/nn/modules/module.py\", line 1750, in _call_impl\n    return forward_call(*args, **kwargs)\n           ^^^^^^^^^^^^^^^^^^^^^^^^^^^^^\n  File \"/usr/local/lib/python3.11/dist-packages/torchvision/transforms/transforms.py\", line 1731, in forward\n    if value is not None and not (len(value) in (1, img.shape[-3])):\n                                                    ^^^^^^^^^\nAttributeError: 'Image' object has no attribute 'shape'\n"
          ]
        }
      ]
    },
    {
      "cell_type": "code",
      "execution_count": 27,
      "metadata": {
        "id": "qbd-HqfQYC8q",
        "outputId": "89f1a793-0b41-48b6-cddb-0b7268204724",
        "colab": {
          "base_uri": "https://localhost:8080/"
        }
      },
      "outputs": [
        {
          "output_type": "stream",
          "name": "stdout",
          "text": [
            "Starting epoch number 1\n",
            "Loss for Training on Epoch 1 is 1.2178947925567627\n",
            "-------  Class: aeroplane        AP:   0.2705  -------\n",
            "-------  Class: bicycle          AP:   0.0942  -------\n",
            "-------  Class: bird             AP:   0.1231  -------\n",
            "-------  Class: boat             AP:   0.2152  -------\n",
            "-------  Class: bottle           AP:   0.1231  -------\n",
            "-------  Class: bus              AP:   0.0879  -------\n",
            "-------  Class: car              AP:   0.2539  -------\n",
            "-------  Class: cat              AP:   0.1670  -------\n",
            "-------  Class: chair            AP:   0.2393  -------\n",
            "-------  Class: cow              AP:   0.0522  -------\n",
            "-------  Class: diningtable      AP:   0.1574  -------\n",
            "-------  Class: dog              AP:   0.1563  -------\n",
            "-------  Class: horse            AP:   0.1204  -------\n",
            "-------  Class: motorbike        AP:   0.1061  -------\n",
            "-------  Class: person           AP:   0.4931  -------\n",
            "-------  Class: pottedplant      AP:   0.0693  -------\n",
            "-------  Class: sheep            AP:   0.0487  -------\n",
            "-------  Class: sofa             AP:   0.1541  -------\n",
            "-------  Class: train            AP:   0.0937  -------\n",
            "-------  Class: tvmonitor        AP:   0.0778  -------\n",
            "mAP: 0.1552\n",
            "Avg loss: 1.1627776473760605\n",
            "Evaluating classifier\n",
            "Mean Precision Score for Testing on Epoch 1 is 0.1551596084861963\n",
            "Starting epoch number 2\n",
            "Loss for Training on Epoch 2 is 1.105445384979248\n",
            "Starting epoch number 3\n",
            "Loss for Training on Epoch 3 is 1.060817837715149\n",
            "Starting epoch number 4\n",
            "Loss for Training on Epoch 4 is 0.9990663528442383\n",
            "Starting epoch number 5\n",
            "Loss for Training on Epoch 5 is 0.9727365970611572\n",
            "-------  Class: aeroplane        AP:   0.4630  -------\n",
            "-------  Class: bicycle          AP:   0.2413  -------\n",
            "-------  Class: bird             AP:   0.1888  -------\n",
            "-------  Class: boat             AP:   0.2482  -------\n",
            "-------  Class: bottle           AP:   0.1276  -------\n",
            "-------  Class: bus              AP:   0.1572  -------\n",
            "-------  Class: car              AP:   0.5090  -------\n",
            "-------  Class: cat              AP:   0.2191  -------\n",
            "-------  Class: chair            AP:   0.3393  -------\n",
            "-------  Class: cow              AP:   0.1030  -------\n",
            "-------  Class: diningtable      AP:   0.2681  -------\n",
            "-------  Class: dog              AP:   0.2111  -------\n",
            "-------  Class: horse            AP:   0.2090  -------\n",
            "-------  Class: motorbike        AP:   0.3004  -------\n",
            "-------  Class: person           AP:   0.5788  -------\n",
            "-------  Class: pottedplant      AP:   0.1345  -------\n",
            "-------  Class: sheep            AP:   0.1389  -------\n",
            "-------  Class: sofa             AP:   0.2758  -------\n",
            "-------  Class: train            AP:   0.3271  -------\n",
            "-------  Class: tvmonitor        AP:   0.2414  -------\n",
            "mAP: 0.2641\n",
            "Avg loss: 0.9377723336219788\n",
            "Evaluating classifier\n",
            "Mean Precision Score for Testing on Epoch 5 is 0.26408899813432024\n",
            "Starting epoch number 6\n",
            "Loss for Training on Epoch 6 is 0.9390612244606018\n",
            "Starting epoch number 7\n",
            "Loss for Training on Epoch 7 is 0.9135014414787292\n",
            "Starting epoch number 8\n",
            "Loss for Training on Epoch 8 is 0.9083506464958191\n",
            "Starting epoch number 9\n",
            "Loss for Training on Epoch 9 is 0.8816951513290405\n",
            "Starting epoch number 10\n",
            "Loss for Training on Epoch 10 is 0.864732027053833\n",
            "-------  Class: aeroplane        AP:   0.6041  -------\n",
            "-------  Class: bicycle          AP:   0.2486  -------\n",
            "-------  Class: bird             AP:   0.1638  -------\n",
            "-------  Class: boat             AP:   0.3950  -------\n",
            "-------  Class: bottle           AP:   0.1765  -------\n",
            "-------  Class: bus              AP:   0.2681  -------\n",
            "-------  Class: car              AP:   0.5278  -------\n",
            "-------  Class: cat              AP:   0.3234  -------\n",
            "-------  Class: chair            AP:   0.4030  -------\n",
            "-------  Class: cow              AP:   0.1245  -------\n",
            "-------  Class: diningtable      AP:   0.3049  -------\n",
            "-------  Class: dog              AP:   0.2612  -------\n",
            "-------  Class: horse            AP:   0.4036  -------\n",
            "-------  Class: motorbike        AP:   0.2967  -------\n",
            "-------  Class: person           AP:   0.6115  -------\n",
            "-------  Class: pottedplant      AP:   0.1949  -------\n",
            "-------  Class: sheep            AP:   0.2132  -------\n",
            "-------  Class: sofa             AP:   0.2840  -------\n",
            "-------  Class: train            AP:   0.4950  -------\n",
            "-------  Class: tvmonitor        AP:   0.2542  -------\n",
            "mAP: 0.3277\n",
            "Avg loss: 0.872496335208416\n",
            "Evaluating classifier\n",
            "Mean Precision Score for Testing on Epoch 10 is 0.32769146123217147\n",
            "Starting epoch number 11\n",
            "Loss for Training on Epoch 11 is 0.8434836864471436\n",
            "Starting epoch number 12\n",
            "Loss for Training on Epoch 12 is 0.8366292119026184\n",
            "Starting epoch number 13\n",
            "Loss for Training on Epoch 13 is 0.8253782391548157\n",
            "Starting epoch number 14\n",
            "Loss for Training on Epoch 14 is 0.7983212471008301\n",
            "Starting epoch number 15\n",
            "Loss for Training on Epoch 15 is 0.7905118465423584\n",
            "-------  Class: aeroplane        AP:   0.6591  -------\n",
            "-------  Class: bicycle          AP:   0.3198  -------\n",
            "-------  Class: bird             AP:   0.2142  -------\n",
            "-------  Class: boat             AP:   0.3921  -------\n",
            "-------  Class: bottle           AP:   0.1647  -------\n",
            "-------  Class: bus              AP:   0.3505  -------\n",
            "-------  Class: car              AP:   0.5788  -------\n",
            "-------  Class: cat              AP:   0.3194  -------\n",
            "-------  Class: chair            AP:   0.3700  -------\n",
            "-------  Class: cow              AP:   0.2039  -------\n",
            "-------  Class: diningtable      AP:   0.3439  -------\n",
            "-------  Class: dog              AP:   0.2443  -------\n",
            "-------  Class: horse            AP:   0.3198  -------\n",
            "-------  Class: motorbike        AP:   0.3263  -------\n",
            "-------  Class: person           AP:   0.6843  -------\n",
            "-------  Class: pottedplant      AP:   0.1420  -------\n",
            "-------  Class: sheep            AP:   0.2530  -------\n",
            "-------  Class: sofa             AP:   0.3460  -------\n",
            "-------  Class: train            AP:   0.4740  -------\n",
            "-------  Class: tvmonitor        AP:   0.2901  -------\n",
            "mAP: 0.3498\n",
            "Avg loss: 0.9703164458274841\n",
            "Evaluating classifier\n",
            "Mean Precision Score for Testing on Epoch 15 is 0.3498218798221731\n",
            "Starting epoch number 16\n",
            "Loss for Training on Epoch 16 is 0.781867504119873\n",
            "Starting epoch number 17\n",
            "Loss for Training on Epoch 17 is 0.7672194838523865\n",
            "Starting epoch number 18\n",
            "Loss for Training on Epoch 18 is 0.7610727548599243\n",
            "Starting epoch number 19\n",
            "Loss for Training on Epoch 19 is 0.7421913743019104\n",
            "Starting epoch number 20\n",
            "Loss for Training on Epoch 20 is 0.734959602355957\n",
            "-------  Class: aeroplane        AP:   0.7300  -------\n",
            "-------  Class: bicycle          AP:   0.4087  -------\n",
            "-------  Class: bird             AP:   0.3715  -------\n",
            "-------  Class: boat             AP:   0.5107  -------\n",
            "-------  Class: bottle           AP:   0.2259  -------\n",
            "-------  Class: bus              AP:   0.3812  -------\n",
            "-------  Class: car              AP:   0.6086  -------\n",
            "-------  Class: cat              AP:   0.4034  -------\n",
            "-------  Class: chair            AP:   0.5031  -------\n",
            "-------  Class: cow              AP:   0.2913  -------\n",
            "-------  Class: diningtable      AP:   0.4143  -------\n",
            "-------  Class: dog              AP:   0.3288  -------\n",
            "-------  Class: horse            AP:   0.4551  -------\n",
            "-------  Class: motorbike        AP:   0.4812  -------\n",
            "-------  Class: person           AP:   0.7195  -------\n",
            "-------  Class: pottedplant      AP:   0.2388  -------\n",
            "-------  Class: sheep            AP:   0.2768  -------\n",
            "-------  Class: sofa             AP:   0.4382  -------\n",
            "-------  Class: train            AP:   0.5758  -------\n",
            "-------  Class: tvmonitor        AP:   0.4440  -------\n",
            "mAP: 0.4403\n",
            "Avg loss: 0.6906952172517776\n",
            "Evaluating classifier\n",
            "Mean Precision Score for Testing on Epoch 20 is 0.44034234070667744\n",
            "Starting epoch number 21\n",
            "Loss for Training on Epoch 21 is 0.7172731161117554\n",
            "Starting epoch number 22\n",
            "Loss for Training on Epoch 22 is 0.6948691606521606\n",
            "Starting epoch number 23\n",
            "Loss for Training on Epoch 23 is 0.6976309418678284\n",
            "Starting epoch number 24\n",
            "Loss for Training on Epoch 24 is 0.6846686005592346\n",
            "Starting epoch number 25\n",
            "Loss for Training on Epoch 25 is 0.6955458521842957\n",
            "-------  Class: aeroplane        AP:   0.7616  -------\n",
            "-------  Class: bicycle          AP:   0.4350  -------\n",
            "-------  Class: bird             AP:   0.3817  -------\n",
            "-------  Class: boat             AP:   0.5192  -------\n",
            "-------  Class: bottle           AP:   0.2812  -------\n",
            "-------  Class: bus              AP:   0.5104  -------\n",
            "-------  Class: car              AP:   0.6994  -------\n",
            "-------  Class: cat              AP:   0.4870  -------\n",
            "-------  Class: chair            AP:   0.5024  -------\n",
            "-------  Class: cow              AP:   0.3807  -------\n",
            "-------  Class: diningtable      AP:   0.5318  -------\n",
            "-------  Class: dog              AP:   0.3526  -------\n",
            "-------  Class: horse            AP:   0.6247  -------\n",
            "-------  Class: motorbike        AP:   0.5185  -------\n",
            "-------  Class: person           AP:   0.7716  -------\n",
            "-------  Class: pottedplant      AP:   0.2979  -------\n",
            "-------  Class: sheep            AP:   0.4184  -------\n",
            "-------  Class: sofa             AP:   0.4189  -------\n",
            "-------  Class: train            AP:   0.7041  -------\n",
            "-------  Class: tvmonitor        AP:   0.4732  -------\n",
            "mAP: 0.5035\n",
            "Avg loss: 0.6227177247405052\n",
            "Evaluating classifier\n",
            "Mean Precision Score for Testing on Epoch 25 is 0.5035165256806153\n",
            "Starting epoch number 26\n",
            "Loss for Training on Epoch 26 is 0.6899924278259277\n",
            "Starting epoch number 27\n",
            "Loss for Training on Epoch 27 is 0.6685536503791809\n",
            "Starting epoch number 28\n",
            "Loss for Training on Epoch 28 is 0.6487293839454651\n",
            "Starting epoch number 29\n",
            "Loss for Training on Epoch 29 is 0.6330971121788025\n",
            "Starting epoch number 30\n",
            "Loss for Training on Epoch 30 is 0.6089491248130798\n",
            "-------  Class: aeroplane        AP:   0.6546  -------\n",
            "-------  Class: bicycle          AP:   0.4808  -------\n",
            "-------  Class: bird             AP:   0.3061  -------\n",
            "-------  Class: boat             AP:   0.5814  -------\n",
            "-------  Class: bottle           AP:   0.2414  -------\n",
            "-------  Class: bus              AP:   0.5476  -------\n",
            "-------  Class: car              AP:   0.6608  -------\n",
            "-------  Class: cat              AP:   0.4816  -------\n",
            "-------  Class: chair            AP:   0.5061  -------\n",
            "-------  Class: cow              AP:   0.4234  -------\n",
            "-------  Class: diningtable      AP:   0.3877  -------\n",
            "-------  Class: dog              AP:   0.3531  -------\n",
            "-------  Class: horse            AP:   0.6035  -------\n",
            "-------  Class: motorbike        AP:   0.4540  -------\n",
            "-------  Class: person           AP:   0.7484  -------\n",
            "-------  Class: pottedplant      AP:   0.2390  -------\n",
            "-------  Class: sheep            AP:   0.4246  -------\n",
            "-------  Class: sofa             AP:   0.5243  -------\n",
            "-------  Class: train            AP:   0.7022  -------\n",
            "-------  Class: tvmonitor        AP:   0.4876  -------\n",
            "mAP: 0.4904\n",
            "Avg loss: 0.6404367044568062\n",
            "Evaluating classifier\n",
            "Mean Precision Score for Testing on Epoch 30 is 0.49040288112934804\n"
          ]
        }
      ],
      "source": [
        "# TODO: Run your own classifier here\n",
        "classifier = ResNet50().to(device)\n",
        "\n",
        "# criterion = nn.MultiLabelSoftMarginLoss()\n",
        "criterion = nn.BCEWithLogitsLoss(pos_weight=pos_weight) # 클래스가 불균형하므로 BCEWithLogitsLoss 사용해야 함\n",
        "\n",
        "optimizer = torch.optim.AdamW(classifier.parameters(), lr=3e-4, weight_decay=1e-4)\n",
        "\n",
        "classifier, train_losses, val_losses, train_mAPs, val_mAPs = train(classifier, num_epochs, train_loader, val_loader, criterion, optimizer, test_frequency)\n"
      ]
    },
    {
      "cell_type": "code",
      "execution_count": 32,
      "metadata": {
        "id": "3CS7N2vnYC8q",
        "outputId": "255a7c62-645d-4878-97d2-16df456a9df5",
        "colab": {
          "base_uri": "https://localhost:8080/",
          "height": 927
        }
      },
      "outputs": [
        {
          "output_type": "display_data",
          "data": {
            "text/plain": [
              "<Figure size 640x480 with 1 Axes>"
            ],
            "image/png": "[encoded data removed]"
          },
          "metadata": {}
        },
        {
          "output_type": "display_data",
          "data": {
            "text/plain": [
              "<Figure size 640x480 with 1 Axes>"
            ],
            "image/png": "[encoded data removed]"
          },
          "metadata": {}
        }
      ],
      "source": [
        "plot_losses(train_losses, val_losses, test_frequency, num_epochs)\n",
        "plot_mAP(train_mAPs, val_mAPs, test_frequency, num_epochs)"
      ]
    },
    {
      "cell_type": "code",
      "execution_count": 29,
      "metadata": {
        "id": "S6Ov7QilYC8q",
        "outputId": "d34dbf35-483b-4d0e-8571-76466f584999",
        "colab": {
          "base_uri": "https://localhost:8080/"
        }
      },
      "outputs": [
        {
          "output_type": "stream",
          "name": "stdout",
          "text": [
            "-------  Class: aeroplane        AP:   0.5281  -------\n",
            "-------  Class: bicycle          AP:   0.3495  -------\n",
            "-------  Class: bird             AP:   0.2243  -------\n",
            "-------  Class: boat             AP:   0.4274  -------\n",
            "-------  Class: bottle           AP:   0.1758  -------\n",
            "-------  Class: bus              AP:   0.3303  -------\n",
            "-------  Class: car              AP:   0.6092  -------\n",
            "-------  Class: cat              AP:   0.3713  -------\n",
            "-------  Class: chair            AP:   0.4318  -------\n",
            "-------  Class: cow              AP:   0.2194  -------\n",
            "-------  Class: diningtable      AP:   0.2497  -------\n",
            "-------  Class: dog              AP:   0.3117  -------\n",
            "-------  Class: horse            AP:   0.5857  -------\n",
            "-------  Class: motorbike        AP:   0.3874  -------\n",
            "-------  Class: person           AP:   0.7179  -------\n",
            "-------  Class: pottedplant      AP:   0.1865  -------\n",
            "-------  Class: sheep            AP:   0.3057  -------\n",
            "-------  Class: sofa             AP:   0.3774  -------\n",
            "-------  Class: train            AP:   0.5742  -------\n",
            "-------  Class: tvmonitor        AP:   0.3818  -------\n",
            "mAP: 0.3873\n",
            "Avg loss: 0.8562598824501038\n",
            "0.38725592958346694\n"
          ]
        }
      ],
      "source": [
        "mAP_test, test_loss, test_aps = test_classifier(test_loader, classifier, criterion)\n",
        "print(mAP_test)"
      ]
    },
    {
      "cell_type": "code",
      "execution_count": 28,
      "metadata": {
        "id": "pY6zXt31YC8q"
      },
      "outputs": [],
      "source": [
        "torch.save(classifier.state_dict(), './voc_my_best_classifier.pth')\n",
        "output_submission_csv('my_solution.csv', test_aps)"
      ]
    }
  ],
  "metadata": {
    "kernelspec": {
      "display_name": "Python 3",
      "name": "python3"
    },
    "language_info": {
      "codemirror_mode": {
        "name": "ipython",
        "version": 3
      },
      "file_extension": ".py",
      "mimetype": "text/x-python",
      "name": "python",
      "nbconvert_exporter": "python",
      "pygments_lexer": "ipython3",
      "version": "3.9.18"
    },
    "colab": {
      "provenance": [],
      "gpuType": "T4"
    },
    "accelerator": "GPU"
  },
  "nbformat": 4,
  "nbformat_minor": 0
}