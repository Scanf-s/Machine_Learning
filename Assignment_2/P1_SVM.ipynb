{
 "cells": [
  {
   "cell_type": "markdown",
   "metadata": {
    "colab_type": "text",
    "id": "TBq3yEPxSEWC"
   },
   "source": [
    "# Assignment 2 \n",
    "## Part 1: Non-Linear Classification with SVM"
   ]
  },
  {
   "attachments": {},
   "cell_type": "markdown",
   "metadata": {
    "colab_type": "text",
    "id": "BFMzEfKaDOdI"
   },
   "source": [
    "In this assignment, you will implement your SVM with kernels using sklearn to classify non-linear data. Note that you must save your Notebook and submit that version.\n"
   ]
  },
  {
   "cell_type": "markdown",
   "metadata": {
    "colab_type": "text",
    "id": "xxGTRvPXTeDj"
   },
   "source": [
    "## DATA SET AND VISUALIZATION FUNCTION\n",
    "We will use the non-linear toy data called the Moon dataset. You may use the code snippet below to generate the train/test set. Feel free to change the number of samples, and noise level. Additionally, a function plot_svm() is provided to help you visualize the decision boundary, margin, and support vectors on the dataset in 2D feature space.\n",
    "\n",
    "The provided function plot_svm() works out-the-box, and is the best way to visualize and evaluate the performance of your model. It assumes the classifier has an instance variable \"self.support_vectors_\", which is a numpy array of the support vectors found in training. DO NOT modify this function."
   ]
  },
  {
   "cell_type": "code",
   "execution_count": 1,
   "metadata": {
    "colab": {},
    "colab_type": "code",
    "id": "0Wht-_GHTXrn"
   },
   "outputs": [],
   "source": [
    "from sklearn.datasets import make_moons\n",
    "from sklearn.model_selection import train_test_split\n",
    "from sklearn.metrics import confusion_matrix\n",
    "from sklearn.metrics import precision_score, recall_score\n",
    "\n",
    "X, y = make_moons (n_samples = 500, noise = 0.15, random_state = 49)\n",
    "y = y*2-1.0 # convert the labels from {0,1} to {-1, +1}\n",
    "\n",
    "X_train, X_test, y_train, y_test = train_test_split(X, y, test_size=0.2,\n",
    "                                                    random_state=42)\n",
    "\n",
    "import matplotlib.pyplot as plt\n",
    "\n",
    "def plot_svm (clf, X, y, axes=[-2, 3, -2, 2]):\n",
    "    \"\"\"\n",
    "    Generate a simple plot of SVM including the decision boundary, margin, and its training data\n",
    "    \n",
    "    Parameters\n",
    "    ----------\n",
    "    clf: your classifier handle\n",
    "    X: feature matrix shape(m_samples, n_features)\n",
    "    y: label vector shape(m_samples, )\n",
    "    axes: (optional) the axes of the plot in format [xmin, xmax, ymin, ymax] \n",
    "    \"\"\"\n",
    "    # Create a mesh grid based on the provided axes (100 x 100 resolution)\n",
    "    x0s = np.linspace(axes[0], axes[1], 100)\n",
    "    x1s = np.linspace(axes[2], axes[3], 100)\n",
    "    x0, x1 = np.meshgrid(x0s,x1s) # create a mesh grid\n",
    "    X_mesh = np.c_[x0.ravel(), x1.ravel()] # convert all mesh points into 2-D points\n",
    "    y_pred = clf.predict(X_mesh).reshape(x0.shape) # predict then covert back to the 2-D\n",
    "    y_decision = clf.decision_function(X_mesh).reshape(x0.shape)\n",
    "\n",
    "    plt.figsize=(16, 9)\n",
    "    plt.plot(X[:, 0][y==-1], X[:, 1][y==-1], \"bo\", label=\"Class -1\")\n",
    "    plt.plot(X[:, 0][y==1], X[:, 1][y==1], \"go\", label=\"Class +1\")\n",
    "    # Plot out the support vectors (in red)\n",
    "    plt.scatter(clf.support_vectors_[:,0], clf.support_vectors_[:,1], s=80, c=\"r\", label=\"Support Vectors\")\n",
    "    # Plot decision boundary and margins\n",
    "    plt.contourf(x0,x1, y_pred, cmap = plt.cm.brg, alpha = 0.1)\n",
    "    plt.contourf(x0,x1, y_decision, cmap = plt.cm.brg, alpha = 0.2)\n",
    "    plt.contour(x0, x1, y_decision, colors='k',\n",
    "                 levels=[-1, 0, 1], alpha=0.5,\n",
    "                 linestyles=['--', '-', '--'])\n",
    "    plt.legend(loc=\"lower right\")\n",
    "    plt.axis(\"auto\")\n",
    "\n",
    "    plt.grid(True, which='both')\n",
    "    plt.xlabel(r\"$x_1$\", fontsize=20)\n",
    "    plt.ylabel(r\"$x_2$\", fontsize=20, rotation=0) "
   ]
  },
  {
   "attachments": {},
   "cell_type": "markdown",
   "metadata": {
    "colab_type": "text",
    "id": "b_aV2q47DOdT"
   },
   "source": [
    "- - -\n",
    "## A. TRAIN SVM FOR CLASSIFICATION TASK (15 pts)\n",
    "\n",
    "Use the standard libarary SVM classifier (SVC) on the training data, and then test the classifier on the test data. You will need to call SVM with 3 kernels: (1) Linear, (2) Polynomial and (3) Gaussian RBF. \n",
    "\n",
    "### What to do\n",
    "You should tune each model using a grid search or similar hyperparameter selection process, and report the best hyperparameters found. Once you've selected the best hyperparameters for each kernel, you will need to report the following:\n",
    "\n",
    "* Confusion matrix, Recall, and Precision. If applicable, discuss any tuning process on hyperparameters to get to a reasonable result.\n",
    "* Use the provided plot_svm() to visualize the SVM in 2D. This might give you some insight on how SVM determines the margin and support vector on the Moon dataset.\n"
   ]
  },
  {
   "cell_type": "code",
   "execution_count": 2,
   "metadata": {
    "colab": {},
    "colab_type": "code",
    "id": "n5yxy7kgcvZx"
   },
   "outputs": [],
   "source": [
    "from sklearn.svm import SVC\n",
    "from sklearn.pipeline import Pipeline\n",
    "from sklearn.preprocessing import StandardScaler\n",
    "from sklearn.model_selection import RandomizedSearchCV\n",
    "from sklearn.metrics import confusion_matrix, precision_score, recall_score\n",
    "from scipy.stats import randint, uniform\n",
    "import numpy as np\n",
    "\n",
    "\n",
    "# Your code here\n",
    "# Linear\n",
    "\n",
    "\n",
    "\n",
    "# Polynomial\n",
    "\n",
    "\n",
    "\n",
    "# RBF\n",
    "\n",
    "\n"
   ]
  }
 ],
 "metadata": {
  "colab": {
   "collapsed_sections": [],
   "name": "xl9yr__assignment_2_svm.ipynb",
   "provenance": []
  },
  "kernelspec": {
   "display_name": "deyo_env",
   "language": "python",
   "name": "deyo_env"
  },
  "language_info": {
   "codemirror_mode": {
    "name": "ipython",
    "version": 3
   },
   "file_extension": ".py",
   "mimetype": "text/x-python",
   "name": "python",
   "nbconvert_exporter": "python",
   "pygments_lexer": "ipython3",
   "version": "3.7.16"
  }
 },
 "nbformat": 4,
 "nbformat_minor": 4
}
